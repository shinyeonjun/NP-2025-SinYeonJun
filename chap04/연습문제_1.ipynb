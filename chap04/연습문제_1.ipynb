{
 "cells": [
  {
   "cell_type": "markdown",
   "id": "25a9930e",
   "metadata": {},
   "source": [
    "## 4장 연습문제-1\n",
    "\n",
    "이 파일은 4장 학습하면서 연습문제를 푼 것입니다.\n",
    "\n",
    "날짜: 2025.9.10\n",
    "\n",
    "학번: 202110763\n",
    "\n",
    "이름: 신연준\n"
   ]
  },
  {
   "cell_type": "markdown",
   "id": "e2f8c70b",
   "metadata": {},
   "source": [
    "1. 3명 이상 친구 이름 리스트를 작성하고 다음 내용을 프로그램하시오  \n",
    "• insert()로 맨 앞에 새로운 친구 추가  \n",
    "• insert()로 3번째 위치에 새로운 친구 추가  \n",
    "• append()로 마지막에 친구 추가  \n"
   ]
  },
  {
   "cell_type": "code",
   "execution_count": null,
   "id": "875b2cd7",
   "metadata": {},
   "outputs": [],
   "source": [
    "# 3명 이상 친구 이름 리스트 생성\n",
    "friends = ['신연준', '윤동현', '문효원']\n",
    "\n",
    "# 맨 앞에 새로운 친구 추가\n",
    "friends.insert(0, '안치성')\n",
    "\n",
    "# 3번째 위치에 새로운 친구 추가\n",
    "friends.insert(3, '서하제')\n",
    "\n",
    "# 마지막에 친구 추가\n",
    "friends.append('최민호')"
   ]
  },
  {
   "cell_type": "markdown",
   "id": "aa5649d6",
   "metadata": {},
   "source": [
    "2. 리스트 [1, 2, 3]에 대해 다음과 같은 처리를 하라.  \n",
    "• 두 번째 요소를 17로 수정  \n",
    "• 리스트에 4, 5, 6을 추가  \n",
    "• 첫 번째 요소 제거  \n",
    "• 리스트를 요소 순서대로 배열하기  \n",
    "• 인덱스 3에 25넣기  "
   ]
  },
  {
   "cell_type": "code",
   "execution_count": 1,
   "id": "66960aab",
   "metadata": {},
   "outputs": [
    {
     "name": "stdout",
     "output_type": "stream",
     "text": [
      "[3, 4, 5, 25, 6, 17]\n"
     ]
    }
   ],
   "source": [
    "# 리스트 생성\n",
    "list1 = [1, 2, 3]\n",
    "\n",
    "# 두 번째 요소를 17로 수정\n",
    "list1[1] = 17\n",
    "\n",
    "# 리스트에 4, 5, 6을 추가\n",
    "list1.extend([4, 5, 6])\n",
    "\n",
    "# 첫 번째 요소 제거\n",
    "list1.pop(0)\n",
    "\n",
    "# 리스트를 요소 순서대로 배열하기\n",
    "list1.sort()\n",
    "list1.insert(3, 25)\n",
    "print(list1)"
   ]
  }
 ],
 "metadata": {
  "kernelspec": {
   "display_name": "Python 3",
   "language": "python",
   "name": "python3"
  },
  "language_info": {
   "codemirror_mode": {
    "name": "ipython",
    "version": 3
   },
   "file_extension": ".py",
   "mimetype": "text/x-python",
   "name": "python",
   "nbconvert_exporter": "python",
   "pygments_lexer": "ipython3",
   "version": "3.13.7"
  }
 },
 "nbformat": 4,
 "nbformat_minor": 5
}
