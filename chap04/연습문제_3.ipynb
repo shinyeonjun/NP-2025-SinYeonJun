{
 "cells": [
  {
   "cell_type": "markdown",
   "id": "b4d13b8f",
   "metadata": {},
   "source": [
    "## 4장 연습문제-1\n",
    "\n",
    "이 파일은 4장 학습하면서 연습문제를 푼 것입니다.\n",
    "\n",
    "날짜: 2025.9.10\n",
    "\n",
    "학번: 202110763\n",
    "\n",
    "이름: 신연준\n"
   ]
  },
  {
   "cell_type": "markdown",
   "id": "b4a03f25",
   "metadata": {},
   "source": [
    "## 연습문제-1\n",
    "\n",
    "다음 딕셔너리에 대해 물음에 답하라.\n",
    "\n",
    "```python\n",
    "days = {'January':31, 'February':28, 'March':31, 'April':30,\n",
    "        'May':31, 'June':30, 'July':31, 'August':31,\n",
    "        'September':30, 'October':31, 'November':30, 'December':31}\n",
    "```\n"
   ]
  },
  {
   "cell_type": "markdown",
   "id": "72a406e2",
   "metadata": {},
   "source": [
    "### 문제 1\n",
    "사용자가 월을 입력하면 해당 월에 일수를 출력하라\n"
   ]
  },
  {
   "cell_type": "code",
   "execution_count": null,
   "id": "56301edb",
   "metadata": {},
   "outputs": [],
   "source": [
    "# 문제 1 해결\n",
    "days = {'January':31, 'February':28, 'March':31, 'April':30,\n",
    "        'May':31, 'June':30, 'July':31, 'August':31,\n",
    "        'September':30, 'October':31, 'November':30, 'December':31}\n",
    "\n",
    "month = input(\"월을 입력하세요: \")\n",
    "if month in days:\n",
    "    print(f\"{month}은(는) {days[month]}일입니다.\")\n",
    "else:\n",
    "    print(\"올바른 월을 입력해주세요.\")\n"
   ]
  },
  {
   "cell_type": "markdown",
   "id": "8f94a8bf",
   "metadata": {},
   "source": [
    "### 문제 2\n",
    "알파벳 순서로 모든 월을 출력하라\n"
   ]
  },
  {
   "cell_type": "code",
   "execution_count": null,
   "id": "2eea772f",
   "metadata": {},
   "outputs": [],
   "source": [
    "# 문제 2 해결\n",
    "days = {'January':31, 'February':28, 'March':31, 'April':30,\n",
    "        'May':31, 'June':30, 'July':31, 'August':31,\n",
    "        'September':30, 'October':31, 'November':30, 'December':31}\n",
    "\n",
    "# 알파벳 순서로 정렬\n",
    "sorted_months = sorted(days.keys())\n",
    "print(\"알파벳 순서로 정렬된 월들:\")\n",
    "for month in sorted_months:\n",
    "    print(month)\n"
   ]
  },
  {
   "cell_type": "markdown",
   "id": "6abccd2a",
   "metadata": {},
   "source": [
    "### 문제 3\n",
    "일수가 31인 월을 모두 출력하라\n"
   ]
  },
  {
   "cell_type": "code",
   "execution_count": null,
   "id": "8aed9c38",
   "metadata": {},
   "outputs": [],
   "source": [
    "# 문제 3 해결\n",
    "days = {'January':31, 'February':28, 'March':31, 'April':30,\n",
    "        'May':31, 'June':30, 'July':31, 'August':31,\n",
    "        'September':30, 'October':31, 'November':30, 'December':31}\n",
    "\n",
    "# 일수가 31인 월들 찾기\n",
    "months_31_days = []\n",
    "for month, day_count in days.items():\n",
    "    if day_count == 31:\n",
    "        months_31_days.append(month)\n",
    "\n",
    "print(\"일수가 31인 월들:\")\n",
    "for month in months_31_days:\n",
    "    print(f\"{month}: {days[month]}일\")\n"
   ]
  },
  {
   "cell_type": "markdown",
   "id": "7ab760a5",
   "metadata": {},
   "source": [
    "### 문제 4\n",
    "월의 일수를 기준으로 오름차순으로 (key-value) 쌍을 출력하라\n"
   ]
  },
  {
   "cell_type": "code",
   "execution_count": null,
   "id": "1c0539d8",
   "metadata": {},
   "outputs": [],
   "source": [
    "# 문제 4 해결\n",
    "days = {'January':31, 'February':28, 'March':31, 'April':30,\n",
    "        'May':31, 'June':30, 'July':31, 'August':31,\n",
    "        'September':30, 'October':31, 'November':30, 'December':31}\n",
    "\n",
    "# 일수를 기준으로 오름차순 정렬\n",
    "sorted_by_days = sorted(days.items(), key=lambda x: x[1])\n",
    "\n",
    "print(\"일수를 기준으로 오름차순 정렬된 (월, 일수) 쌍:\")\n",
    "for month, day_count in sorted_by_days:\n",
    "    print(f\"{month}: {day_count}일\")\n"
   ]
  },
  {
   "cell_type": "markdown",
   "id": "f03c7d0d",
   "metadata": {},
   "source": [
    "### 문제 5\n",
    "사용자가 월을 3자리만 입력하면 월의 일수를 출력하라.(Jan, Feb 등)\n"
   ]
  },
  {
   "cell_type": "code",
   "execution_count": null,
   "id": "5f558a40",
   "metadata": {},
   "outputs": [],
   "source": [
    "# 문제 5 해결\n",
    "days = {'January':31, 'February':28, 'March':31, 'April':30,\n",
    "        'May':31, 'June':30, 'July':31, 'August':31,\n",
    "        'September':30, 'October':31, 'November':30, 'December':31}\n",
    "\n",
    "# 3자리 약어를 전체 월 이름으로 매핑하는 딕셔너리\n",
    "month_abbrev = {\n",
    "    'Jan': 'January', 'Feb': 'February', 'Mar': 'March', 'Apr': 'April',\n",
    "    'May': 'May', 'Jun': 'June', 'Jul': 'July', 'Aug': 'August',\n",
    "    'Sep': 'September', 'Oct': 'October', 'Nov': 'November', 'Dec': 'December'\n",
    "}\n",
    "\n",
    "month_input = input(\"월을 입력하세요 (전체 이름 또는 3자리 약어): \")\n",
    "\n",
    "# 3자리 약어인지 확인\n",
    "if len(month_input) == 3 and month_input in month_abbrev:\n",
    "    full_month = month_abbrev[month_input]\n",
    "    print(f\"{month_input} ({full_month})은(는) {days[full_month]}일입니다.\")\n",
    "elif month_input in days:\n",
    "    print(f\"{month_input}은(는) {days[month_input]}일입니다.\")\n",
    "else:\n",
    "    print(\"올바른 월을 입력해주세요.\")\n"
   ]
  }
 ],
 "metadata": {
  "language_info": {
   "name": "python"
  }
 },
 "nbformat": 4,
 "nbformat_minor": 5
}
