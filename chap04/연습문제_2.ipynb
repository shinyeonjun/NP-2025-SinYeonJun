{
 "cells": [
  {
   "cell_type": "markdown",
   "id": "16356b3a",
   "metadata": {},
   "source": [
    "## 4장 연습문제-1\n",
    "\n",
    "이 파일은 4장 학습하면서 연습문제를 푼 것입니다.\n",
    "\n",
    "날짜: 2025.9.10\n",
    "\n",
    "학번: 202110763\n",
    "\n",
    "이름: 신연준\n"
   ]
  },
  {
   "cell_type": "markdown",
   "id": "e2f8c70b",
   "metadata": {},
   "source": [
    "1. for 루프를 이용하여 다음과 같은 리스트를 생성하라.  \n",
    "• 0~49까지의 수로 구성되는 리스트  \n",
    "• 1~50까지 수의 제곱으로 구성되는 리스트  \n"
   ]
  },
  {
   "cell_type": "code",
   "execution_count": 1,
   "id": "875b2cd7",
   "metadata": {},
   "outputs": [
    {
     "name": "stdout",
     "output_type": "stream",
     "text": [
      "[0, 1, 2, 3, 4, 5, 6, 7, 8, 9, 10, 11, 12, 13, 14, 15, 16, 17, 18, 19, 20, 21, 22, 23, 24, 25, 26, 27, 28, 29, 30, 31, 32, 33, 34, 35, 36, 37, 38, 39, 40, 41, 42, 43, 44, 45, 46, 47, 48, 49]\n",
      "[1, 4, 9, 16, 25, 36, 49, 64, 81, 100, 121, 144, 169, 196, 225, 256, 289, 324, 361, 400, 441, 484, 529, 576, 625, 676, 729, 784, 841, 900, 961, 1024, 1089, 1156, 1225, 1296, 1369, 1444, 1521, 1600, 1681, 1764, 1849, 1936, 2025, 2116, 2209, 2304, 2401, 2500]\n"
     ]
    }
   ],
   "source": [
    "list1 = [i for i in range(50)]\n",
    "list2 = [i**2 for i in range(1, 51)]\n",
    "\n",
    "print(list1)\n",
    "print(list2)"
   ]
  },
  {
   "cell_type": "markdown",
   "id": "aa5649d6",
   "metadata": {},
   "source": [
    "2. 크기가 같은 두 개의 리스트 L, M을 생성하고 두 리스트의 각 요소 합으로 구성되는 새로운 리스트를 생성하라. \n",
    "> 예를 들어 L=[1,2,3]이고 M=[4,5,6]이면 [5,7,9]인 리스트 생성\n"
   ]
  },
  {
   "cell_type": "code",
   "execution_count": 2,
   "id": "66960aab",
   "metadata": {},
   "outputs": [
    {
     "name": "stdout",
     "output_type": "stream",
     "text": [
      "[5, 7, 9]\n"
     ]
    }
   ],
   "source": [
    "l = [1, 2, 3]\n",
    "m = [4, 5, 6]\n",
    "\n",
    "result = [l[i] + m[i] for i in range(len(l))]\n",
    "print(result)\n"
   ]
  },
  {
   "cell_type": "markdown",
   "id": "62bb3c48",
   "metadata": {},
   "source": [
    "+ 사용자로부터 5개의 숫자를 문자열로 입력 받아 각 숫자를 +로 연결한 문자열을 생성하라. \n",
    "> 예를 들어 2, 5, 11, 33, 55를 입력하면 '2+5+11+33+55'를 생성하라."
   ]
  },
  {
   "cell_type": "code",
   "execution_count": 6,
   "id": "a5ed09cf",
   "metadata": {},
   "outputs": [
    {
     "name": "stdout",
     "output_type": "stream",
     "text": [
      "2 5 11 33 55\n"
     ]
    }
   ],
   "source": [
    "# 사용자로부터 5개의 숫자를 입력받아 ','로 구분\n",
    "numbers = input(\"5개의 숫자를 입력하세요(쉼표로 구분): \").split(',')\n",
    "\n",
    "# 리스트의 요소를 '+'로 연결\n",
    "result = '+'.join(numbers)\n",
    "\n",
    "print(result)"
   ]
  }
 ],
 "metadata": {
  "kernelspec": {
   "display_name": "Python 3",
   "language": "python",
   "name": "python3"
  },
  "language_info": {
   "codemirror_mode": {
    "name": "ipython",
    "version": 3
   },
   "file_extension": ".py",
   "mimetype": "text/x-python",
   "name": "python",
   "nbconvert_exporter": "python",
   "pygments_lexer": "ipython3",
   "version": "3.13.7"
  }
 },
 "nbformat": 4,
 "nbformat_minor": 5
}
