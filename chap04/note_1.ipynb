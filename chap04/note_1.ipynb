{
 "cells": [
  {
   "cell_type": "markdown",
   "id": "a34a1159",
   "metadata": {},
   "source": [
    "## 4장 노트정리\n",
    "\n",
    "이 파일은 4장 학습하면서 실행한 내용을 정리한 것이다.\n",
    "\n",
    "날짜: 2025.9.10\n",
    "\n",
    "학번: 202110763\n",
    "\n",
    "이름: 신연준\n"
   ]
  },
  {
   "cell_type": "markdown",
   "id": "c4d6b3d1",
   "metadata": {},
   "source": [
    "### 파이썬 자료구조 개요\n",
    "- **자료구조(data structure)**: 자료를 표현하고 처리하기 위해 사용되는 구조\n",
    "- **목적**: 자료를 효율적으로 처리하고 저장\n",
    "- **파이썬 기본 자료구조**:\n",
    "  - **문자열(string)**: `str = 'abcde'` - 홑/겹 따옴표로 묶인 문자열\n",
    "  - **리스트(list)**: `list = [1, 2, 3, 4]` - 순서가 있는 원소(객체)의 목록\n",
    "  - **튜플(tuple)**: `tuple = (1,2,3)` - immutable한 데이터의 쌍\n",
    "  - **딕셔너리(dictionary)**: `dic = {'a':1, 'b':23, 'c':32}` - 유일한 키로 이루어진 키:값의 집합\n",
    "  - **집합(set)**: `set = {1,5,3,2}` - 유일한 값들의 집합\n"
   ]
  },
  {
   "cell_type": "markdown",
   "id": "ef649dd2",
   "metadata": {},
   "source": [
    "### 문자열 정의와 구조\n",
    "- **문자열**: 문자나 단어 등으로 구성된 문자의 집합을 표현하는 자료구조\n",
    "- **문자열 리터럴**:\n",
    "  - `''` 또는 `\"\"`로 둘러싸기: `\"abc\"`, `'hello'`\n",
    "  - 여러 줄 문자열: `'''...'''` 또는 `\"\"\"...\"\"\"`\n"
   ]
  },
  {
   "cell_type": "code",
   "execution_count": null,
   "id": "618a5484",
   "metadata": {},
   "outputs": [],
   "source": [
    "# 여러 줄 문자열 예시\n",
    "multiline1 = '''\n",
    "Hello\n",
    "Python\n",
    "'''\n",
    "\n",
    "multiline2 = \"\"\"\n",
    "Hello\n",
    "Python\n",
    "\"\"\"\n",
    "\n",
    "print(\"첫 번째 여러 줄 문자열:\")\n",
    "print(multiline1)\n",
    "print(\"두 번째 여러 줄 문자열:\")\n",
    "print(multiline2)\n"
   ]
  },
  {
   "cell_type": "markdown",
   "id": "9ec4678d",
   "metadata": {},
   "source": [
    "### 문자열 인덱싱\n",
    "- **인덱스**: 문자열의 각 문자에 접근하는 방법\n",
    "- **양수 인덱스**: 0부터 시작\n",
    "- **음수 인덱스**: -1이 마지막 문자\n"
   ]
  },
  {
   "cell_type": "code",
   "execution_count": null,
   "id": "04c549dd",
   "metadata": {},
   "outputs": [],
   "source": [
    "# 문자열 인덱싱 예시\n",
    "word = 'Python'\n",
    "\n",
    "print(f\"word = '{word}'\")\n",
    "print(f\"word[0] = '{word[0]}'    # 첫 번째 문자\")\n",
    "print(f\"word[5] = '{word[5]}'    # 마지막 문자\")\n",
    "print(f\"word[-1] = '{word[-1]}'   # 마지막 문자\")\n",
    "print(f\"word[-6] = '{word[-6]}'   # 첫 번째 문자\")\n"
   ]
  },
  {
   "cell_type": "markdown",
   "id": "918a7cda",
   "metadata": {},
   "source": [
    "### 문자열 슬라이싱\n",
    "- **슬라이싱**: 문자열의 일부분을 잘라내는 방법\n",
    "- **형식**: `word[start:end]` - start 이상 end 미만\n",
    "- **특징**: 범위를 벗어나도 오류 없이 빈 문자열 반환\n"
   ]
  },
  {
   "cell_type": "code",
   "execution_count": null,
   "id": "290fd4a4",
   "metadata": {},
   "outputs": [],
   "source": [
    "# 문자열 슬라이싱 예시\n",
    "word = 'Python'\n",
    "\n",
    "print(f\"word = '{word}'\")\n",
    "print(f\"word[0:2] = '{word[0:2]}'   # 0번부터 1번까지\")\n",
    "print(f\"word[2:5] = '{word[2:5]}'   # 2번부터 4번까지\")\n",
    "print(f\"word[:2] = '{word[:2]}'     # 처음부터 1번까지\")\n",
    "print(f\"word[4:] = '{word[4:]}'     # 4번부터 끝까지\")\n",
    "print(f\"word[-2:] = '{word[-2:]}'   # 뒤에서 2번째부터 끝까지\")\n",
    "\n",
    "# 범위 벗어나는 경우\n",
    "print(f\"word[4:42] = '{word[4:42]}' # 범위 벗어나도 OK\")\n",
    "print(f\"word[42:] = '{word[42:]}'   # 빈 문자열 반환\")\n"
   ]
  },
  {
   "cell_type": "markdown",
   "id": "50192487",
   "metadata": {},
   "source": [
    "### 문자열 불변성과 오류\n",
    "- **불변성(immutable)**: 문자열은 수정할 수 없음\n",
    "- **해결 방법**: 새로운 문자열 생성\n"
   ]
  },
  {
   "cell_type": "code",
   "execution_count": null,
   "id": "b4945f3f",
   "metadata": {},
   "outputs": [],
   "source": [
    "# 문자열 불변성 예시\n",
    "word = 'Python'\n",
    "\n",
    "# 문자열 수정 시도 (오류 발생)\n",
    "try:\n",
    "    word[0] = 'J'\n",
    "except TypeError as e:\n",
    "    print(f\"오류 발생: {e}\")\n",
    "\n",
    "# 새로운 문자열 생성으로 해결\n",
    "word2 = 'J' + word[1:]\n",
    "print(f\"원본: {word}\")\n",
    "print(f\"새 문자열: {word2}\")\n",
    "\n",
    "# 인덱스 범위 벗어나는 경우\n",
    "try:\n",
    "    print(word[42])  # 오류 발생\n",
    "except IndexError as e:\n",
    "    print(f\"인덱스 오류: {e}\")\n",
    "\n",
    "# 슬라이싱은 범위 벗어나도 OK\n",
    "print(f\"word[4:42] = '{word[4:42]}'\")\n",
    "print(f\"word[42:] = '{word[42:]}'\")\n"
   ]
  },
  {
   "cell_type": "markdown",
   "id": "c9f08575",
   "metadata": {},
   "source": [
    "### 문자열 길이와 멤버 연산자\n",
    "- **길이 확인**: `len()` 함수 사용\n",
    "- **멤버 연산자**: 문자열에 특정 문자가 포함되어 있는지 확인\n"
   ]
  },
  {
   "cell_type": "code",
   "execution_count": null,
   "id": "41444017",
   "metadata": {},
   "outputs": [],
   "source": [
    "# 문자열 길이와 멤버 연산자 예시\n",
    "s = 'smiles'\n",
    "print(f\"문자열 '{s}'의 길이: {len(s)}\")\n",
    "\n",
    "# 멤버 연산자\n",
    "print(f\"'a' in 'cat': {'a' in 'cat'}\")\n",
    "print(f\"'a' not in 'can': {'a' not in 'can'}\")\n",
    "\n",
    "# 문자열 역순 만들기\n",
    "def reverse_string(input_str):\n",
    "    outStr = \"\"\n",
    "    count = len(input_str)\n",
    "    for i in range(0, count):\n",
    "        outStr += input_str[count - (i + 1)]\n",
    "    return outStr\n",
    "\n",
    "test_string = \"Python\"\n",
    "reversed_str = reverse_string(test_string)\n",
    "print(f\"원본: {test_string}\")\n",
    "print(f\"역순: {reversed_str}\")\n",
    "\n",
    "# 파이썬의 간단한 방법\n",
    "print(f\"슬라이싱 사용: {test_string[::-1]}\")\n"
   ]
  },
  {
   "cell_type": "markdown",
   "id": "04ca8fac",
   "metadata": {},
   "source": [
    "### 문자열 구성 파악 메소드\n",
    "- **문자열 구성 확인**: isdigit(), isalpha(), isalnum(), isupper(), islower(), isspace()\n",
    "- **대소문자 변환**: upper(), lower(), swapcase(), title()\n"
   ]
  },
  {
   "cell_type": "code",
   "execution_count": null,
   "id": "66c9589e",
   "metadata": {},
   "outputs": [],
   "source": [
    "# 문자열 구성 파악 메소드 예시\n",
    "print(\"=== 문자열 구성 확인 ===\")\n",
    "print(f\"'123'.isdigit(): {'123'.isdigit()}\")\n",
    "print(f\"'abcABC'.isalpha(): {'abcABC'.isalpha()}\")\n",
    "print(f\"'Ab122'.isalnum(): {'Ab122'.isalnum()}\")\n",
    "print(f\"'AB'.isupper(): {'AB'.isupper()}\")\n",
    "print(f\"'ab'.islower(): {'ab'.islower()}\")\n",
    "print(f\"' '.isspace(): {' '.isspace()}\")\n",
    "\n",
    "print(\"\\n=== 대소문자 변환 ===\")\n",
    "text = 'Python programming is easy!'\n",
    "print(f\"원본: {text}\")\n",
    "print(f\"upper(): {text.upper()}\")\n",
    "print(f\"lower(): {text.lower()}\")\n",
    "print(f\"swapcase(): {text.swapcase()}\")\n",
    "print(f\"title(): {text.title()}\")\n"
   ]
  },
  {
   "cell_type": "markdown",
   "id": "80a45ac8",
   "metadata": {},
   "source": [
    "### 문자열 검색 메소드\n",
    "- **문자 개수와 위치 찾기**: count(), find(), rfind(), index()\n",
    "- **문자열 분리**: split(), split(구분자)\n"
   ]
  },
  {
   "cell_type": "code",
   "execution_count": null,
   "id": "53124c9a",
   "metadata": {},
   "outputs": [],
   "source": [
    "# 문자열 검색 메소드 예시\n",
    "text = 'Python programming is easy!'\n",
    "\n",
    "print(\"=== 문자 개수와 위치 찾기 ===\")\n",
    "print(f\"text = '{text}'\")\n",
    "print(f\"count('i'): {text.count('i')}\")\n",
    "print(f\"find('o'): {text.find('o')}\")\n",
    "print(f\"rfind('o'): {text.rfind('o')}\")\n",
    "print(f\"index('on'): {text.index('on')}\")\n",
    "\n",
    "# 없는 문자 검색\n",
    "print(f\"find('z'): {text.find('z')}  # 없으면 -1\")\n",
    "\n",
    "print(\"\\n=== 문자열 분리 ===\")\n",
    "x = 'a bc'\n",
    "print(f\"x = '{x}'\")\n",
    "print(f\"x.split(): {x.split()}\")\n",
    "print(f\"x.split('b'): {x.split('b')}\")\n",
    "\n",
    "# 다양한 구분자로 분리\n",
    "data = \"apple,banana,cherry\"\n",
    "print(f\"'{data}'.split(','): {data.split(',')}\")\n"
   ]
  },
  {
   "cell_type": "markdown",
   "id": "63237fb9",
   "metadata": {},
   "source": [
    "### 문자열 공백 제거와 결합\n",
    "- **공백 제거**: strip(), rstrip(), lstrip()\n",
    "- **문자열 결합**: join()\n",
    "- **문자열 채우기**: zfill()\n"
   ]
  },
  {
   "cell_type": "code",
   "execution_count": null,
   "id": "30bc4677",
   "metadata": {},
   "outputs": [],
   "source": [
    "# 문자열 공백 제거와 결합 예시\n",
    "print(\"=== 공백 제거 ===\")\n",
    "text = ' hello '\n",
    "print(f\"원본: '{text}'\")\n",
    "print(f\"strip(): '{text.strip()}'\")\n",
    "print(f\"rstrip(): '{text.rstrip()}'\")\n",
    "print(f\"lstrip(): '{text.lstrip()}'\")\n",
    "\n",
    "print(\"\\n=== 문자열 결합 ===\")\n",
    "print(f\"'*'.join('hello'): {'*'.join('hello')}\")\n",
    "print(f\"'-'.join(['a', 'b', 'c']): {'-'.join(['a', 'b', 'c'])}\")\n",
    "\n",
    "print(\"\\n=== 문자열 채우기 ===\")\n",
    "print(f\"'12'.zfill(5): {'12'.zfill(5)}\")\n",
    "print(f\"'123'.zfill(2): {'123'.zfill(2)}\")  # 이미 길이가 충분한 경우\n"
   ]
  },
  {
   "cell_type": "markdown",
   "id": "66b3a641",
   "metadata": {},
   "source": [
    "### 문자열 정렬 메소드\n",
    "- **문자열 정렬**: rjust(), ljust(), center()\n",
    "- **메소드 사용 팁**:\n",
    "  - `dir(str)`: 문자열 메소드 목록 확인\n",
    "  - `help(str.method)`: 특정 메소드 도움말 보기\n",
    "  - 문자열은 객체이므로 `객체.메소드()` 형태로 호출\n"
   ]
  },
  {
   "cell_type": "code",
   "execution_count": null,
   "id": "effada6a",
   "metadata": {},
   "outputs": [],
   "source": [
    "# 문자열 정렬 메소드 예시\n",
    "print(\"=== 문자열 정렬 ===\")\n",
    "text = 'he'\n",
    "print(f\"원본: '{text}'\")\n",
    "print(f\"rjust(5): '{text.rjust(5)}'\")\n",
    "print(f\"ljust(5): '{text.ljust(5)}'\")\n",
    "print(f\"center(5): '{text.center(5)}'\")\n",
    "\n",
    "print(\"\\n=== 다양한 길이로 정렬 ===\")\n",
    "print(f\"rjust(10, '*'): '{text.rjust(10, '*')}'\")\n",
    "print(f\"ljust(10, '-'): '{text.ljust(10, '-')}'\")\n",
    "print(f\"center(10, '='): '{text.center(10, '=')}'\")\n",
    "\n",
    "print(\"\\n=== 메소드 목록 확인 ===\")\n",
    "print(\"dir(str)의 일부 메소드들:\")\n",
    "methods = [method for method in dir(str) if not method.startswith('_')]\n",
    "print(methods[:10])  # 처음 10개만 출력\n"
   ]
  },
  {
   "cell_type": "markdown",
   "id": "c513b14a",
   "metadata": {},
   "source": [
    "## 튜플(tuple)\n",
    "\n",
    "튜플은 리스트와 비슷한 자료구조이지만, 요소 값을 변경할 수 없는(immutable) 특징을 가집니다.\n"
   ]
  },
  {
   "cell_type": "markdown",
   "id": "075ae432",
   "metadata": {},
   "source": [
    "### 괄호 `()` 속에 요소를 나열하여 만들기\n"
   ]
  },
  {
   "cell_type": "code",
   "execution_count": null,
   "id": "9e9e2d89",
   "metadata": {},
   "outputs": [],
   "source": [
    "# 괄호를 사용한 튜플 생성\n",
    "t1 = (1, 2, 3)\n",
    "print(t1)\n",
    "print(type(t1))\n"
   ]
  },
  {
   "cell_type": "markdown",
   "id": "27e2fed7",
   "metadata": {},
   "source": [
    "### 괄호 `()` 없이 요소를 나열해서 만들기 (튜플 패킹)\n"
   ]
  },
  {
   "cell_type": "code",
   "execution_count": null,
   "id": "26b5ae70",
   "metadata": {},
   "outputs": [],
   "source": [
    "# 괄호 없이 튜플 생성 (튜플 패킹)\n",
    "t2 = 1, 2, 3\n",
    "print(t2)\n",
    "print(type(t2))\n"
   ]
  },
  {
   "cell_type": "markdown",
   "id": "62cc7a18",
   "metadata": {},
   "source": [
    "### 요소가 한 개인 튜플 만들기\n"
   ]
  },
  {
   "cell_type": "code",
   "execution_count": null,
   "id": "29c70b7f",
   "metadata": {},
   "outputs": [],
   "source": [
    "# 요소가 하나인 튜플 (쉼표 필수!)\n",
    "t3 = 1,  # 쉼표가 있으면 튜플\n",
    "print(t3)\n",
    "print(type(t3))\n",
    "\n",
    "# 쉼표가 없으면 일반 변수\n",
    "t4 = 1   # 쉼표가 없으면 정수\n",
    "print(t4)\n",
    "print(type(t4))\n"
   ]
  },
  {
   "cell_type": "markdown",
   "id": "eefbe4b6",
   "metadata": {},
   "source": [
    "### 빈 튜플 생성\n"
   ]
  },
  {
   "cell_type": "code",
   "execution_count": null,
   "id": "20950c5a",
   "metadata": {},
   "outputs": [],
   "source": [
    "# 빈 튜플 생성\n",
    "t5 = tuple()  # tuple() 함수 사용\n",
    "print(t5)\n",
    "print(type(t5))\n",
    "\n",
    "t6 = ()       # 빈 괄호 사용\n",
    "print(t6)\n",
    "print(type(t6))\n"
   ]
  },
  {
   "cell_type": "markdown",
   "id": "ced7ffdc",
   "metadata": {},
   "source": [
    "## 튜플 요소 접근하기 (인덱싱과 슬라이싱)\n"
   ]
  },
  {
   "cell_type": "code",
   "execution_count": null,
   "id": "e01fd98a",
   "metadata": {},
   "outputs": [],
   "source": [
    "# 튜플 인덱싱과 슬라이싱\n",
    "t1 = (1, 2, 3)\n",
    "print(\"튜플 t1:\", t1)\n",
    "\n",
    "# 인덱싱: 특정 위치의 요소 접근\n",
    "print(\"t1[1]:\", t1[1])  # 인덱스 1의 요소 (2)\n",
    "\n",
    "# 슬라이싱: 범위의 요소들 접근\n",
    "print(\"t1[1:3]:\", t1[1:3])  # 인덱스 1부터 2까지 (2, 3)\n"
   ]
  },
  {
   "cell_type": "markdown",
   "id": "abbce48c",
   "metadata": {},
   "source": [
    "## 튜플 연산\n"
   ]
  },
  {
   "cell_type": "code",
   "execution_count": null,
   "id": "860d9975",
   "metadata": {},
   "outputs": [],
   "source": [
    "# 튜플 연산\n",
    "t1 = (1, 2, 3)\n",
    "t2 = ('a', 'b')\n",
    "print(\"튜플 t1:\", t1)\n",
    "print(\"튜플 t2:\", t2)\n",
    "\n",
    "# 튜플 연결: 두 개의 튜플을 하나로 합치기\n",
    "print(\"t1 + t2:\", t1 + t2)  # (1, 2, 3, 'a', 'b')\n",
    "\n",
    "# 튜플 반복: 동일한 튜플을 여러 번 반복\n",
    "print(\"t1 * 2:\", t1 * 2)    # (1, 2, 3, 1, 2, 3)\n"
   ]
  },
  {
   "cell_type": "markdown",
   "id": "93161132",
   "metadata": {},
   "source": [
    "## 튜플과 리스트 상호 변환\n"
   ]
  },
  {
   "cell_type": "code",
   "execution_count": null,
   "id": "cc901819",
   "metadata": {},
   "outputs": [],
   "source": [
    "# 튜플과 리스트 상호 변환\n",
    "T1 = (1, 2, 3)\n",
    "print(\"원본 튜플 T1:\", T1)\n",
    "\n",
    "# 튜플을 리스트로 변환\n",
    "L1 = list(T1)\n",
    "print(\"튜플을 리스트로 변환:\", L1)\n",
    "print(\"L1의 타입:\", type(L1))\n",
    "\n",
    "# 리스트에 요소 추가\n",
    "L1.append(4)\n",
    "print(\"리스트에 4 추가:\", L1)\n",
    "\n",
    "# 리스트를 튜플로 변환\n",
    "T1 = tuple(L1)\n",
    "print(\"리스트를 튜플로 변환:\", T1)\n",
    "print(\"T1의 타입:\", type(T1))\n"
   ]
  },
  {
   "cell_type": "markdown",
   "id": "339f1b78",
   "metadata": {},
   "source": [
    "## 튜플 언패킹\n"
   ]
  },
  {
   "cell_type": "code",
   "execution_count": null,
   "id": "e6007f30",
   "metadata": {},
   "outputs": [],
   "source": [
    "# 튜플 언패킹: 튜플의 요소를 하나씩 변수에 할당\n",
    "a, b, c = (1, 2, 3)\n",
    "print(\"튜플 언패킹 후:\")\n",
    "print(\"a =\", a)\n",
    "print(\"b =\", b)\n",
    "print(\"c =\", c)\n",
    "\n",
    "# 언패킹을 사용한 변수 교환\n",
    "x = 10\n",
    "y = 20\n",
    "print(f\"교환 전: x = {x}, y = {y}\")\n",
    "\n",
    "x, y = y, x  # 튜플 언패킹을 이용한 변수 교환\n",
    "print(f\"교환 후: x = {x}, y = {y}\")\n"
   ]
  },
  {
   "cell_type": "markdown",
   "id": "52a1c763",
   "metadata": {},
   "source": [
    "## 딕셔너리(dictionary)\n"
   ]
  },
  {
   "cell_type": "markdown",
   "id": "fd046711",
   "metadata": {},
   "source": [
    "### 딕셔너리 정의와 특징\n",
    "- **키(key):값(value)**로 구성되는 자료 구조\n",
    "  - `{key1: value1, key2: value2}`\n",
    "- **키는** 정수, 실수, 문자열, 튜플\n",
    "- **값은** 임의의 데이터형\n"
   ]
  },
  {
   "cell_type": "markdown",
   "id": "20e84674",
   "metadata": {},
   "source": [
    "### 딕셔너리 생성\n"
   ]
  },
  {
   "cell_type": "code",
   "execution_count": null,
   "id": "3113d239",
   "metadata": {},
   "outputs": [],
   "source": [
    "# 딕셔너리 생성 방법들\n",
    "\n",
    "# 방법 1: 직접 초기화\n",
    "height = {'Jun': 174, 'Kim': 170, 'Lee': 165}\n",
    "print(\"딕셔너리 height:\", height)\n",
    "print(\"타입:\", type(height))\n",
    "\n",
    "# 방법 2: 빈 딕셔너리 생성\n",
    "test = dict()\n",
    "print(\"빈 딕셔너리:\", test)\n",
    "\n",
    "# 방법 3: 빈 중괄호 사용\n",
    "empty_dict = {}\n",
    "print(\"빈 중괄호 딕셔너리:\", empty_dict)\n"
   ]
  },
  {
   "cell_type": "markdown",
   "id": "23f52934",
   "metadata": {},
   "source": [
    "### 딕셔너리 key 값 조사하기\n"
   ]
  },
  {
   "cell_type": "code",
   "execution_count": null,
   "id": "55f6d282",
   "metadata": {},
   "outputs": [],
   "source": [
    "# 딕셔너리 값 접근하기\n",
    "height = {'Jun': 174, 'Kim': 170, 'Lee': 165}\n",
    "\n",
    "# Dict[key]로 값 조사하기\n",
    "print(\"Kim의 키:\", height['Kim'])\n",
    "print(\"Jun의 키:\", height['Jun'])\n",
    "print(\"Lee의 키:\", height['Lee'])\n",
    "\n",
    "# 존재하지 않는 키로 접근하면 KeyError 발생\n",
    "# print(height['Park'])  # KeyError 발생\n"
   ]
  },
  {
   "cell_type": "markdown",
   "id": "7573a7ea",
   "metadata": {},
   "source": [
    "### 딕셔너리 키 조사\n"
   ]
  },
  {
   "cell_type": "code",
   "execution_count": null,
   "id": "e90ac5b4",
   "metadata": {},
   "outputs": [],
   "source": [
    "# 딕셔너리 키 존재 여부 확인\n",
    "height = {'Jun': 174, 'Kim': 170, 'Lee': 165}\n",
    "\n",
    "# 'in' 연산자로 키가 딕셔너리에 있는지 조사\n",
    "print(\"'Kim' in height:\", 'Kim' in height)  # True\n",
    "print(\"'Park' in height:\", 'Park' in height)  # False\n",
    "\n",
    "# 'not in' 연산자도 사용 가능\n",
    "print(\"'Lee' not in height:\", 'Lee' not in height)  # False\n"
   ]
  },
  {
   "cell_type": "markdown",
   "id": "14713817",
   "metadata": {},
   "source": [
    "### 딕셔너리 요소 수정, 추가하기\n"
   ]
  },
  {
   "cell_type": "code",
   "execution_count": null,
   "id": "8f9462d6",
   "metadata": {},
   "outputs": [],
   "source": [
    "# 딕셔너리 요소 수정하기\n",
    "height = {'Jun': 174, 'Kim': 170, 'Lee': 165}\n",
    "print(\"수정 전 height:\", height)\n",
    "\n",
    "# 기존 키의 값을 수정\n",
    "height['Lee'] = 180\n",
    "print(\"수정 후 height:\", height)\n"
   ]
  },
  {
   "cell_type": "code",
   "execution_count": null,
   "id": "aa218a04",
   "metadata": {},
   "outputs": [],
   "source": [
    "# 딕셔너리 요소 추가하기\n",
    "# 존재하지 않는 키에 값을 할당하면 새로운 요소가 추가됨\n",
    "height['Ihm'] = 168\n",
    "print(\"요소 추가 후 height:\", height)\n",
    "\n",
    "# 여러 요소를 한 번에 추가\n",
    "height.update({'Park': 175, 'Choi': 162})\n",
    "print(\"여러 요소 추가 후 height:\", height)\n"
   ]
  },
  {
   "cell_type": "markdown",
   "id": "45387dc9",
   "metadata": {},
   "source": [
    "### 딕셔너리의 키, 값, 요소를 뽑아내기\n"
   ]
  },
  {
   "cell_type": "code",
   "execution_count": null,
   "id": "1dd7bb78",
   "metadata": {},
   "outputs": [],
   "source": [
    "# 딕셔너리의 키, 값, 요소를 뽑아내기\n",
    "height = {'Jun': 174, 'Kim': 170, 'Lee': 165, 'Ihm': 168}\n",
    "print(\"원본 딕셔너리:\", height)\n",
    "\n",
    "# 키 뽑아내기 - dict_keys 객체 반환 (iterable)\n",
    "keys = height.keys()\n",
    "print(\"키들:\", keys)\n",
    "print(\"키들의 타입:\", type(keys))\n",
    "\n",
    "# 값 뽑아내기 - dict_values 객체 반환 (iterable)\n",
    "values = height.values()\n",
    "print(\"값들:\", values)\n",
    "print(\"값들의 타입:\", type(values))\n",
    "\n",
    "# 요소를 튜플로 분리하기 - dict_items 객체 반환 (iterable)\n",
    "items = height.items()\n",
    "print(\"요소들:\", items)\n",
    "print(\"요소들의 타입:\", type(items))\n"
   ]
  },
  {
   "cell_type": "markdown",
   "id": "a12c41b7",
   "metadata": {},
   "source": [
    "### 뽑아낸 키를 리스트로 변환하기\n"
   ]
  },
  {
   "cell_type": "code",
   "execution_count": null,
   "id": "eab070c8",
   "metadata": {},
   "outputs": [],
   "source": [
    "# 뽑아낸 키를 리스트로 변환하기\n",
    "height = {'Jun': 174, 'Kim': 170, 'Lee': 165, 'Ihm': 168}\n",
    "\n",
    "# dict_keys 객체를 리스트로 변환\n",
    "dict_keys = height.keys()\n",
    "print(\"dict_keys 객체:\", dict_keys)\n",
    "print(\"dict_keys 타입:\", type(dict_keys))\n",
    "\n",
    "keys_list = list(dict_keys)\n",
    "print(\"리스트로 변환된 키들:\", keys_list)\n",
    "print(\"변환된 타입:\", type(keys_list))\n",
    "\n",
    "# 값들도 리스트로 변환 가능\n",
    "values_list = list(height.values())\n",
    "print(\"리스트로 변환된 값들:\", values_list)\n",
    "\n",
    "# 요소들도 리스트로 변환 가능\n",
    "items_list = list(height.items())\n",
    "print(\"리스트로 변환된 요소들:\", items_list)\n"
   ]
  },
  {
   "cell_type": "markdown",
   "id": "21438353",
   "metadata": {},
   "source": [
    "### 딕셔너리 요소 제거하기\n"
   ]
  },
  {
   "cell_type": "code",
   "execution_count": null,
   "id": "d1527813",
   "metadata": {},
   "outputs": [],
   "source": [
    "# 딕셔너리 요소 제거하기\n",
    "height = {'Jun': 174, 'Kim': 170, 'Lee': 165, 'Ihm': 168}\n",
    "print(\"제거 전 height:\", height)\n",
    "\n",
    "# pop() 메서드로 특정 키-값 쌍 제거 (값을 반환)\n",
    "removed_value = height.pop('Ihm')\n",
    "print(f\"'Ihm' 요소 제거, 반환된 값: {removed_value}\")\n",
    "print(\"제거 후 height:\", height)\n",
    "\n",
    "# del 키워드로도 제거 가능 (값을 반환하지 않음)\n",
    "del height['Lee']\n",
    "print(\"del로 'Lee' 제거 후 height:\", height)\n"
   ]
  },
  {
   "cell_type": "markdown",
   "id": "d2a393f4",
   "metadata": {},
   "source": [
    "### 딕셔너리 지우기\n"
   ]
  },
  {
   "cell_type": "code",
   "execution_count": null,
   "id": "2bc075af",
   "metadata": {},
   "outputs": [],
   "source": [
    "# 딕셔너리 지우기\n",
    "height = {'Jun': 174, 'Kim': 170, 'Lee': 165}\n",
    "print(\"지우기 전 height:\", height)\n",
    "\n",
    "# clear() 메서드로 모든 요소 제거 (빈 딕셔너리로 만든다)\n",
    "height.clear()\n",
    "print(\"clear() 후 height:\", height)\n",
    "\n",
    "# 빈 딕셔너리 확인\n",
    "print(\"딕셔너리가 비어있는가?\", len(height) == 0)\n"
   ]
  },
  {
   "cell_type": "markdown",
   "id": "deb8572d",
   "metadata": {},
   "source": [
    "## 집합(set)\n",
    "\n",
    "`{}` 속에 요소들을 중복되지 않고 순서없이 모아놓은 자료 구조\n"
   ]
  },
  {
   "cell_type": "markdown",
   "id": "0e9a324a",
   "metadata": {},
   "source": [
    "### 집합의 생성\n"
   ]
  },
  {
   "cell_type": "code",
   "execution_count": null,
   "id": "11841e84",
   "metadata": {},
   "outputs": [],
   "source": [
    "# 집합 생성 방법들\n",
    "\n",
    "# 방법 1: 중괄호 {} 사용\n",
    "numbers = {1, 2, 3}\n",
    "print(\"numbers 집합:\", numbers)\n",
    "print(\"타입:\", type(numbers))\n",
    "\n",
    "# 방법 2: set() 함수 사용\n",
    "name = set(['Kim', 'Lee', 'Park'])\n",
    "print(\"name 집합:\", name)\n",
    "print(\"타입:\", type(name))\n",
    "\n",
    "# 중복 요소는 자동으로 제거됨\n",
    "duplicate_set = {1, 2, 2, 3, 3, 3}\n",
    "print(\"중복 제거된 집합:\", duplicate_set)\n"
   ]
  },
  {
   "cell_type": "markdown",
   "id": "adc60d3e",
   "metadata": {},
   "source": [
    "### 빈 집합 생성, 개수 확인, 요소 추가, 요소 제거하기\n"
   ]
  },
  {
   "cell_type": "code",
   "execution_count": null,
   "id": "e6086fdc",
   "metadata": {},
   "outputs": [],
   "source": [
    "# 집합 기본 연산들\n",
    "\n",
    "# 빈 집합 생성\n",
    "empty = set()  # 빈 집합 생성\n",
    "print(\"빈 집합:\", empty)\n",
    "\n",
    "# 집합 초기화\n",
    "numbers = {1, 2, 3}\n",
    "print(\"초기 집합:\", numbers)\n",
    "\n",
    "# 개수 확인\n",
    "print(\"집합의 개수:\", len(numbers))\n",
    "\n",
    "# 요소 추가\n",
    "numbers.add(4)  # 요소 추가\n",
    "print(\"4 추가 후:\", numbers)\n",
    "\n",
    "# 요소 제거\n",
    "numbers.remove(4)  # 요소 제거\n",
    "print(\"4 제거 후:\", numbers)\n",
    "\n",
    "# discard() 메서드 (요소가 없어도 에러 발생하지 않음)\n",
    "numbers.discard(5)  # 존재하지 않는 요소 제거 시도\n",
    "print(\"discard(5) 후:\", numbers)\n"
   ]
  },
  {
   "cell_type": "markdown",
   "id": "e0412eab",
   "metadata": {},
   "source": [
    "## 집합의 연산\n"
   ]
  },
  {
   "cell_type": "code",
   "execution_count": null,
   "id": "fb6e56c4",
   "metadata": {},
   "outputs": [],
   "source": [
    "# 집합 연산을 위한 초기 집합들\n",
    "setA = {1, 2, 3}\n",
    "setB = {2, 3, 4}\n",
    "print(\"setA:\", setA)\n",
    "print(\"setB:\", setB)\n"
   ]
  },
  {
   "cell_type": "markdown",
   "id": "fcf977e3",
   "metadata": {},
   "source": [
    "### 교집합 (Intersection)\n",
    "두 집합에 공통으로 존재하는 요소들을 모아 새로운 집합을 만듭니다.\n"
   ]
  },
  {
   "cell_type": "code",
   "execution_count": null,
   "id": "c68332d1",
   "metadata": {},
   "outputs": [],
   "source": [
    "# 교집합: setA & setB 또는 setA.intersection(setB)\n",
    "intersection_result_op = setA & setB\n",
    "intersection_result_method = setA.intersection(setB)\n",
    "\n",
    "print(\"교집합 연산자 사용:\", intersection_result_op)\n",
    "print(\"교집합 메서드 사용:\", intersection_result_method)\n",
    "print(\"두 결과가 같은가?\", intersection_result_op == intersection_result_method)\n"
   ]
  },
  {
   "cell_type": "markdown",
   "id": "ab57d891",
   "metadata": {},
   "source": [
    "### 합집합 (Union)\n",
    "두 집합의 모든 요소들을 모아 새로운 집합을 만듭니다 (중복 제거).\n"
   ]
  },
  {
   "cell_type": "code",
   "execution_count": null,
   "id": "4a4cbc44",
   "metadata": {},
   "outputs": [],
   "source": [
    "# 합집합: setA | setB 또는 setA.union(setB)\n",
    "union_result_op = setA | setB\n",
    "union_result_method = setA.union(setB)\n",
    "\n",
    "print(\"합집합 연산자 사용:\", union_result_op)\n",
    "print(\"합집합 메서드 사용:\", union_result_method)\n",
    "print(\"두 결과가 같은가?\", union_result_op == union_result_method)\n"
   ]
  },
  {
   "cell_type": "markdown",
   "id": "e3e0760e",
   "metadata": {},
   "source": [
    "### 차집합 (Difference)\n",
    "한 집합에서 다른 집합의 요소를 뺀 나머지 요소들로 새로운 집합을 만듭니다.\n"
   ]
  },
  {
   "cell_type": "code",
   "execution_count": null,
   "id": "0f8a2ed9",
   "metadata": {},
   "outputs": [],
   "source": [
    "# 차집합: setA - setB 또는 setA.difference(setB)\n",
    "difference_result_op = setA - setB\n",
    "difference_result_method = setA.difference(setB)\n",
    "\n",
    "print(\"차집합 연산자 사용:\", difference_result_op)\n",
    "print(\"차집합 메서드 사용:\", difference_result_method)\n",
    "print(\"두 결과가 같은가?\", difference_result_op == difference_result_method)\n",
    "\n",
    "# 차집합의 의미: setA에서 setB 요소를 뺀 나머지\n",
    "print(f\"setA에서 setB 요소를 뺀 나머지: {difference_result_op}\")\n"
   ]
  },
  {
   "cell_type": "markdown",
   "id": "f5068f02",
   "metadata": {},
   "source": [
    "### 부분 집합 연산\n"
   ]
  },
  {
   "cell_type": "code",
   "execution_count": null,
   "id": "fe56eb37",
   "metadata": {},
   "outputs": [],
   "source": [
    "# 두 집합의 동일성 확인\n",
    "setA = {1, 2, 3}\n",
    "setB = {1, 2, 3}\n",
    "print(\"setA =\", setA)\n",
    "print(\"setB =\", setB)\n",
    "print(\"setA == setB # 두 개의 집합이 같은가?\")\n",
    "print(\"결과:\", setA == setB)\n"
   ]
  },
  {
   "cell_type": "code",
   "execution_count": null,
   "id": "81e4835b",
   "metadata": {},
   "outputs": [],
   "source": [
    "# 부분 집합 확인 (< 연산자)\n",
    "setA = {1, 2, 3, 4, 5, 6}\n",
    "setB = {1, 2, 3}\n",
    "print(\"setA =\", setA)\n",
    "print(\"setB =\", setB)\n",
    "print(\"setB < setA # 집합 B가 집합 A의 부분집합인가?\")\n",
    "print(\"결과:\", setB < setA)\n"
   ]
  },
  {
   "cell_type": "code",
   "execution_count": null,
   "id": "3790a8bc",
   "metadata": {},
   "outputs": [],
   "source": [
    "# 부분 집합 확인 (issubset() 메서드)\n",
    "# setA와 setB는 위에서 정의된 값을 사용합니다.\n",
    "print(\"setB.issubset(setA) # 집합 B가 집합 A의 부분집합인가?\")\n",
    "print(\"결과:\", setB.issubset(setA))\n",
    "\n",
    "# 다른 부분 집합 연산들도 확인해보기\n",
    "print(\"\\n다른 부분 집합 연산들:\")\n",
    "print(\"setA > setB (setA가 setB의 진부분집합인가?):\", setA > setB)\n",
    "print(\"setB <= setA (setB가 setA의 부분집합인가?):\", setB <= setA)\n",
    "print(\"setA >= setB (setA가 setB의 부분집합인가?):\", setA >= setB)\n"
   ]
  },
  {
   "cell_type": "markdown",
   "id": "1533caa1",
   "metadata": {},
   "source": [
    "## 집합 예제\n",
    "\n",
    "1부터 45까지의 수 중에서 6개를 선택하여 로또 번호를 만드는 프로그램\n"
   ]
  },
  {
   "cell_type": "code",
   "execution_count": null,
   "id": "a686e1ad",
   "metadata": {},
   "outputs": [],
   "source": [
    "# 집합을 이용한 로또 번호 생성 프로그램\n",
    "import random\n",
    "\n",
    "pick = set()  # 빈 집합\n",
    "\n",
    "while len(pick) < 6:\n",
    "    n = random.randint(1, 45)  # 랜덤 넘버 생성\n",
    "    if n not in pick:\n",
    "        pick.add(n)  # 집합에 요소 추가\n",
    "\n",
    "print(\"생성된 로또 번호 (집합 순서):\", pick)\n",
    "print(\"정렬된 로또 번호:\", sorted(pick))  # 순서대로 나열된 집합 출력\n"
   ]
  },
  {
   "cell_type": "markdown",
   "id": "14e9dfda",
   "metadata": {},
   "source": [
    "### 프로그램 설명\n",
    "\n",
    "1. **`import random`**: 랜덤 숫자 생성을 위한 모듈 임포트\n",
    "2. **`pick = set()`**: 빈 집합 생성\n",
    "3. **`while len(pick) < 6`**: 집합의 크기가 6이 될 때까지 반복\n",
    "4. **`random.randint(1, 45)`**: 1부터 45까지의 랜덤 정수 생성\n",
    "5. **`if n not in pick`**: 중복 확인 (집합의 특성상 자동으로 중복 제거되지만 명시적으로 확인)\n",
    "6. **`pick.add(n)`**: 집합에 요소 추가\n",
    "7. **`sorted(pick)`**: 정렬된 리스트로 변환하여 출력\n"
   ]
  }
 ],
 "metadata": {
  "language_info": {
   "name": "python"
  }
 },
 "nbformat": 4,
 "nbformat_minor": 5
}
