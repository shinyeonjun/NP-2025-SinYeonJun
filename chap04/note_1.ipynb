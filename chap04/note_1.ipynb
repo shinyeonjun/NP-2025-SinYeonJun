{
 "cells": [
  {
   "cell_type": "markdown",
   "id": "a34a1159",
   "metadata": {},
   "source": [
    "## 4장 노트정리\n",
    "\n",
    "이 파일은 4장 학습하면서 실행한 내용을 정리한 것이다.\n",
    "\n",
    "날짜: 2025.9.10\n",
    "\n",
    "학번: 202110763\n",
    "\n",
    "이름: 신연준\n"
   ]
  },
  {
   "cell_type": "markdown",
   "id": "c4d6b3d1",
   "metadata": {},
   "source": [
    "### 파이썬 자료구조 개요\n",
    "- **자료구조(data structure)**: 자료를 표현하고 처리하기 위해 사용되는 구조\n",
    "- **목적**: 자료를 효율적으로 처리하고 저장\n",
    "- **파이썬 기본 자료구조**:\n",
    "  - **문자열(string)**: `str = 'abcde'` - 홑/겹 따옴표로 묶인 문자열\n",
    "  - **리스트(list)**: `list = [1, 2, 3, 4]` - 순서가 있는 원소(객체)의 목록\n",
    "  - **튜플(tuple)**: `tuple = (1,2,3)` - immutable한 데이터의 쌍\n",
    "  - **딕셔너리(dictionary)**: `dic = {'a':1, 'b':23, 'c':32}` - 유일한 키로 이루어진 키:값의 집합\n",
    "  - **집합(set)**: `set = {1,5,3,2}` - 유일한 값들의 집합\n"
   ]
  },
  {
   "cell_type": "markdown",
   "id": "ef649dd2",
   "metadata": {},
   "source": [
    "### 문자열 정의와 구조\n",
    "- **문자열**: 문자나 단어 등으로 구성된 문자의 집합을 표현하는 자료구조\n",
    "- **문자열 리터럴**:\n",
    "  - `''` 또는 `\"\"`로 둘러싸기: `\"abc\"`, `'hello'`\n",
    "  - 여러 줄 문자열: `'''...'''` 또는 `\"\"\"...\"\"\"`\n"
   ]
  },
  {
   "cell_type": "code",
   "execution_count": null,
   "id": "618a5484",
   "metadata": {},
   "outputs": [],
   "source": [
    "# 여러 줄 문자열 예시\n",
    "multiline1 = '''\n",
    "Hello\n",
    "Python\n",
    "'''\n",
    "\n",
    "multiline2 = \"\"\"\n",
    "Hello\n",
    "Python\n",
    "\"\"\"\n",
    "\n",
    "print(\"첫 번째 여러 줄 문자열:\")\n",
    "print(multiline1)\n",
    "print(\"두 번째 여러 줄 문자열:\")\n",
    "print(multiline2)\n"
   ]
  },
  {
   "cell_type": "markdown",
   "id": "9ec4678d",
   "metadata": {},
   "source": [
    "### 문자열 인덱싱\n",
    "- **인덱스**: 문자열의 각 문자에 접근하는 방법\n",
    "- **양수 인덱스**: 0부터 시작\n",
    "- **음수 인덱스**: -1이 마지막 문자\n"
   ]
  },
  {
   "cell_type": "code",
   "execution_count": null,
   "id": "04c549dd",
   "metadata": {},
   "outputs": [],
   "source": [
    "# 문자열 인덱싱 예시\n",
    "word = 'Python'\n",
    "\n",
    "print(f\"word = '{word}'\")\n",
    "print(f\"word[0] = '{word[0]}'    # 첫 번째 문자\")\n",
    "print(f\"word[5] = '{word[5]}'    # 마지막 문자\")\n",
    "print(f\"word[-1] = '{word[-1]}'   # 마지막 문자\")\n",
    "print(f\"word[-6] = '{word[-6]}'   # 첫 번째 문자\")\n"
   ]
  },
  {
   "cell_type": "markdown",
   "id": "918a7cda",
   "metadata": {},
   "source": [
    "### 문자열 슬라이싱\n",
    "- **슬라이싱**: 문자열의 일부분을 잘라내는 방법\n",
    "- **형식**: `word[start:end]` - start 이상 end 미만\n",
    "- **특징**: 범위를 벗어나도 오류 없이 빈 문자열 반환\n"
   ]
  },
  {
   "cell_type": "code",
   "execution_count": null,
   "id": "290fd4a4",
   "metadata": {},
   "outputs": [],
   "source": [
    "# 문자열 슬라이싱 예시\n",
    "word = 'Python'\n",
    "\n",
    "print(f\"word = '{word}'\")\n",
    "print(f\"word[0:2] = '{word[0:2]}'   # 0번부터 1번까지\")\n",
    "print(f\"word[2:5] = '{word[2:5]}'   # 2번부터 4번까지\")\n",
    "print(f\"word[:2] = '{word[:2]}'     # 처음부터 1번까지\")\n",
    "print(f\"word[4:] = '{word[4:]}'     # 4번부터 끝까지\")\n",
    "print(f\"word[-2:] = '{word[-2:]}'   # 뒤에서 2번째부터 끝까지\")\n",
    "\n",
    "# 범위 벗어나는 경우\n",
    "print(f\"word[4:42] = '{word[4:42]}' # 범위 벗어나도 OK\")\n",
    "print(f\"word[42:] = '{word[42:]}'   # 빈 문자열 반환\")\n"
   ]
  },
  {
   "cell_type": "markdown",
   "id": "50192487",
   "metadata": {},
   "source": [
    "### 문자열 불변성과 오류\n",
    "- **불변성(immutable)**: 문자열은 수정할 수 없음\n",
    "- **해결 방법**: 새로운 문자열 생성\n"
   ]
  },
  {
   "cell_type": "code",
   "execution_count": null,
   "id": "b4945f3f",
   "metadata": {},
   "outputs": [],
   "source": [
    "# 문자열 불변성 예시\n",
    "word = 'Python'\n",
    "\n",
    "# 문자열 수정 시도 (오류 발생)\n",
    "try:\n",
    "    word[0] = 'J'\n",
    "except TypeError as e:\n",
    "    print(f\"오류 발생: {e}\")\n",
    "\n",
    "# 새로운 문자열 생성으로 해결\n",
    "word2 = 'J' + word[1:]\n",
    "print(f\"원본: {word}\")\n",
    "print(f\"새 문자열: {word2}\")\n",
    "\n",
    "# 인덱스 범위 벗어나는 경우\n",
    "try:\n",
    "    print(word[42])  # 오류 발생\n",
    "except IndexError as e:\n",
    "    print(f\"인덱스 오류: {e}\")\n",
    "\n",
    "# 슬라이싱은 범위 벗어나도 OK\n",
    "print(f\"word[4:42] = '{word[4:42]}'\")\n",
    "print(f\"word[42:] = '{word[42:]}'\")\n"
   ]
  },
  {
   "cell_type": "markdown",
   "id": "c9f08575",
   "metadata": {},
   "source": [
    "### 문자열 길이와 멤버 연산자\n",
    "- **길이 확인**: `len()` 함수 사용\n",
    "- **멤버 연산자**: 문자열에 특정 문자가 포함되어 있는지 확인\n"
   ]
  },
  {
   "cell_type": "code",
   "execution_count": null,
   "id": "41444017",
   "metadata": {},
   "outputs": [],
   "source": [
    "# 문자열 길이와 멤버 연산자 예시\n",
    "s = 'smiles'\n",
    "print(f\"문자열 '{s}'의 길이: {len(s)}\")\n",
    "\n",
    "# 멤버 연산자\n",
    "print(f\"'a' in 'cat': {'a' in 'cat'}\")\n",
    "print(f\"'a' not in 'can': {'a' not in 'can'}\")\n",
    "\n",
    "# 문자열 역순 만들기\n",
    "def reverse_string(input_str):\n",
    "    outStr = \"\"\n",
    "    count = len(input_str)\n",
    "    for i in range(0, count):\n",
    "        outStr += input_str[count - (i + 1)]\n",
    "    return outStr\n",
    "\n",
    "test_string = \"Python\"\n",
    "reversed_str = reverse_string(test_string)\n",
    "print(f\"원본: {test_string}\")\n",
    "print(f\"역순: {reversed_str}\")\n",
    "\n",
    "# 파이썬의 간단한 방법\n",
    "print(f\"슬라이싱 사용: {test_string[::-1]}\")\n"
   ]
  },
  {
   "cell_type": "markdown",
   "id": "04ca8fac",
   "metadata": {},
   "source": [
    "### 문자열 구성 파악 메소드\n",
    "- **문자열 구성 확인**: isdigit(), isalpha(), isalnum(), isupper(), islower(), isspace()\n",
    "- **대소문자 변환**: upper(), lower(), swapcase(), title()\n"
   ]
  },
  {
   "cell_type": "code",
   "execution_count": null,
   "id": "66c9589e",
   "metadata": {},
   "outputs": [],
   "source": [
    "# 문자열 구성 파악 메소드 예시\n",
    "print(\"=== 문자열 구성 확인 ===\")\n",
    "print(f\"'123'.isdigit(): {'123'.isdigit()}\")\n",
    "print(f\"'abcABC'.isalpha(): {'abcABC'.isalpha()}\")\n",
    "print(f\"'Ab122'.isalnum(): {'Ab122'.isalnum()}\")\n",
    "print(f\"'AB'.isupper(): {'AB'.isupper()}\")\n",
    "print(f\"'ab'.islower(): {'ab'.islower()}\")\n",
    "print(f\"' '.isspace(): {' '.isspace()}\")\n",
    "\n",
    "print(\"\\n=== 대소문자 변환 ===\")\n",
    "text = 'Python programming is easy!'\n",
    "print(f\"원본: {text}\")\n",
    "print(f\"upper(): {text.upper()}\")\n",
    "print(f\"lower(): {text.lower()}\")\n",
    "print(f\"swapcase(): {text.swapcase()}\")\n",
    "print(f\"title(): {text.title()}\")\n"
   ]
  },
  {
   "cell_type": "markdown",
   "id": "80a45ac8",
   "metadata": {},
   "source": [
    "### 문자열 검색 메소드\n",
    "- **문자 개수와 위치 찾기**: count(), find(), rfind(), index()\n",
    "- **문자열 분리**: split(), split(구분자)\n"
   ]
  },
  {
   "cell_type": "code",
   "execution_count": null,
   "id": "53124c9a",
   "metadata": {},
   "outputs": [],
   "source": [
    "# 문자열 검색 메소드 예시\n",
    "text = 'Python programming is easy!'\n",
    "\n",
    "print(\"=== 문자 개수와 위치 찾기 ===\")\n",
    "print(f\"text = '{text}'\")\n",
    "print(f\"count('i'): {text.count('i')}\")\n",
    "print(f\"find('o'): {text.find('o')}\")\n",
    "print(f\"rfind('o'): {text.rfind('o')}\")\n",
    "print(f\"index('on'): {text.index('on')}\")\n",
    "\n",
    "# 없는 문자 검색\n",
    "print(f\"find('z'): {text.find('z')}  # 없으면 -1\")\n",
    "\n",
    "print(\"\\n=== 문자열 분리 ===\")\n",
    "x = 'a bc'\n",
    "print(f\"x = '{x}'\")\n",
    "print(f\"x.split(): {x.split()}\")\n",
    "print(f\"x.split('b'): {x.split('b')}\")\n",
    "\n",
    "# 다양한 구분자로 분리\n",
    "data = \"apple,banana,cherry\"\n",
    "print(f\"'{data}'.split(','): {data.split(',')}\")\n"
   ]
  },
  {
   "cell_type": "markdown",
   "id": "63237fb9",
   "metadata": {},
   "source": [
    "### 문자열 공백 제거와 결합\n",
    "- **공백 제거**: strip(), rstrip(), lstrip()\n",
    "- **문자열 결합**: join()\n",
    "- **문자열 채우기**: zfill()\n"
   ]
  },
  {
   "cell_type": "code",
   "execution_count": null,
   "id": "30bc4677",
   "metadata": {},
   "outputs": [],
   "source": [
    "# 문자열 공백 제거와 결합 예시\n",
    "print(\"=== 공백 제거 ===\")\n",
    "text = ' hello '\n",
    "print(f\"원본: '{text}'\")\n",
    "print(f\"strip(): '{text.strip()}'\")\n",
    "print(f\"rstrip(): '{text.rstrip()}'\")\n",
    "print(f\"lstrip(): '{text.lstrip()}'\")\n",
    "\n",
    "print(\"\\n=== 문자열 결합 ===\")\n",
    "print(f\"'*'.join('hello'): {'*'.join('hello')}\")\n",
    "print(f\"'-'.join(['a', 'b', 'c']): {'-'.join(['a', 'b', 'c'])}\")\n",
    "\n",
    "print(\"\\n=== 문자열 채우기 ===\")\n",
    "print(f\"'12'.zfill(5): {'12'.zfill(5)}\")\n",
    "print(f\"'123'.zfill(2): {'123'.zfill(2)}\")  # 이미 길이가 충분한 경우\n"
   ]
  },
  {
   "cell_type": "markdown",
   "id": "66b3a641",
   "metadata": {},
   "source": [
    "### 문자열 정렬 메소드\n",
    "- **문자열 정렬**: rjust(), ljust(), center()\n",
    "- **메소드 사용 팁**:\n",
    "  - `dir(str)`: 문자열 메소드 목록 확인\n",
    "  - `help(str.method)`: 특정 메소드 도움말 보기\n",
    "  - 문자열은 객체이므로 `객체.메소드()` 형태로 호출\n"
   ]
  },
  {
   "cell_type": "code",
   "execution_count": null,
   "id": "effada6a",
   "metadata": {},
   "outputs": [],
   "source": [
    "# 문자열 정렬 메소드 예시\n",
    "print(\"=== 문자열 정렬 ===\")\n",
    "text = 'he'\n",
    "print(f\"원본: '{text}'\")\n",
    "print(f\"rjust(5): '{text.rjust(5)}'\")\n",
    "print(f\"ljust(5): '{text.ljust(5)}'\")\n",
    "print(f\"center(5): '{text.center(5)}'\")\n",
    "\n",
    "print(\"\\n=== 다양한 길이로 정렬 ===\")\n",
    "print(f\"rjust(10, '*'): '{text.rjust(10, '*')}'\")\n",
    "print(f\"ljust(10, '-'): '{text.ljust(10, '-')}'\")\n",
    "print(f\"center(10, '='): '{text.center(10, '=')}'\")\n",
    "\n",
    "print(\"\\n=== 메소드 목록 확인 ===\")\n",
    "print(\"dir(str)의 일부 메소드들:\")\n",
    "methods = [method for method in dir(str) if not method.startswith('_')]\n",
    "print(methods[:10])  # 처음 10개만 출력\n"
   ]
  },
  {
   "cell_type": "markdown",
   "id": "529e1771",
   "metadata": {},
   "source": [
    "### 1. 자료구조\n",
    "• 자료를 표현하고 처리하기 위해 사용되는 구조  \n",
    "• 자료를 효율적으로 처리하고 저장하는 데 사용  \n",
    "• 파이썬에서 사용되는 기본 자료 구조  \n",
    "   • 문자열(string) : str = 'abcde' 홑/겹 따옴표로 묶인 문자열  \n",
    "   •  리스트(list) : list = [ 1, 2, 3, 4] 순서가 있는 원소(객체)의 목록  \n",
    "   • 튜플(tuple) tuple = (1,2,3) immutable 한 데이터의 쌍  \n",
    "   •  딕셔너리(dictionary) dic = {'a':1, 'b':23, 'c': 32} 유일한 키로 이루어진 키:값의 집합  \n",
    "   • 집합(set) set = {1,5,3,2} 유일한 값들의 집합\n",
    "\n",
    "\n",
    "#### 문자열\n",
    "> 문자열은 문자나 단어 등으로 구성된 문자의 집합을 표현하는 자료구조   \n",
    "> 다수의 문자를 표현하기 위한 자료구조\n",
    "문자열이름 = \"글씨들\" (또는 '글씨들')\n"
   ]
  },
  {
   "cell_type": "code",
   "execution_count": null,
   "id": "08ab6618",
   "metadata": {},
   "outputs": [],
   "source": [
    "# 문자열 요소(문자)를 개별적으로 사용하기 - index\n",
    "word = 'Python'\n",
    "word[0]         # 위치(첨자) 0의 문자. 인덱스는 0부터 시작\n",
    "word[5]         # 인덱스 5의 문자\n",
    "\n",
    "word = 'Python'\n",
    "word[-1]        # 마지막 문자. 마지막은 -1로 표시\n",
    "word[-6]        # 뒤에서 6번째 문자\n"
   ]
  },
  {
   "cell_type": "code",
   "execution_count": null,
   "id": "19b15086",
   "metadata": {},
   "outputs": [],
   "source": [
    "# 문자열 슬라이싱(잘라내기)\n",
    "word = 'Python'\n",
    "word[0:2]           # 첨자 0부터 1(=2-1)까지\n",
    "word[2:5]           # 첨자 2부터 4(=5-1)까지\n",
    "word[:2]            # 첨자 0부터 1까지\n",
    "word[4:]            # 첨자 4부터 끝까지\n",
    "word[-2:]           # 첨자 -2부터 끝까지 문자열\n",
    "\n",
    "word = 'Python'\n",
    "word[:2]            # 처음부터 1까지 슬라이싱\n",
    "word[2:]            # 2부터 끝까지 \n",
    "word[:2] + word[2:] # 문자열 합치기\n"
   ]
  },
  {
   "cell_type": "code",
   "execution_count": null,
   "id": "8121ced6",
   "metadata": {},
   "outputs": [],
   "source": [
    "# 문자열 인덱싱과 슬라이싱 오류\n",
    "# word[42] # 6개 문자로 구성되어 있을 때\n",
    "\n",
    "word[4:42] # ➊ 슬라이싱에서는 범위를 벗어나도 OK\n",
    "word[42:]  # ➋ 범위를 벗어난 슬라이싱\n",
    "\n",
    "# 문자열은 수정 불가 - immutable\n",
    "word[0] = 'J'\n"
   ]
  },
  {
   "cell_type": "code",
   "execution_count": null,
   "id": "5395fccd",
   "metadata": {},
   "outputs": [],
   "source": [
    "# 슬라이싱을 이용하여 새로운 문자열 만들기\n",
    "word = 'Python'\n",
    "word2 = 'J' + word[1:] # +를 이용한 문자열 합치기\n",
    "word2\n",
    "\n",
    "# 문자열 길이 확인 - len()\n",
    "s = 'smiles'\n",
    "len(s)\n",
    "\n",
    "# index를 이용하여 문자열의 문자를 역순으로 만들기\n",
    "## 변수 초기화 부분 ##\n",
    "outStr = \"\" # 출력 문자열(빈 문자열)\n",
    "count, i = 0, 0\n",
    "## 메인 코드 부분 ##\n",
    "inStr = input(\"Type string : \")\n",
    "count = len(inStr) # 문자열 길이\n",
    "for i in range(0, count):\n",
    "    outStr += inStr[count - (i + 1)] # 마지막 문자부터 추출하여 합치기\n",
    "print(\"Reversed string : %s\" % outStr)\n",
    "\n",
    "# 문자열에서 문자 조사하기 – in/not in 연산자(멤버 연산자)\n",
    "'a' in 'cat'\n",
    "'a' not in 'can'\n"
   ]
  },
  {
   "cell_type": "markdown",
   "id": "0669fa67",
   "metadata": {},
   "source": [
    "#### 문자열 처리 메소드 : dir(str), help(str.method)\n",
    "• 파이썬은 객체지향 언어이므로 객체(object)가 많이 사용된다  \n",
    "• 객체는 변수와 함수를 묶은 것이다. 문자열도 객체다  \n",
    "• 객체와 관련된 함수를 메소드라 하며 객체.함수()로 호출한다\n",
    "\n",
    "####  문자열 구성 파악하기\n",
    "- '123'.isdigit() 문자열이 숫자인가?\n",
    "- 'abcABC'.isalpha() 문자열이 문자인가?\n",
    "- 'Ab122'.isalnum() 문자열이 문자+숫자 혼합인가?\n",
    "- 'AB'.isupper() 문자열이 대문자인가?\n",
    "- 'ab'.islower() 문자열이 소문자인가?\n",
    "- ' '.isspace() 문자열이 공백인가?\n",
    "\n",
    "#### 문자열을 대소문자로 변환하기\n",
    "- str = 'Python programming is easy!'\n",
    "- str.upper() 대문자로 변환\n",
    "- str.lower() 소문자로 변환\n",
    "- str.swapcase() 대소문자 바꾸기\n",
    "- str.title() 첫 글자만 대문자로 변환\n"
   ]
  },
  {
   "cell_type": "code",
   "execution_count": null,
   "id": "49bfeed4",
   "metadata": {},
   "outputs": [],
   "source": [
    "# 문자열 찾기\n",
    "str = 'Python programming is easy!'\n",
    "str.count('i')  # 문자열에서 문자 'i'의 개수\n",
    "\n",
    "str.find('o')   # 문자열에서 'o'의 처음 위치. 없으면 -1 반환\n",
    "\n",
    "str.rfind('o')  # 문자열에서 'o'가 나오는 가장 나중 위치\n",
    "\n",
    "str.index('on') # 문자열에서 'on'의 처음 위치. 없으면 ValueError\n",
    "\n",
    "# 문자열 분리하기\n",
    "x = 'a bc'      # a와 b 사이에 공백이 있다\n",
    "x.split()       # 공백을 기준으로 분리\n",
    "\n",
    "x.split('b')    # 문자열을 ( )속의 문자로 분리한다\n",
    "# ['a ', 'c']   # 분리문자 'b'는 제외됨\n",
    "\n",
    "# 문자열에서 공백 제거하기\n",
    "str = ' hello '\n",
    "str.strip()     # 양쪽에서 공백 제거\n",
    "\n",
    "str             # 원래 문자열은 변하지 않는다\n",
    "\n",
    "str.rstrip()    # 오른쪽 공백 제거\n",
    "\n",
    "str.lstrip()    # 왼쪽 공백 제거\n",
    "\n",
    "# 문자열 결합하기\n",
    "'*'.join('hello') # *와 문자열의 각 문자를 하나씩 결합한 문자열 생성\n",
    "\n",
    "# 문자열 채우기\n",
    "'12'.zfill(5)   # 문자열 '12'의 왼쪽을 0으로 채워 5자리로 만든다\n",
    "\n",
    "# 문자열 정렬하기\n",
    "'he'.rjust(5)   # 5자리를 오른쪽으로 정렬\n",
    "\n",
    "'he'.ljust(5)   # 5자리를 왼쪽으로 정렬\n",
    "\n",
    "'he'.center(5)  # 5자리를 가운데로 정렬\n"
   ]
  },
  {
   "cell_type": "markdown",
   "id": "8a807569",
   "metadata": {},
   "source": [
    "---\n",
    "### 1. 리스트\n",
    "> 리스트는 여러 가지 자료를 하나로 모아서 표현할 수 있는 자료구조\n",
    "\n",
    "#### 리스트\n",
    "> 리스트는 여러 개의 데이터를 하나의 이름으로 저장하는 자료 구조  \n",
    "> 리스트 이름 = [항목1 , 항목2, ...]\n"
   ]
  },
  {
   "cell_type": "code",
   "execution_count": null,
   "id": "6822bc9f",
   "metadata": {},
   "outputs": [],
   "source": [
    "# 리스트 생성\n",
    "odd = [1, 3, 5, 7, 9]                   # [ ]를 이용하여 리스트 생성\n",
    "squares = [1, 4, 9, 16, 25]\n",
    "print(squares)\n",
    "\n",
    "empty = []                              # 공백 리스트. empy = list()\n",
    "print(empty)\n",
    "\n",
    "a = [1, 'hello', 2, 'world', 1.23]      # 리스트 요소는 어떤 것이라도 가능\n"
   ]
  },
  {
   "cell_type": "code",
   "execution_count": null,
   "id": "98f13d82",
   "metadata": {},
   "outputs": [],
   "source": [
    "# 리스트의 인덱싱(요소 접근하기)과 슬라이싱(잘라내기)\n",
    "squares = [1, 4, 9, 16, 25]\n",
    "print(squares[0])   # 리스트 요소 추출하기(인덱싱은 0부터)\n",
    "print(squares[-1])  # 마지막 요소\n",
    "print(squares[0:3]) # 0부터(3-1)까지 잘라내기\n",
    "print(squares[-3:])  # 뒤에서 3번째부터 마지막까지 잘라내기\n",
    "\n",
    "# 리스트 합치기\n",
    "print(squares + [36, 49, 64, 81, 100]) # 리스트 합치기\n",
    "\n",
    "a = [1, 2, 3]\n",
    "b = [4, 5, 6]\n",
    "print(a + b)                           # 리스트 합치기\n"
   ]
  },
  {
   "cell_type": "code",
   "execution_count": null,
   "id": "9332c377",
   "metadata": {},
   "outputs": [],
   "source": [
    "# 리스트의 요소 수정, 추가하기\n",
    "# ➊ 수정하기\n",
    "cubes = [1, 8, 27, 65, 125]      #세제곱수\n",
    "print(4 ** 3)                    # 4의 세제곱은 64!\n",
    "\n",
    "cubes[3] = 64                    # 리스트 요소 수정하기\n",
    "print(cubes)                     #수정된 리스트\n",
    "\n",
    "# ➋ 마지막에 요소 추가하기\n",
    "cubes.append(216)                # 마지막에 리스트 요소 추가하기\n",
    "cubes.append(7 ** 3)             # 마지막에 리스트 요소 추가하기\n",
    "print(cubes)\n",
    "\n",
    "# ➌ 요소 수정하기\n",
    "letters = ['a', 'b', 'c', 'd', 'e', 'f', 'g']\n",
    "print(letters)\n",
    "\n",
    "letters[2:5] = ['C', 'D', 'E']   # 리스트 요소 수정\n",
    "print(letters)\n",
    "\n",
    "letters[2:5] = []                # 리스트 요소 제거\n",
    "print(letters)\n",
    "\n",
    "letters[:] = []                  # 리스트 요소를 모두 제거\n",
    "print(letters)\n"
   ]
  },
  {
   "cell_type": "code",
   "execution_count": null,
   "id": "39ddd544",
   "metadata": {},
   "outputs": [],
   "source": [
    "# 중첩 리스트\n",
    "a = ['a', 'b', 'c']\n",
    "n = [1, 2, 3]\n",
    "x = [a, n]\n",
    "print(x)            # 리스트 요소가 리스트이다\n",
    "\n",
    "print(x[0])\n",
    "\n",
    "print(x[0][1])      # 중첩 리스트 요소 지정\n"
   ]
  },
  {
   "cell_type": "code",
   "execution_count": null,
   "id": "e85e28f1",
   "metadata": {},
   "outputs": [],
   "source": [
    "# 2차원 리스트\n",
    "list2d = [[1,2,3],   # 배열을 나타낼 때 편리\n",
    "[4,5,6],\n",
    "[7,8,9]]\n",
    "\n",
    "print(list2d[0][0])  # 1\n",
    "print(list2d[2][2])  # 9\n"
   ]
  },
  {
   "cell_type": "code",
   "execution_count": null,
   "id": "b9e3a65d",
   "metadata": {},
   "outputs": [],
   "source": [
    "# 내장 함수를 이용한 리스트 다루기\n",
    "# ➊ 리스트 길이 알아내기\n",
    "letters = ['a', 'b', 'c', 'd']\n",
    "print(len(letters))\n",
    "\n",
    "# ➋ 리스트 요소 합, 최소값, 최대값 구하기\n",
    "num = [1, 2, 3, 4, 5]\n",
    "print(sum(num))\n",
    "print(min(num))\n",
    "print(max(num))\n",
    "print(max(num))\n"
   ]
  },
  {
   "cell_type": "markdown",
   "id": "b01ee4f7",
   "metadata": {},
   "source": [
    "#### 리스트 메소드(list.method)\n",
    "\n",
    "| 함수명 | 사용 방법 | 설명 |\n",
    "|--------|-----------|------|\n",
    "| `del()` | `del(List[pos])` | List의 pos 위치에 있는 항목을 삭제합니다. |\n",
    "| `len()` | `len(List)` | List에 있는 항목의 총 개수를 셉니다. |\n",
    "| `sorted()` | `newList = sorted(List)` | List의 항목들을 정렬하여 newList라는 새로운 리스트를 만듭니다. |\n",
    "| `append()` | `List.append(val)` | List의 끝에 val 항목을 추가합니다. |\n",
    "| `clear()` | `List.clear()` | List의 모든 내용을 지웁니다. |\n",
    "| `copy()` | `newList = List.copy()` | List의 내용을 newList라는 새로운 리스트에 복사합니다. |\n",
    "| `count()` | `List.count(val)` | List에서 val이 나타나는 횟수를 셉니다. |\n",
    "| `extend()` | `List.extend(newList)` | 현재 List의 끝에 newList를 추가합니다. |\n",
    "| `index()` | `List.index(val)` | val을 찾아서 그 인덱스(위치)를 반환합니다. |\n",
    "| `insert()` | `List.insert(pos, val)` | List의 pos 위치에 val을 삽입합니다. |\n",
    "| `pop()` | `List.pop()` | List의 끝에서 항목을 삭제합니다. |\n",
    "| `remove()` | `List.remove(val)` | List에서 val 항목을 삭제합니다. (여러 개가 있으면 첫 번째 것만 삭제) |\n",
    "| `reverse()` | `List.reverse()` | List의 항목 순서를 뒤집습니다. |\n",
    "| `sort()` | `List.sort()` | List의 항목들을 정렬합니다. |\n"
   ]
  },
  {
   "cell_type": "code",
   "execution_count": null,
   "id": "c5897744",
   "metadata": {},
   "outputs": [],
   "source": [
    "# 숫자 vs 문자열 연산\n",
    "\n",
    "# 숫자 연산\n",
    "print(10 + 20)                    # 숫자 덧셈: 30\n",
    "\n",
    "# 문자열 연산  \n",
    "print(\"10\" + \"20\")                # 문자열 연결: \"1020\"\n",
    "\n",
    "# 서식 지정 출력\n",
    "n = 10\n",
    "m = 5.2\n",
    "print(\"n=%d\" % n)                 # 정수 출력\n",
    "print(\"m=%.1f, n=%d\" % (m, n))    # 소수점 1자리, 정수 출력\n"
   ]
  },
  {
   "cell_type": "code",
   "execution_count": null,
   "id": "679ed768",
   "metadata": {},
   "outputs": [],
   "source": [
    "# input() 함수 사용법\n",
    "\n",
    "# 1. 사용자 입력 받기\n",
    "n = input('type a number : ')\n",
    "\n",
    "# 2. 입력된 데이터 확인\n",
    "print(n)\n",
    "\n",
    "# 3. 타입 변환\n",
    "print(f\"정수: {int(n)}\")\n",
    "print(f\"실수: {float(n)}\")\n",
    "print(f\"문자열: {str(n)}\")\n"
   ]
  },
  {
   "cell_type": "markdown",
   "id": "f18d72ee",
   "metadata": {},
   "source": [
    "#### 입출력 함수의 사용 예\n"
   ]
  },
  {
   "cell_type": "code",
   "execution_count": null,
   "id": "858caf09",
   "metadata": {},
   "outputs": [],
   "source": [
    "#  문자열을 입력 받아 다른 문자열과 결합하여 출력\n",
    "name = input('Name :')\n",
    "print(\"Hello, \" + name )\n",
    "\n",
    "# 두 정수를 입력 받아 곱셈 결과 출력\n",
    "a = int(input('Number 1: ')) # 문자열을 입력한 후 정수로 변환\n",
    "b = int(input('Number 2: '))\n",
    "print(a * b)\n",
    "\n",
    "# 섭씨온도(C)를 입력 받아 화씨온도(F)로 바꾸어 출력\n",
    "C = float(input(\"Type 섭씨온도 : \")) # 입력 문자열을 실수로 변환\n",
    "F = C * 9 / 5 + 32 #온도 변환\n",
    "print(\"화씨온도는\", F)\n"
   ]
  },
  {
   "cell_type": "markdown",
   "id": "dfd1d301",
   "metadata": {},
   "source": [
    "---\n",
    "### 📊 2. 기본 자료형\n",
    "> 파이썬에서 자료를 표현하기 위해 사용되는 기본 자료형을 알아본다.\n",
    "\n",
    "#### 부울형(Boolean)\n",
    "> 참(True) 또는 거짓(False) 중 하나의 값을 갖는 자료형(True, False)\n",
    "> 비교 결과를 저장할 때 사용\n"
   ]
  },
  {
   "cell_type": "code",
   "execution_count": null,
   "id": "5db204a0",
   "metadata": {},
   "outputs": [],
   "source": [
    "# 부울형 확인\n",
    "\n",
    "# 1. 부울형 출력\n",
    "aVar = True\n",
    "bVar = False\n",
    "print(type(aVar))\n",
    "\n",
    "# 비교 결과 출력\n",
    "a = 1\n",
    "b = 2\n",
    "c = a > b\n",
    "print(c)\n",
    "\n",
    "d = a < b\n",
    "print(d)\n"
   ]
  },
  {
   "cell_type": "markdown",
   "id": "81a8edd6",
   "metadata": {},
   "source": [
    "#### 정수(integer) 형\n"
   ]
  },
  {
   "cell_type": "code",
   "execution_count": null,
   "id": "e16b5fe5",
   "metadata": {},
   "outputs": [],
   "source": [
    "# 정수형 확인\n",
    "\n",
    "# 소수점 없는 숫자 표현\n",
    "intVar = 5\n",
    "print(type(intVar))\n",
    "\n",
    "# 여러 가지 정수 표현\n",
    "1, 23, 3493 # 10진수\n",
    "0b010101, 0b110010 # 2진수\n",
    "0o1, 0o27, 0o6645  # 8진수\n",
    "0x1, 0x17, 0xDA5   # 16진수\n"
   ]
  },
  {
   "cell_type": "markdown",
   "id": "704febea",
   "metadata": {},
   "source": [
    "#### 실수(float)형\n"
   ]
  },
  {
   "cell_type": "code",
   "execution_count": null,
   "id": "79887b71",
   "metadata": {},
   "outputs": [],
   "source": [
    "# 실수형 확인\n",
    "fVar = 1.0\n",
    "print(type(fVar))\n",
    "\n",
    "# 여러 가지 실수 표현\n",
    "0., 0.0, .0, 1., 1.0, 1e0, 1.e0, 1.0e2\n",
    "\n",
    "# 쉽게 식별할 수 있도록 _를 사용한 숫자의 표현(파이썬 3.6 부터 적용)\n",
    "100_000.000_0001, 0x_FF_FF, 0o7_777, 0b_1010_1010\n",
    "\n",
    "0.00_10_27\n"
   ]
  },
  {
   "cell_type": "markdown",
   "id": "9a89fe97",
   "metadata": {},
   "source": [
    "#### 문자열(string)\n",
    "> 나열된 문자들  \n",
    "> ' ' 또는 \" \"로 둘러 쌈\n"
   ]
  },
  {
   "cell_type": "code",
   "execution_count": null,
   "id": "3ab2a330",
   "metadata": {},
   "outputs": [],
   "source": [
    "# 문자열 확인\n",
    "strVar = \"test\"\n",
    "print(type(strVar))\n",
    "\n",
    "print('This is a literal string')\n",
    "print(\"This is another string\")\n",
    "\n",
    "print(\"I'm a Python fanatic\") #\"\" 속에 작은 따옴표를 사용할 경우\n",
    "print('I\"m a Python fanatic') #'' 속에 큰 따옴표를 사용할 경우\n",
    "\n",
    "# 문장을 두 줄 이상으로 표시할 경우\n",
    "print('A not very long string \\\n",
    "that spans two lines')\n"
   ]
  },
  {
   "cell_type": "markdown",
   "id": "dc5b5055",
   "metadata": {},
   "source": [
    "---\n",
    "### 3. 연산자\n",
    "> 프로그램에서 사용되는 연산자의 종류와 사용 방법을 알아본다\n",
    "\n",
    "### 지정 연산자(할당 연산자)\n",
    "> 변수의 값을 지정하기 위해 사용 =\n"
   ]
  },
  {
   "cell_type": "code",
   "execution_count": null,
   "id": "2cc6ab7f",
   "metadata": {},
   "outputs": [],
   "source": [
    "# 지정 연산자 예제\n",
    "i = 3\n",
    "i = i + 2\n"
   ]
  },
  {
   "cell_type": "markdown",
   "id": "0ab45926",
   "metadata": {},
   "source": [
    "#### 산술 연산자(arithmetic operator)\n",
    "\n",
    "> 사칙 연산자 : +, -, *, /  \n",
    "> 정수 나눗셈 : //  \n",
    "> 나머지 연산 : %  \n",
    "\n",
    "| 연산자 | 설명 | 사용 예 |\n",
    "|--------|------|---------|\n",
    "| `x + y` | `x`와 `y`를 더함 | `c = a + b` |\n",
    "| `x - y` | `x`에서 `y`를 뺌 | `s = a - b` |\n",
    "| `x * y` | `x`와 `y`를 곱함 | `m = a * b` |\n",
    "| `x / y` | `x`를 `y`로 나눔 | `d = a / b` |\n",
    "| `x // y` | `x`를 `y`로 나눔 (정수 나눗셈) | `d = a // b` |\n",
    "| `x % y` | `x`를 `y`로 나눈 나머지 | `r = a % b` |\n",
    "| `x ** y` | `x`의 `y` 제곱 | `r = 2 ** 5` |\n"
   ]
  },
  {
   "cell_type": "code",
   "execution_count": null,
   "id": "eaf7e772",
   "metadata": {},
   "outputs": [],
   "source": [
    "# ➕ 산술 연산자 예제\n",
    "a = 10\n",
    "b = 3\n",
    "\n",
    "# 나머지 연산 (%)\n",
    "c = a % b  # -> 1 (10을 3으로 나눈 나머지)\n",
    "\n",
    "# 정수 나눗셈 (//)\n",
    "d = a // b  # -> 3 (10을 3으로 나눈 몫)\n",
    "\n",
    "# 일반 나눗셈 (/)\n",
    "e = a / b  # -> 3.3333333333333335 (10을 3으로 나눈 결과)\n"
   ]
  },
  {
   "cell_type": "markdown",
   "id": "6cb85835",
   "metadata": {},
   "source": [
    "#### 🔍 관계 연산자(relation operator)\n",
    "\n",
    "> 비교연산자  \n",
    "> 항의 대소관계 또는 동등관계 판정  \n",
    "> 연산결과는 True(참) 또는 False(거짓)  \n",
    "\n",
    "| 연산자 | 설명 | 사용 예 |\n",
    "|--------|------|---------|\n",
    "| `x < y` | `x`가 `y`보다 작으면 `True` | `x=1; y=2; print(x<y)` |\n",
    "| `x <= y` | `x`가 `y`보다 작거나 같으면 `True` | `x=1; y=2; print(x<=y)` |\n",
    "| `x > y` | `x`가 `y`보다 크면 `True` | `x=1; y=2; print(x>y)` |\n",
    "| `x >= y` | `x`가 `y`보다 크거나 같으면 `True` | `x=1; y=2; print(x>=y)` |\n",
    "| `x == y` | `x`와 `y`가 같으면 `True` | `x=1; y=2; print(x==y)` |\n",
    "| `x != y` | `x`와 `y`가 다르면 `True` | `x=1; y=2; print(x!=y)` |\n"
   ]
  },
  {
   "cell_type": "code",
   "execution_count": null,
   "id": "c328e58f",
   "metadata": {},
   "outputs": [],
   "source": [
    "# 🔍 관계 연산자 예제\n",
    "score = 95\n",
    "\n",
    "# 크거나 같음 (>=)\n",
    "print(score >= 90)  # True (95는 90보다 크거나 같음)\n",
    "\n",
    "# 작음 (<)\n",
    "print(score < 80)   # False (95는 80보다 작지 않음)\n",
    "\n",
    "# 같음 (==)\n",
    "print(score == 90)  # False (95는 90과 같지 않음)\n",
    "\n",
    "# 다름 (!=)\n",
    "print(score != 80)  # True (95는 80과 다름)\n"
   ]
  },
  {
   "cell_type": "markdown",
   "id": "1b005605",
   "metadata": {},
   "source": [
    "#### 🧠 논리 연산자 (logical operator)\n",
    "\n",
    "> 논리곱(and), 논리합(or), 논리부정(not)  \n",
    "> 논리 연산의 대상은 True 또는 False. 결과도 True 또는 False  \n",
    "\n",
    "| 연산자 | 설명 | 사용 예 |\n",
    "|--------|------|---------|\n",
    "| `x and y` | `x`와 `y`가 모두 참일 때만 연산 결과가 참 | `a=5; print(a > 0 and a < 10)` |\n",
    "| `x or y` | `x`와 `y` 둘 중 하나라도 참이면 연산 결과가 참 | `a=5; print(a < -3 or a > 3)` |\n",
    "| `not x` | `x`의 부정. `x`가 참(거짓)이면 결과는 거짓(참). | `a=False; print(not a)` |\n"
   ]
  },
  {
   "cell_type": "code",
   "execution_count": null,
   "id": "4cb9c793",
   "metadata": {},
   "outputs": [],
   "source": [
    "# 🧠 논리 연산자 예제\n",
    "exam = 85\n",
    "report = 85\n",
    "\n",
    "# 논리곱 (and) - 둘 다 참이어야 참\n",
    "print(exam >= 80 and report >= 80)  # True (둘 다 80 이상)\n",
    "\n",
    "# 논리합 (or) - 하나라도 참이면 참\n",
    "print(exam >= 90 or report >= 90)   # False (둘 다 90 미만)\n",
    "\n",
    "# 논리부정 (not) - 참이면 거짓, 거짓이면 참\n",
    "print(not(exam < 90))               # False (exam < 90은 False이므로 not False = True)\n"
   ]
  },
  {
   "cell_type": "markdown",
   "id": "2373135f",
   "metadata": {},
   "source": [
    "#### 🔍 멤버 연산자(membership operator)\n",
    "> 특정 문자열 또는 값이 문자열 또는 리스트(반복객체)에 속해 있는지 판별하는 연산자\n"
   ]
  },
  {
   "cell_type": "code",
   "execution_count": null,
   "id": "13696357",
   "metadata": {},
   "outputs": [],
   "source": [
    "# 🔍 멤버 연산자 예제\n",
    "\n",
    "# in 연산자 - 포함되어 있는지 확인\n",
    "print('py' in 'python')    # True ('py'가 'python'에 포함됨)\n",
    "\n",
    "# not in 연산자 - 포함되어 있지 않은지 확인\n",
    "print('ty' not in 'python') # True ('ty'가 'python'에 포함되지 않음)\n"
   ]
  },
  {
   "cell_type": "markdown",
   "id": "6aa6568d",
   "metadata": {},
   "source": [
    "#### 🆔 식별 연산자(identity operator)\n",
    "> is : 양쪽 변수의 주소가 같은지 판단. if id(a) == id(b)  \n",
    "> is not : 양쪽 변수의 주소가 다른지 판단. if id(a) != id(b)\n"
   ]
  },
  {
   "cell_type": "code",
   "execution_count": null,
   "id": "c645af08",
   "metadata": {},
   "outputs": [],
   "source": [
    "# 🆔 식별 연산자 예제\n",
    "a = 2\n",
    "b = 2\n",
    "\n",
    "# 변수의 메모리 주소 확인\n",
    "print(id(a))  # 변수 a의 메모리 주소\n",
    "print(id(b))  # 변수 b의 메모리 주소\n",
    "\n",
    "# 주소 비교 (직접 비교)\n",
    "print(id(a) == id(b))  # True (같은 주소)\n",
    "\n",
    "# is 연산자 사용\n",
    "print(a is b)          # True (같은 객체)\n",
    "\n",
    "# is not 연산자 사용\n",
    "print(a is not b)      # False (같은 객체이므로)\n"
   ]
  },
  {
   "cell_type": "markdown",
   "id": "dcd26fb8",
   "metadata": {},
   "source": [
    "### ⚠️ 연산 오류\n",
    "#### 🚨 타입 에러(type error)\n",
    "> 연산할 수 없는 자료형을 연산하면 타입 에러 발생\n"
   ]
  },
  {
   "cell_type": "code",
   "execution_count": null,
   "id": "ed616ac6",
   "metadata": {},
   "outputs": [],
   "source": [
    "# 🚨 타입 에러 예제\n",
    "age = 23\n",
    "message = \"Happy \" + age + \"rd Birthday!\"  # ❌ 에러 발생!\n",
    "print(message)\n",
    "\n",
    "# Traceback (most recent call last):\n",
    "# File \"birthday.py\", line 2, in <module> ➊\n",
    "# message = \"Happy \" + age + \"rd Birthday!\"\n",
    "# TypeError: Can't convert 'int' object to str implicitly ➋\n",
    "\n",
    "## ➊ 에러 발생 위치\n",
    "## ➋ 에러 내용; int 형을 암시적으로 문자열로 변환할 수 없음\n"
   ]
  },
  {
   "cell_type": "markdown",
   "id": "a59f9453",
   "metadata": {},
   "source": [
    "---\n",
    "### 4. 딕셔너리(dictionary)\n",
    "> 사전과 같이 대응 관계를 나타내는 자료구조  \n",
    "> 키(key):값(value)로 구성되는 자료 구조  \n",
    "  {key1: value1, key2: value2}  \n",
    "> 키는 정수, 실수, 문자열, 튜플  \n",
    "> 값은 임의의 데이터형\n"
   ]
  },
  {
   "cell_type": "code",
   "execution_count": null,
   "id": "4cc978d9",
   "metadata": {},
   "outputs": [],
   "source": [
    "# 딕셔너리 생성\n",
    "height = {'Jun':174, 'Kim':170, 'Lee':165}  # {key:value}\n",
    "height\n",
    "\n",
    "test = dict()  # 빈 딕셔너리 생성, a = {}\n",
    "test\n",
    "\n",
    "# 딕셔너리 key 값 조사하기\n",
    "height['Kim'] # Dict[key]로 값 조사하기\n",
    "\n",
    "# 딕셔너리 키 조사\n",
    "height = {'Jun':174, 'Kim':170, 'Lee':165}\n",
    "'Kim' in height # in 연산자로 key가 있는지 조사\n",
    "\n",
    "# 딕셔너리 요소 수정, 추가하기\n",
    "height['Lee'] = 180  # 요소 수정하기\n",
    "height\n",
    "\n",
    "height['Ihm']=168  # 요소 추가하기\n",
    "height\n",
    "\n",
    "# 딕셔너리의 키, 값, 요소를 뽑아내기\n",
    "height.keys()  # 키 뽑아내기\n",
    "# dict_keys(['Jun', 'Kim', 'Lee', 'Ihm']) # iterable(반복객체)이 반환됨\n",
    "height.values() # 값 뽑아내기\n",
    "\n",
    "height.items() # 요소를 튜플로 분리하기\n",
    "\n",
    "# ➊ 뽑아낸 키를 리스트로 변환하기\n",
    "dict_keys = height.keys()\n",
    "keys_list = list(dict_keys)\n",
    "keys_list\n",
    "\n",
    "# 딕셔너리 요소 제거하기\n",
    "height.pop('Ihm') # 'lhm' 요소 제거\n",
    "height\n",
    "\n",
    "# 딕셔너리 지우기\n",
    "height.clear()  # 요소를 지우기. 빈 딕셔너리로 만든다\n",
    "height\n"
   ]
  },
  {
   "cell_type": "markdown",
   "id": "23899a48",
   "metadata": {},
   "source": [
    "---\n",
    "### 5. 집합(set)\n",
    "> {} 속에 요소들을 중복되지 않고 순서없이 모아놓은 자료 구조  \n",
    "> 집합 자료형 : 집합에 관련된 것을 처리하기 위한 자료형\n"
   ]
  },
  {
   "cell_type": "code",
   "execution_count": null,
   "id": "1db7b0b4",
   "metadata": {},
   "outputs": [],
   "source": [
    "# 집합의 생성\n",
    "numbers = {1,2,3}\n",
    "name = set(['Kim', 'Lee', 'Park'])\n",
    "\n",
    "# 빈 집합 생성, 개수 확인, 요소 추가, 요소 제거하기\n",
    "empty = set() #빈 집합 생성\n",
    "numbers = {1,2,3}\n",
    "len(numbers)\n",
    "\n",
    "numbers.add(4) #요소 추가\n",
    "numbers\n",
    "\n",
    "numbers.remove(4) #요소 제거\n",
    "numbers\n",
    "\n",
    "# 집합의 연산\n",
    "setA={1,2,3}\n",
    "setB={2,3,4}\n",
    "setA & setB # 교집합. setA.intersection(setB)\n",
    "setA | setB # 합집합 . setA.union(setB)\n",
    "setA - setB # 차집합. setA에서 setB 요소를 뺀 나머지.\n",
    "\n",
    "# 부분 집합 연산\n",
    "setA = {1, 2, 3}\n",
    "setB = {1, 2, 3}\n",
    "setA == setB # 두 개의 집합이 같은가?\n",
    "\n",
    "setA = {1, 2, 3, 4, 5, 6}\n",
    "setB = {1, 2, 3}\n",
    "setB < setA # 집합 B가 집합 A의 부분집합인가?\n",
    "\n",
    "setB.issubset(setA)  # 집합 B가 집합 A의 부분집합인가?\n"
   ]
  },
  {
   "cell_type": "code",
   "execution_count": null,
   "id": "24c38c4b",
   "metadata": {},
   "outputs": [],
   "source": [
    "# 집합 예제\n",
    "# 1부터 45까지의 수 중에서 6개를 선택하여 로또 번호를 만드는 프로그램\n",
    "import random\n",
    "pick = set() #빈 집합\n",
    "while len(pick) < 6:\n",
    " n = random.randint(1,45)  #랜덤 넘버 생성\n",
    " if n not in pick:\n",
    "    pick.add(n)  #집합에 요소 추가\n",
    "print(pick)\n",
    "print(sorted(pick))  #순서대로 나열된 집합 출력\n"
   ]
  },
  {
   "cell_type": "markdown",
   "id": "c513b14a",
   "metadata": {},
   "source": [
    "## 튜플(tuple)\n",
    "\n",
    "튜플은 리스트와 비슷한 자료구조이지만, 요소 값을 변경할 수 없는(immutable) 특징을 가집니다.\n"
   ]
  },
  {
   "cell_type": "markdown",
   "id": "075ae432",
   "metadata": {},
   "source": [
    "### 괄호 `()` 속에 요소를 나열하여 만들기\n"
   ]
  },
  {
   "cell_type": "code",
   "execution_count": null,
   "id": "9e9e2d89",
   "metadata": {},
   "outputs": [],
   "source": [
    "# 괄호를 사용한 튜플 생성\n",
    "t1 = (1, 2, 3)\n",
    "print(t1)\n",
    "print(type(t1))\n"
   ]
  },
  {
   "cell_type": "markdown",
   "id": "27e2fed7",
   "metadata": {},
   "source": [
    "### 괄호 `()` 없이 요소를 나열해서 만들기 (튜플 패킹)\n"
   ]
  },
  {
   "cell_type": "code",
   "execution_count": null,
   "id": "26b5ae70",
   "metadata": {},
   "outputs": [],
   "source": [
    "# 괄호 없이 튜플 생성 (튜플 패킹)\n",
    "t2 = 1, 2, 3\n",
    "print(t2)\n",
    "print(type(t2))\n"
   ]
  },
  {
   "cell_type": "markdown",
   "id": "62cc7a18",
   "metadata": {},
   "source": [
    "### 요소가 한 개인 튜플 만들기\n"
   ]
  },
  {
   "cell_type": "code",
   "execution_count": null,
   "id": "29c70b7f",
   "metadata": {},
   "outputs": [],
   "source": [
    "# 요소가 하나인 튜플 (쉼표 필수!)\n",
    "t3 = 1,  # 쉼표가 있으면 튜플\n",
    "print(t3)\n",
    "print(type(t3))\n",
    "\n",
    "# 쉼표가 없으면 일반 변수\n",
    "t4 = 1   # 쉼표가 없으면 정수\n",
    "print(t4)\n",
    "print(type(t4))\n"
   ]
  },
  {
   "cell_type": "markdown",
   "id": "eefbe4b6",
   "metadata": {},
   "source": [
    "### 빈 튜플 생성\n"
   ]
  },
  {
   "cell_type": "code",
   "execution_count": null,
   "id": "20950c5a",
   "metadata": {},
   "outputs": [],
   "source": [
    "# 빈 튜플 생성\n",
    "t5 = tuple()  # tuple() 함수 사용\n",
    "print(t5)\n",
    "print(type(t5))\n",
    "\n",
    "t6 = ()       # 빈 괄호 사용\n",
    "print(t6)\n",
    "print(type(t6))\n"
   ]
  },
  {
   "cell_type": "markdown",
   "id": "ced7ffdc",
   "metadata": {},
   "source": [
    "## 튜플 요소 접근하기 (인덱싱과 슬라이싱)\n"
   ]
  },
  {
   "cell_type": "code",
   "execution_count": null,
   "id": "e01fd98a",
   "metadata": {},
   "outputs": [],
   "source": [
    "# 튜플 인덱싱과 슬라이싱\n",
    "t1 = (1, 2, 3)\n",
    "print(\"튜플 t1:\", t1)\n",
    "\n",
    "# 인덱싱: 특정 위치의 요소 접근\n",
    "print(\"t1[1]:\", t1[1])  # 인덱스 1의 요소 (2)\n",
    "\n",
    "# 슬라이싱: 범위의 요소들 접근\n",
    "print(\"t1[1:3]:\", t1[1:3])  # 인덱스 1부터 2까지 (2, 3)\n"
   ]
  },
  {
   "cell_type": "markdown",
   "id": "abbce48c",
   "metadata": {},
   "source": [
    "## 튜플 연산\n"
   ]
  },
  {
   "cell_type": "code",
   "execution_count": null,
   "id": "860d9975",
   "metadata": {},
   "outputs": [],
   "source": [
    "# 튜플 연산\n",
    "t1 = (1, 2, 3)\n",
    "t2 = ('a', 'b')\n",
    "print(\"튜플 t1:\", t1)\n",
    "print(\"튜플 t2:\", t2)\n",
    "\n",
    "# 튜플 연결: 두 개의 튜플을 하나로 합치기\n",
    "print(\"t1 + t2:\", t1 + t2)  # (1, 2, 3, 'a', 'b')\n",
    "\n",
    "# 튜플 반복: 동일한 튜플을 여러 번 반복\n",
    "print(\"t1 * 2:\", t1 * 2)    # (1, 2, 3, 1, 2, 3)\n"
   ]
  },
  {
   "cell_type": "markdown",
   "id": "93161132",
   "metadata": {},
   "source": [
    "## 튜플과 리스트 상호 변환\n"
   ]
  },
  {
   "cell_type": "code",
   "execution_count": null,
   "id": "cc901819",
   "metadata": {},
   "outputs": [],
   "source": [
    "# 튜플과 리스트 상호 변환\n",
    "T1 = (1, 2, 3)\n",
    "print(\"원본 튜플 T1:\", T1)\n",
    "\n",
    "# 튜플을 리스트로 변환\n",
    "L1 = list(T1)\n",
    "print(\"튜플을 리스트로 변환:\", L1)\n",
    "print(\"L1의 타입:\", type(L1))\n",
    "\n",
    "# 리스트에 요소 추가\n",
    "L1.append(4)\n",
    "print(\"리스트에 4 추가:\", L1)\n",
    "\n",
    "# 리스트를 튜플로 변환\n",
    "T1 = tuple(L1)\n",
    "print(\"리스트를 튜플로 변환:\", T1)\n",
    "print(\"T1의 타입:\", type(T1))\n"
   ]
  },
  {
   "cell_type": "markdown",
   "id": "339f1b78",
   "metadata": {},
   "source": [
    "## 튜플 언패킹\n"
   ]
  },
  {
   "cell_type": "code",
   "execution_count": null,
   "id": "e6007f30",
   "metadata": {},
   "outputs": [],
   "source": [
    "# 튜플 언패킹: 튜플의 요소를 하나씩 변수에 할당\n",
    "a, b, c = (1, 2, 3)\n",
    "print(\"튜플 언패킹 후:\")\n",
    "print(\"a =\", a)\n",
    "print(\"b =\", b)\n",
    "print(\"c =\", c)\n",
    "\n",
    "# 언패킹을 사용한 변수 교환\n",
    "x = 10\n",
    "y = 20\n",
    "print(f\"교환 전: x = {x}, y = {y}\")\n",
    "\n",
    "x, y = y, x  # 튜플 언패킹을 이용한 변수 교환\n",
    "print(f\"교환 후: x = {x}, y = {y}\")\n"
   ]
  },
  {
   "cell_type": "markdown",
   "id": "52a1c763",
   "metadata": {},
   "source": [
    "## 딕셔너리(dictionary)\n"
   ]
  },
  {
   "cell_type": "markdown",
   "id": "fd046711",
   "metadata": {},
   "source": [
    "### 딕셔너리 정의와 특징\n",
    "- **키(key):값(value)**로 구성되는 자료 구조\n",
    "  - `{key1: value1, key2: value2}`\n",
    "- **키는** 정수, 실수, 문자열, 튜플\n",
    "- **값은** 임의의 데이터형\n"
   ]
  },
  {
   "cell_type": "markdown",
   "id": "20e84674",
   "metadata": {},
   "source": [
    "### 딕셔너리 생성\n"
   ]
  },
  {
   "cell_type": "code",
   "execution_count": null,
   "id": "3113d239",
   "metadata": {},
   "outputs": [],
   "source": [
    "# 딕셔너리 생성 방법들\n",
    "\n",
    "# 방법 1: 직접 초기화\n",
    "height = {'Jun': 174, 'Kim': 170, 'Lee': 165}\n",
    "print(\"딕셔너리 height:\", height)\n",
    "print(\"타입:\", type(height))\n",
    "\n",
    "# 방법 2: 빈 딕셔너리 생성\n",
    "test = dict()\n",
    "print(\"빈 딕셔너리:\", test)\n",
    "\n",
    "# 방법 3: 빈 중괄호 사용\n",
    "empty_dict = {}\n",
    "print(\"빈 중괄호 딕셔너리:\", empty_dict)\n"
   ]
  },
  {
   "cell_type": "markdown",
   "id": "23f52934",
   "metadata": {},
   "source": [
    "### 딕셔너리 key 값 조사하기\n"
   ]
  },
  {
   "cell_type": "code",
   "execution_count": null,
   "id": "55f6d282",
   "metadata": {},
   "outputs": [],
   "source": [
    "# 딕셔너리 값 접근하기\n",
    "height = {'Jun': 174, 'Kim': 170, 'Lee': 165}\n",
    "\n",
    "# Dict[key]로 값 조사하기\n",
    "print(\"Kim의 키:\", height['Kim'])\n",
    "print(\"Jun의 키:\", height['Jun'])\n",
    "print(\"Lee의 키:\", height['Lee'])\n",
    "\n",
    "# 존재하지 않는 키로 접근하면 KeyError 발생\n",
    "# print(height['Park'])  # KeyError 발생\n"
   ]
  },
  {
   "cell_type": "markdown",
   "id": "7573a7ea",
   "metadata": {},
   "source": [
    "### 딕셔너리 키 조사\n"
   ]
  },
  {
   "cell_type": "code",
   "execution_count": null,
   "id": "e90ac5b4",
   "metadata": {},
   "outputs": [],
   "source": [
    "# 딕셔너리 키 존재 여부 확인\n",
    "height = {'Jun': 174, 'Kim': 170, 'Lee': 165}\n",
    "\n",
    "# 'in' 연산자로 키가 딕셔너리에 있는지 조사\n",
    "print(\"'Kim' in height:\", 'Kim' in height)  # True\n",
    "print(\"'Park' in height:\", 'Park' in height)  # False\n",
    "\n",
    "# 'not in' 연산자도 사용 가능\n",
    "print(\"'Lee' not in height:\", 'Lee' not in height)  # False\n"
   ]
  },
  {
   "cell_type": "markdown",
   "id": "14713817",
   "metadata": {},
   "source": [
    "### 딕셔너리 요소 수정, 추가하기\n"
   ]
  },
  {
   "cell_type": "code",
   "execution_count": null,
   "id": "8f9462d6",
   "metadata": {},
   "outputs": [],
   "source": [
    "# 딕셔너리 요소 수정하기\n",
    "height = {'Jun': 174, 'Kim': 170, 'Lee': 165}\n",
    "print(\"수정 전 height:\", height)\n",
    "\n",
    "# 기존 키의 값을 수정\n",
    "height['Lee'] = 180\n",
    "print(\"수정 후 height:\", height)\n"
   ]
  },
  {
   "cell_type": "code",
   "execution_count": null,
   "id": "aa218a04",
   "metadata": {},
   "outputs": [],
   "source": [
    "# 딕셔너리 요소 추가하기\n",
    "# 존재하지 않는 키에 값을 할당하면 새로운 요소가 추가됨\n",
    "height['Ihm'] = 168\n",
    "print(\"요소 추가 후 height:\", height)\n",
    "\n",
    "# 여러 요소를 한 번에 추가\n",
    "height.update({'Park': 175, 'Choi': 162})\n",
    "print(\"여러 요소 추가 후 height:\", height)\n"
   ]
  },
  {
   "cell_type": "markdown",
   "id": "45387dc9",
   "metadata": {},
   "source": [
    "### 딕셔너리의 키, 값, 요소를 뽑아내기\n"
   ]
  },
  {
   "cell_type": "code",
   "execution_count": null,
   "id": "1dd7bb78",
   "metadata": {},
   "outputs": [],
   "source": [
    "# 딕셔너리의 키, 값, 요소를 뽑아내기\n",
    "height = {'Jun': 174, 'Kim': 170, 'Lee': 165, 'Ihm': 168}\n",
    "print(\"원본 딕셔너리:\", height)\n",
    "\n",
    "# 키 뽑아내기 - dict_keys 객체 반환 (iterable)\n",
    "keys = height.keys()\n",
    "print(\"키들:\", keys)\n",
    "print(\"키들의 타입:\", type(keys))\n",
    "\n",
    "# 값 뽑아내기 - dict_values 객체 반환 (iterable)\n",
    "values = height.values()\n",
    "print(\"값들:\", values)\n",
    "print(\"값들의 타입:\", type(values))\n",
    "\n",
    "# 요소를 튜플로 분리하기 - dict_items 객체 반환 (iterable)\n",
    "items = height.items()\n",
    "print(\"요소들:\", items)\n",
    "print(\"요소들의 타입:\", type(items))\n"
   ]
  },
  {
   "cell_type": "markdown",
   "id": "a12c41b7",
   "metadata": {},
   "source": [
    "### 뽑아낸 키를 리스트로 변환하기\n"
   ]
  },
  {
   "cell_type": "code",
   "execution_count": null,
   "id": "eab070c8",
   "metadata": {},
   "outputs": [],
   "source": [
    "# 뽑아낸 키를 리스트로 변환하기\n",
    "height = {'Jun': 174, 'Kim': 170, 'Lee': 165, 'Ihm': 168}\n",
    "\n",
    "# dict_keys 객체를 리스트로 변환\n",
    "dict_keys = height.keys()\n",
    "print(\"dict_keys 객체:\", dict_keys)\n",
    "print(\"dict_keys 타입:\", type(dict_keys))\n",
    "\n",
    "keys_list = list(dict_keys)\n",
    "print(\"리스트로 변환된 키들:\", keys_list)\n",
    "print(\"변환된 타입:\", type(keys_list))\n",
    "\n",
    "# 값들도 리스트로 변환 가능\n",
    "values_list = list(height.values())\n",
    "print(\"리스트로 변환된 값들:\", values_list)\n",
    "\n",
    "# 요소들도 리스트로 변환 가능\n",
    "items_list = list(height.items())\n",
    "print(\"리스트로 변환된 요소들:\", items_list)\n"
   ]
  },
  {
   "cell_type": "markdown",
   "id": "21438353",
   "metadata": {},
   "source": [
    "### 딕셔너리 요소 제거하기\n"
   ]
  },
  {
   "cell_type": "code",
   "execution_count": null,
   "id": "d1527813",
   "metadata": {},
   "outputs": [],
   "source": [
    "# 딕셔너리 요소 제거하기\n",
    "height = {'Jun': 174, 'Kim': 170, 'Lee': 165, 'Ihm': 168}\n",
    "print(\"제거 전 height:\", height)\n",
    "\n",
    "# pop() 메서드로 특정 키-값 쌍 제거 (값을 반환)\n",
    "removed_value = height.pop('Ihm')\n",
    "print(f\"'Ihm' 요소 제거, 반환된 값: {removed_value}\")\n",
    "print(\"제거 후 height:\", height)\n",
    "\n",
    "# del 키워드로도 제거 가능 (값을 반환하지 않음)\n",
    "del height['Lee']\n",
    "print(\"del로 'Lee' 제거 후 height:\", height)\n"
   ]
  },
  {
   "cell_type": "markdown",
   "id": "d2a393f4",
   "metadata": {},
   "source": [
    "### 딕셔너리 지우기\n"
   ]
  },
  {
   "cell_type": "code",
   "execution_count": null,
   "id": "2bc075af",
   "metadata": {},
   "outputs": [],
   "source": [
    "# 딕셔너리 지우기\n",
    "height = {'Jun': 174, 'Kim': 170, 'Lee': 165}\n",
    "print(\"지우기 전 height:\", height)\n",
    "\n",
    "# clear() 메서드로 모든 요소 제거 (빈 딕셔너리로 만든다)\n",
    "height.clear()\n",
    "print(\"clear() 후 height:\", height)\n",
    "\n",
    "# 빈 딕셔너리 확인\n",
    "print(\"딕셔너리가 비어있는가?\", len(height) == 0)\n"
   ]
  },
  {
   "cell_type": "markdown",
   "id": "deb8572d",
   "metadata": {},
   "source": [
    "## 집합(set)\n",
    "\n",
    "`{}` 속에 요소들을 중복되지 않고 순서없이 모아놓은 자료 구조\n"
   ]
  },
  {
   "cell_type": "markdown",
   "id": "0e9a324a",
   "metadata": {},
   "source": [
    "### 집합의 생성\n"
   ]
  },
  {
   "cell_type": "code",
   "execution_count": null,
   "id": "11841e84",
   "metadata": {},
   "outputs": [],
   "source": [
    "# 집합 생성 방법들\n",
    "\n",
    "# 방법 1: 중괄호 {} 사용\n",
    "numbers = {1, 2, 3}\n",
    "print(\"numbers 집합:\", numbers)\n",
    "print(\"타입:\", type(numbers))\n",
    "\n",
    "# 방법 2: set() 함수 사용\n",
    "name = set(['Kim', 'Lee', 'Park'])\n",
    "print(\"name 집합:\", name)\n",
    "print(\"타입:\", type(name))\n",
    "\n",
    "# 중복 요소는 자동으로 제거됨\n",
    "duplicate_set = {1, 2, 2, 3, 3, 3}\n",
    "print(\"중복 제거된 집합:\", duplicate_set)\n"
   ]
  },
  {
   "cell_type": "markdown",
   "id": "adc60d3e",
   "metadata": {},
   "source": [
    "### 빈 집합 생성, 개수 확인, 요소 추가, 요소 제거하기\n"
   ]
  },
  {
   "cell_type": "code",
   "execution_count": null,
   "id": "e6086fdc",
   "metadata": {},
   "outputs": [],
   "source": [
    "# 집합 기본 연산들\n",
    "\n",
    "# 빈 집합 생성\n",
    "empty = set()  # 빈 집합 생성\n",
    "print(\"빈 집합:\", empty)\n",
    "\n",
    "# 집합 초기화\n",
    "numbers = {1, 2, 3}\n",
    "print(\"초기 집합:\", numbers)\n",
    "\n",
    "# 개수 확인\n",
    "print(\"집합의 개수:\", len(numbers))\n",
    "\n",
    "# 요소 추가\n",
    "numbers.add(4)  # 요소 추가\n",
    "print(\"4 추가 후:\", numbers)\n",
    "\n",
    "# 요소 제거\n",
    "numbers.remove(4)  # 요소 제거\n",
    "print(\"4 제거 후:\", numbers)\n",
    "\n",
    "# discard() 메서드 (요소가 없어도 에러 발생하지 않음)\n",
    "numbers.discard(5)  # 존재하지 않는 요소 제거 시도\n",
    "print(\"discard(5) 후:\", numbers)\n"
   ]
  },
  {
   "cell_type": "markdown",
   "id": "e0412eab",
   "metadata": {},
   "source": [
    "## 집합의 연산\n"
   ]
  },
  {
   "cell_type": "code",
   "execution_count": null,
   "id": "fb6e56c4",
   "metadata": {},
   "outputs": [],
   "source": [
    "# 집합 연산을 위한 초기 집합들\n",
    "setA = {1, 2, 3}\n",
    "setB = {2, 3, 4}\n",
    "print(\"setA:\", setA)\n",
    "print(\"setB:\", setB)\n"
   ]
  },
  {
   "cell_type": "markdown",
   "id": "fcf977e3",
   "metadata": {},
   "source": [
    "### 교집합 (Intersection)\n",
    "두 집합에 공통으로 존재하는 요소들을 모아 새로운 집합을 만듭니다.\n"
   ]
  },
  {
   "cell_type": "code",
   "execution_count": null,
   "id": "c68332d1",
   "metadata": {},
   "outputs": [],
   "source": [
    "# 교집합: setA & setB 또는 setA.intersection(setB)\n",
    "intersection_result_op = setA & setB\n",
    "intersection_result_method = setA.intersection(setB)\n",
    "\n",
    "print(\"교집합 연산자 사용:\", intersection_result_op)\n",
    "print(\"교집합 메서드 사용:\", intersection_result_method)\n",
    "print(\"두 결과가 같은가?\", intersection_result_op == intersection_result_method)\n"
   ]
  },
  {
   "cell_type": "markdown",
   "id": "ab57d891",
   "metadata": {},
   "source": [
    "### 합집합 (Union)\n",
    "두 집합의 모든 요소들을 모아 새로운 집합을 만듭니다 (중복 제거).\n"
   ]
  },
  {
   "cell_type": "code",
   "execution_count": null,
   "id": "4a4cbc44",
   "metadata": {},
   "outputs": [],
   "source": [
    "# 합집합: setA | setB 또는 setA.union(setB)\n",
    "union_result_op = setA | setB\n",
    "union_result_method = setA.union(setB)\n",
    "\n",
    "print(\"합집합 연산자 사용:\", union_result_op)\n",
    "print(\"합집합 메서드 사용:\", union_result_method)\n",
    "print(\"두 결과가 같은가?\", union_result_op == union_result_method)\n"
   ]
  },
  {
   "cell_type": "markdown",
   "id": "e3e0760e",
   "metadata": {},
   "source": [
    "### 차집합 (Difference)\n",
    "한 집합에서 다른 집합의 요소를 뺀 나머지 요소들로 새로운 집합을 만듭니다.\n"
   ]
  },
  {
   "cell_type": "code",
   "execution_count": null,
   "id": "0f8a2ed9",
   "metadata": {},
   "outputs": [],
   "source": [
    "# 차집합: setA - setB 또는 setA.difference(setB)\n",
    "difference_result_op = setA - setB\n",
    "difference_result_method = setA.difference(setB)\n",
    "\n",
    "print(\"차집합 연산자 사용:\", difference_result_op)\n",
    "print(\"차집합 메서드 사용:\", difference_result_method)\n",
    "print(\"두 결과가 같은가?\", difference_result_op == difference_result_method)\n",
    "\n",
    "# 차집합의 의미: setA에서 setB 요소를 뺀 나머지\n",
    "print(f\"setA에서 setB 요소를 뺀 나머지: {difference_result_op}\")\n"
   ]
  },
  {
   "cell_type": "markdown",
   "id": "f5068f02",
   "metadata": {},
   "source": [
    "### 부분 집합 연산\n"
   ]
  },
  {
   "cell_type": "code",
   "execution_count": null,
   "id": "fe56eb37",
   "metadata": {},
   "outputs": [],
   "source": [
    "# 두 집합의 동일성 확인\n",
    "setA = {1, 2, 3}\n",
    "setB = {1, 2, 3}\n",
    "print(\"setA =\", setA)\n",
    "print(\"setB =\", setB)\n",
    "print(\"setA == setB # 두 개의 집합이 같은가?\")\n",
    "print(\"결과:\", setA == setB)\n"
   ]
  },
  {
   "cell_type": "code",
   "execution_count": null,
   "id": "81e4835b",
   "metadata": {},
   "outputs": [],
   "source": [
    "# 부분 집합 확인 (< 연산자)\n",
    "setA = {1, 2, 3, 4, 5, 6}\n",
    "setB = {1, 2, 3}\n",
    "print(\"setA =\", setA)\n",
    "print(\"setB =\", setB)\n",
    "print(\"setB < setA # 집합 B가 집합 A의 부분집합인가?\")\n",
    "print(\"결과:\", setB < setA)\n"
   ]
  },
  {
   "cell_type": "code",
   "execution_count": null,
   "id": "3790a8bc",
   "metadata": {},
   "outputs": [],
   "source": [
    "# 부분 집합 확인 (issubset() 메서드)\n",
    "# setA와 setB는 위에서 정의된 값을 사용합니다.\n",
    "print(\"setB.issubset(setA) # 집합 B가 집합 A의 부분집합인가?\")\n",
    "print(\"결과:\", setB.issubset(setA))\n",
    "\n",
    "# 다른 부분 집합 연산들도 확인해보기\n",
    "print(\"\\n다른 부분 집합 연산들:\")\n",
    "print(\"setA > setB (setA가 setB의 진부분집합인가?):\", setA > setB)\n",
    "print(\"setB <= setA (setB가 setA의 부분집합인가?):\", setB <= setA)\n",
    "print(\"setA >= setB (setA가 setB의 부분집합인가?):\", setA >= setB)\n"
   ]
  },
  {
   "cell_type": "markdown",
   "id": "1533caa1",
   "metadata": {},
   "source": [
    "## 집합 예제\n",
    "\n",
    "1부터 45까지의 수 중에서 6개를 선택하여 로또 번호를 만드는 프로그램\n"
   ]
  },
  {
   "cell_type": "code",
   "execution_count": null,
   "id": "a686e1ad",
   "metadata": {},
   "outputs": [],
   "source": [
    "# 집합을 이용한 로또 번호 생성 프로그램\n",
    "import random\n",
    "\n",
    "pick = set()  # 빈 집합\n",
    "\n",
    "while len(pick) < 6:\n",
    "    n = random.randint(1, 45)  # 랜덤 넘버 생성\n",
    "    if n not in pick:\n",
    "        pick.add(n)  # 집합에 요소 추가\n",
    "\n",
    "print(\"생성된 로또 번호 (집합 순서):\", pick)\n",
    "print(\"정렬된 로또 번호:\", sorted(pick))  # 순서대로 나열된 집합 출력\n"
   ]
  },
  {
   "cell_type": "markdown",
   "id": "14e9dfda",
   "metadata": {},
   "source": [
    "### 프로그램 설명\n",
    "\n",
    "1. **`import random`**: 랜덤 숫자 생성을 위한 모듈 임포트\n",
    "2. **`pick = set()`**: 빈 집합 생성\n",
    "3. **`while len(pick) < 6`**: 집합의 크기가 6이 될 때까지 반복\n",
    "4. **`random.randint(1, 45)`**: 1부터 45까지의 랜덤 정수 생성\n",
    "5. **`if n not in pick`**: 중복 확인 (집합의 특성상 자동으로 중복 제거되지만 명시적으로 확인)\n",
    "6. **`pick.add(n)`**: 집합에 요소 추가\n",
    "7. **`sorted(pick)`**: 정렬된 리스트로 변환하여 출력\n"
   ]
  }
 ],
 "metadata": {
  "language_info": {
   "name": "python"
  }
 },
 "nbformat": 4,
 "nbformat_minor": 5
}
