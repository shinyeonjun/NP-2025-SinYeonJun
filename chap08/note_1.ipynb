{
 "cells": [
  {
   "cell_type": "markdown",
   "id": "c6402cd6",
   "metadata": {},
   "source": [
    "## 8장 노트정리\n",
    "\n",
    "이 파일은 8장 학습하면서 실행한 내용을 정리한 것이다.\n",
    "\n",
    "날짜: 2025.10.01\n",
    "\n",
    "학번: 202110763\n",
    "\n",
    "이름: 신연준\n"
   ]
  },
  {
   "cell_type": "markdown",
   "id": "f11599d0",
   "metadata": {},
   "source": [
    "## 08. 예외처리_파일처리\n",
    "\n",
    "### 1. 파이썬의 예외처리, 파일처리, F-string\n",
    "#### 1. 예외\n",
    "- 예외 : 프로그램 실행 도중에 오류가 발생하면 생성되는 특별한 객체\n",
    "    - 예외가 발생하면 파이썬은 프로그램 실행을 중단\n",
    "- 예외처리 : 예외가 발생했을 때 프로그램 실행을 중단하지 않고 처리하는 방법을 정의한 프로그램 부분\n",
    "- 예외의 종류\n",
    "    - ZeroDivisionError : 0으로 나눌 때\n",
    "    - IndexError : 인덱스가 범위를 벗어날 때\n",
    "    - FileNotFoundError : 존재하지 않는 파일을 열려고 할 때\n",
    "    - ValueError : 원하는 값을 입력 받지 못할 때\n",
    "    - NameError : 정의되지 않은 변수를 사용할 때\n",
    "    - TypeError : 데이터형이 맞지 않는 연산을 할 때"
   ]
  },
  {
   "cell_type": "code",
   "execution_count": null,
   "id": "9c3e6d6f",
   "metadata": {},
   "outputs": [
    {
     "ename": "SyntaxError",
     "evalue": "invalid syntax (406924070.py, line 19)",
     "output_type": "error",
     "traceback": [
      "  \u001b[36mCell\u001b[39m\u001b[36m \u001b[39m\u001b[32mIn[1]\u001b[39m\u001b[32m, line 19\u001b[39m\n\u001b[31m    \u001b[39m\u001b[31mTypeError: can only concatenate str (not \"int\") to str\u001b[39m\n                   ^\n\u001b[31mSyntaxError\u001b[39m\u001b[31m:\u001b[39m invalid syntax\n"
     ]
    }
   ],
   "source": [
    "5/0\n",
    "# ZeroDivisionError: division by zero\n",
    "\n",
    "a=[0,1,2]\n",
    "a[3]\n",
    "# IndexError: list index out of range\n",
    "\n",
    "fp=open(\"Nofile.txt\",\"r\")\n",
    "# FileNotFoundError: [Errno 2] No such file or directory: 'Nofile.txt'\n",
    "\n",
    "int(input('Type float number or string : '))\n",
    "# Type float number or string : 1.23\n",
    "# ValueError: invalid literal for int() with base 10: '1.23'\n",
    "\n",
    "1 + var*2\n",
    "# NameError: name 'var' is not defined\n",
    "\n",
    "\"str\"+1\n",
    "# TypeError: can only concatenate str (not \"int\") to str"
   ]
  },
  {
   "cell_type": "markdown",
   "id": "5791930a",
   "metadata": {},
   "source": [
    "#### 나. 예외처리\n",
    "- try-except/try-except-else 문  \n",
    "- ├── ➊ a=1/b를 실행\n",
    "- ├── (ZeroDivisionError 예외가 발생) ➋ 실행\n",
    "- ├── (ZeroDivisionError가 아닌 다른 예외) 프로그램 중단\n",
    "- └── (예외 발생 X) ➌ 문장\n",
    "- ZeroDivisionError를 생략하면 모든 예외에 대해 ➋ 문장 실행  "
   ]
  },
  {
   "cell_type": "code",
   "execution_count": null,
   "id": "80d4928c",
   "metadata": {},
   "outputs": [
    {
     "ename": "NameError",
     "evalue": "name 'b' is not defined",
     "output_type": "error",
     "traceback": [
      "\u001b[31m---------------------------------------------------------------------------\u001b[39m",
      "\u001b[31mNameError\u001b[39m                                 Traceback (most recent call last)",
      "\u001b[36mCell\u001b[39m\u001b[36m \u001b[39m\u001b[32mIn[2]\u001b[39m\u001b[32m, line 2\u001b[39m\n\u001b[32m      1\u001b[39m \u001b[38;5;28;01mtry\u001b[39;00m:\n\u001b[32m----> \u001b[39m\u001b[32m2\u001b[39m     a = \u001b[32m1\u001b[39m / \u001b[43mb\u001b[49m                    \u001b[38;5;66;03m# ➊\u001b[39;00m\n\u001b[32m      3\u001b[39m \u001b[38;5;28;01mexcept\u001b[39;00m \u001b[38;5;167;01mZeroDivisionError\u001b[39;00m:\n\u001b[32m      4\u001b[39m     \u001b[38;5;28mprint\u001b[39m(\u001b[33m\"\u001b[39m\u001b[33m0으로 나눌 수 없습니다\u001b[39m\u001b[33m\"\u001b[39m) \u001b[38;5;66;03m# ➋\u001b[39;00m\n",
      "\u001b[31mNameError\u001b[39m: name 'b' is not defined"
     ]
    }
   ],
   "source": [
    "try:\n",
    "    a = 1 / b                    # ➊\n",
    "except ZeroDivisionError:\n",
    "    print(\"0으로 나눌 수 없습니다\") # ➋\n",
    "else:   # 생략 가능\n",
    "    print(a)                     # ➌"
   ]
  },
  {
   "cell_type": "markdown",
   "id": "14f0d93d",
   "metadata": {},
   "source": [
    "• 예외를 알 수 없는 경우 try-except-else 문\n",
    "- ├── ➊을 실행\n",
    "- ├── (예외 발생) ➌ 문장 실행\n",
    "- ├── (예외 종류or발생 이유 알고 싶을 때) ➋와 같이 사용\n",
    "- └── 예외가 발생하지 않으면 ➍ 문장 실행"
   ]
  },
  {
   "cell_type": "code",
   "execution_count": null,
   "id": "01e20e80",
   "metadata": {},
   "outputs": [],
   "source": [
    "try:\n",
    "    a = int(input(\"Type a Number: \"))   # ➊\n",
    "except Exception as e:                  # ➋\n",
    "    print(\"예외가 발생했습니다\", e)        # ➌\n",
    "    # e는 예외와 관련된 메시지 저장\n",
    "else:\n",
    "    print(a)                            # ➍"
   ]
  },
  {
   "cell_type": "markdown",
   "id": "5c6fcb6d",
   "metadata": {},
   "source": [
    "- 복합 try-except 문\n",
    "- ├── try: 블록 실행 결과 OSError 예외가 발생하면 ➊ 문장 실행\n",
    "- ├── ValueError 예외가 발생하면 ➋ 문장 실행\n",
    "- └── 기타 예외가 발생하면 ➌ 문장 실행"
   ]
  },
  {
   "cell_type": "code",
   "execution_count": null,
   "id": "06ff3c79",
   "metadata": {},
   "outputs": [],
   "source": [
    "import sys\n",
    "try:\n",
    "    fp = open('sample.txt')\n",
    "    sl = fp.readline()\n",
    "    value = int(sl.strip())\n",
    "except OSError as err:\n",
    "    print(\"OS 오류: \", err)             # ➊\n",
    "except ValueError:\n",
    "    print(\"정수로 변환할 수 없습니다\")     # ➋\n",
    "except:\n",
    " print(\"알 수 없는 오류가 발생하였습니다\")  # ➌"
   ]
  },
  {
   "cell_type": "markdown",
   "id": "0b0a2019",
   "metadata": {},
   "source": [
    "- try-except-finally 문\n",
    "- ├── ➊ 문장을 실행\n",
    "- ├── ZeroDivisionError 예외가 발생하면 ➋ 문장 실행\n",
    "- ├── 기타 예외가 발생하면 ➌ 문장 실행\n",
    "- ├── 예외 발생에 관계없이 ➍ 문장 실행\n",
    "• except-else 블록은 생략 가능(try-finally)"
   ]
  },
  {
   "cell_type": "code",
   "execution_count": null,
   "id": "942a4075",
   "metadata": {},
   "outputs": [],
   "source": [
    "try:\n",
    "    result = x / y                   # ➊\n",
    "except ZeroDivisionError:\n",
    "    print(\"0으로 나눌 수 없습니다\")     # ➋\n",
    "except:\n",
    "    print(result)                    # ➌\n",
    "finally:\n",
    "    print(\"예외처리가 끝났습니다\")      # ➍"
   ]
  },
  {
   "cell_type": "markdown",
   "id": "398300ba",
   "metadata": {},
   "source": [
    "---\n",
    "### 2. 파이썬의 파일 처리\n",
    "#### 가. 파일 입출력\n",
    "- 표준 입출력\n",
    "    - 표준 입력 (standard input) : 키보드\n",
    "    - 표준 출력 (standard output) : 콘솔 화면\n",
    "    - 표준 에러 (standard error) : 콘솔 화면\n",
    "- 파일 입출력\n",
    "    - 표준 입출력 대신에 파일에 기록하는 것\n",
    "    - 텍스트(text) 파일 : 사람이 볼 수 있는 문자 데이터를 저장 (메모장으로 확인 가능)\n",
    "    - 이진(binary) 파일: 이진수 데이터를 저장\n",
    "- 파일 처리 과정\n",
    "    - 열기 : 파일 이름과 처리목적(읽기 또는 쓰기)를 지정해 사용하려는 파일을 열기\n",
    "    - 사용 : 열린 파일에 대한 읽기 또는 쓰기를 진행\n",
    "    - 닫기 : 파일의 사용이 끝나면 열린 파일을 닫아 버퍼에 있는 내용을 디스크에 모두 반영"
   ]
  },
  {
   "cell_type": "markdown",
   "id": "c85412c3",
   "metadata": {},
   "source": [
    "### 나. 파일 다루기\n",
    "- 파일의 개념적 모델 : 오프셋 0부터 끝까지 1Byte 단위로 직렬화되어 저장\n",
    "- 파일의 열기\n",
    "    - fp = open(\"filename\", \"mode\")\n",
    "    - filename : 열고자 하는 파일명(절대 경로or상대 경로)\n",
    "    - mode : r, w, a, x / r+, w+, a+ / rb, wb, ab, rb+, wb+, ab+\n",
    "- 파일의 열기 모드(텍스트 파일)  \n",
    "\n",
    "|mode|설명|\n",
    "|:---:|:---|\n",
    "|'r'|읽기 전용 모드. 파일이 존재해야 함.|\n",
    "|'w' |쓰기 전용 모드. 파일이 없으면 생성, 있으면 내용 덮어쓰기|\n",
    "|'x'|추가 모드. 파일 끝에 내용을 덧붙임. 없으면 생성.|\n",
    "|'a'|배타적 생성 모드. 파일이 있으면 오류 발생. 없으면 새로 생성.|\n",
    "\n",
    "\n",
    "|읽기/쓰기mode|설명|\n",
    "|:---:|:---|\n",
    "|'r+'|파일이 존재해야 함.|\n",
    "|'w+' |파일을 새로 쓰기 시작함(내용 덮어쓰기)|\n",
    "|'a+'|파일 끝에 덧붙이기. 기존 내용 유지|"
   ]
  },
  {
   "cell_type": "markdown",
   "id": "f1416332",
   "metadata": {},
   "source": [
    "(1). 텍스트 파일: 쓰기\n",
    "- 현재 폴더(실행 중인 폴더)에 phonebook.txt 파일을 쓰기 모드로 열고 유니코드의 인코딩 방식은 utf-8 형식으로 저장\n",
    "하라\n",
    "\n",
    "- Utf-8 (Unicode Transfer Format 8-bit)\n",
    "    - 가변 길이 인코딩: 한 문자를 1~4바이트로 표현, ASCII 문자(영문, 숫자 등)는 1B, 한글/한자/특수문자 2~4B\n",
    "    - 호환성: ASCII와 완벽 호환 (기존 시스템과 충돌 없음)\n",
    "    - 범용성: 유니코드 기반으로 거의 모든 언어의 문자를 표현 가능\n",
    "    - 효율성: 영어 중심의 문서에서는 저장 공간을 절약할 수 있음\n",
    "- write 함수 : 여러 줄을 쓸 때, 문자열로 출력\n",
    "- writeline 함수: 한 줄 씩 쓸 때\n",
    "- 한 줄 (line) : 제일 끝 문자가 ‘\\n’ 으로 끝냄\n",
    "- 파일이 없으면 생성하고, 있으면 기존의 내용을 덮어쓰기하므로 주의!!"
   ]
  },
  {
   "cell_type": "code",
   "execution_count": null,
   "id": "78ca3e44",
   "metadata": {},
   "outputs": [],
   "source": [
    "ofile = open(\"./phonebook.txt\", \"w\", encoding=\"utf-8\") # 열기\n",
    "ofile.write(\"John Doe, 123-456-7890\\nJane Smith, 987-654-3210\\n\")\n",
    "ofile.write(\"Alice Johnson, 555-123-4567\\nBob Brown, 444-987-6543\\n\")\n",
    "ofile.writeline(\"Charlie Davis, 333-222-1111\\n\")\n",
    "ofile.writeline(\"Eve White, 777-888-9999\\n\")\n",
    "ofile.close()"
   ]
  },
  {
   "cell_type": "markdown",
   "id": "16fa8e8c",
   "metadata": {},
   "source": [
    "#### (2). 텍스트 파일: 읽기\n",
    "- 현재 폴더(실행 중인 폴더)에 유니코드의 인코딩 방식은 utf-8 형식으로 저장된 phonebook.txt 텍스트 파일을 읽기 모\n",
    "드로 열고 각 라인을 출력하라\n",
    "- Utf-8 (Unicode Transfer Format 8-bit) 형식을 디코딩하여 유니코드로 변환하여 읽음\n",
    "- readlines 함수 : 여러 줄을 읽어 리스트로 반환 (개행문자, ‘\\n’, new line 문자를 한 줄로 취급)\n",
    "- readline 함수: 한 줄 씩 읽어 문자열로 반환\n",
    "- str.strip() : 앞 뒤의 공백 문자를 제거\n",
    "- 만약 파일이 없으면 예외 발생"
   ]
  },
  {
   "cell_type": "code",
   "execution_count": null,
   "id": "24de6a55",
   "metadata": {},
   "outputs": [],
   "source": [
    "rfile = open(\"./phonebook.txt\", \"r\", encoding=\"utf-8\")\n",
    "Line : str = rfile.readline()\n",
    "while line:\n",
    "    print(line.strip())\n",
    "    line = rfile.readline()\n",
    "rfile.close()\n",
    "\n",
    "# or (단 파일 사이즈가 크면 메모리가 부족할 수 있어 앞의 것을 선호)\n",
    "rfile = open(\"./phonebook.txt\", \"r\", encoding=\"utf-8\")\n",
    "Lines : list = rfile.readlines()\n",
    "for line in lines:\n",
    "    print(line.strip())\n",
    "rfile.close()"
   ]
  },
  {
   "cell_type": "markdown",
   "id": "4cea31f1",
   "metadata": {},
   "source": [
    "#### (3). 텍스트 파일: 읽기 예외 처리\n",
    "- 현재 폴더(실행 중인 폴더)에 유니코드의 인코딩 방식은 utf-8 형식으로 저장된 phonebook.txt 텍스트 파일을 읽기 모\n",
    "드로 열고 각 라인을 출력하라\n",
    "- 만약 파일이 없으면 FileNotFoundError 예외 발생\n",
    "- 예외 처리해야 함"
   ]
  },
  {
   "cell_type": "code",
   "execution_count": null,
   "id": "ea9afd48",
   "metadata": {},
   "outputs": [],
   "source": [
    "try:\n",
    "    rfile = open(\"./phonebook1.txt\", \"r\", encoding=\"utf-8\")\n",
    "    lines : str = rfile.readline ()\n",
    "    while line:\n",
    "        print(line.strip())\n",
    "        line = rfile.readline()\n",
    "    rfile.close()\n",
    "except FileNotFoundError as e:\n",
    "    print(\"File not found:\", e)"
   ]
  },
  {
   "cell_type": "markdown",
   "id": "2b304bb4",
   "metadata": {},
   "source": [
    "#### (4). 파일 열고 쓰고 닫기 : 한번에 하는 방법 (with ~ as)\n",
    "전화번호:이름 형태의 딕셔너리 에 있는 값을 phonebook.txt 텍스트 파일에 쓰고 읽기 모드로 열고 각 라인을 출력하라"
   ]
  },
  {
   "cell_type": "code",
   "execution_count": null,
   "id": "5c489234",
   "metadata": {},
   "outputs": [],
   "source": [
    "contacts: dict = {'123-456-7890': 'John Doe', '987-654-3210': 'Jane Smith’, \\\n",
    "'555-123-4567' : 'Alice Johnson', '444-987-6543': 'Bob Brown’, \\\n",
    "'333-222-1111': 'Charlie Davis', '777-888-9999': 'Eve White'}\n",
    "\n",
    "with open(\"./phonebook.txt\", \"w\", encoding=\"utf-8\") as wfile:\n",
    "    for key, value in contacts.items():\n",
    "        wfile.write(f\"{value}, {key}\\n\")\n",
    "\n",
    "with open(\"./phonebook.txt\", \"r\", encoding=\"utf-8\") as rfile:\n",
    "    line : str = rfile.readline()\n",
    "    while line:\n",
    "        key, value = line.strip().split(\", \")\n",
    "        print(f\"Name: {key}, Phone: {value}\")\n",
    "        line = rfile.readline()\n",
    "\n",
    "with open(\"./phonebook.txt\", \"r\", encoding=\"utf-8\") as rfile:\n",
    "    for line in rfile:\n",
    "        key, value = line.strip().split(\", \")\n",
    "        print(f\"Name: {key.strip()}, Phone: {value.strip()}\")"
   ]
  },
  {
   "cell_type": "markdown",
   "id": "7056763d",
   "metadata": {},
   "source": [
    "#### (5). 텍스트 파일: 추가하기"
   ]
  },
  {
   "cell_type": "code",
   "execution_count": null,
   "id": "86f5c84c",
   "metadata": {},
   "outputs": [],
   "source": [
    "ofile = open(\"./phonebook.txt\", “a”, encoding=“utf-8”) # 열기\n",
    "ofile.write(＂홍길동, 123-456-7890\\n김정렬, 987-654-3210\\n\")\n",
    "\n",
    "ofile.close()"
   ]
  },
  {
   "cell_type": "markdown",
   "id": "c6723017",
   "metadata": {},
   "source": [
    "---\n",
    "### 다. 이진 파일 다루기\n",
    "- 이진 파일의 열기 모드\n",
    "\n",
    "|모드|설명|\n",
    "|:---:|:---|\n",
    "|'rb'|바이너리 읽기 모드|\n",
    "|'wb'|바이너리 쓰기 모드|\n",
    "|'ab'|바이너리 추가 모드|\n",
    "|'rb+'|바이너리 읽기/쓰기 모드|\n",
    "|'wb+'|바이너리 읽기/쓰기 모드 (덮어쓰기)|\n",
    "|'ab+'|바이너리 읽기/쓰기 모드 (추가)|\n",
    "\n",
    "- 이진 파일의 처리"
   ]
  }
 ],
 "metadata": {
  "kernelspec": {
   "display_name": "Python 3",
   "language": "python",
   "name": "python3"
  },
  "language_info": {
   "codemirror_mode": {
    "name": "ipython",
    "version": 3
   },
   "file_extension": ".py",
   "mimetype": "text/x-python",
   "name": "python",
   "nbconvert_exporter": "python",
   "pygments_lexer": "ipython3",
   "version": "3.13.7"
  }
 },
 "nbformat": 4,
 "nbformat_minor": 5
}
