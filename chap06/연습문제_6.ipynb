{
 "cells": [
  {
   "cell_type": "markdown",
   "id": "2df3363a",
   "metadata": {},
   "source": [
    "## 연습문제 6: Student 클래스\n",
    "\n",
    "이 파일은 Student 클래스에 대한 연습문제를 다루는 노트입니다.\n",
    "\n",
    "날짜: 2025.9.24\n",
    "\n",
    "학번: 202110763\n",
    "\n",
    "이름: 신연준\n"
   ]
  },
  {
   "cell_type": "markdown",
   "id": "060f5a6c",
   "metadata": {},
   "source": [
    "# 6-6 연습문제\n",
    "\n",
    "## 문제 설명\n",
    "\n",
    "클래스를 정의하여 주어진 프로그램을 실행했을 때 다음 출력이 나오도록 하라.\n",
    "\n",
    "### 요구사항:\n",
    "- 학번(`id`)의 앞 네 자리가 2018보다 작으면 `grade()` 메소드가 \"3학년입니다\"를 출력한다.\n",
    "- 그렇지 않으면 \"3학년이 아닙니다\"를 출력한다.\n",
    "\n",
    "### 주어진 프로그램:\n",
    "```python\n",
    "man = Student(name = \"홍길동\", id = 20150001, dept = \"로봇공학과\")\n",
    "print(\"이름: {}, 학번: {}, 학과: {}\".format(man.name, man.id, man.dept))\n",
    "man.grade()\n",
    "```\n",
    "\n",
    "### 출력 내용:\n",
    "```\n",
    "이름: 홍길동, 학번: 20150001, 학과: 로봇공학과\n",
    "3학년입니다\n",
    "```\n"
   ]
  },
  {
   "cell_type": "code",
   "execution_count": null,
   "id": "7956b9c7",
   "metadata": {},
   "outputs": [],
   "source": [
    "# Student 클래스 구현\n",
    "class Student:\n",
    "    def __init__(self, name, id, dept):\n",
    "        self.name = name\n",
    "        self.id = id\n",
    "        self.dept = dept\n",
    "    \n",
    "    def grade(self):\n",
    "        # 학번의 앞 네 자리를 추출하여 2018과 비교\n",
    "        year = self.id // 10000  # 앞 네 자리 추출\n",
    "        \n",
    "        if year < 2018:\n",
    "            print(\"3학년입니다\")\n",
    "        else:\n",
    "            print(\"3학년이 아닙니다\")\n"
   ]
  },
  {
   "cell_type": "code",
   "execution_count": null,
   "id": "32566439",
   "metadata": {},
   "outputs": [],
   "source": [
    "# 주어진 프로그램 실행\n",
    "man = Student(name = \"홍길동\", id = 20150001, dept = \"로봇공학과\")\n",
    "print(\"이름: {}, 학번: {}, 학과: {}\".format(man.name, man.id, man.dept))\n",
    "man.grade()\n"
   ]
  }
 ],
 "metadata": {
  "language_info": {
   "name": "python"
  }
 },
 "nbformat": 4,
 "nbformat_minor": 5
}
