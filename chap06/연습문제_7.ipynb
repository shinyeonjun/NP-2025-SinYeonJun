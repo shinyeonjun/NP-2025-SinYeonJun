{
 "cells": [
  {
   "cell_type": "markdown",
   "id": "9a6d7f34",
   "metadata": {},
   "source": [
    "## 연습문제 7: Employee 클래스\n",
    "\n",
    "이 파일은 Employee 클래스에 대한 연습문제를 다루는 노트입니다.\n",
    "\n",
    "날짜: 2025.9.24\n",
    "\n",
    "학번: 202110763\n",
    "\n",
    "이름: 신연준\n"
   ]
  },
  {
   "cell_type": "markdown",
   "id": "4befcd0a",
   "metadata": {},
   "source": [
    "# 6-7 연습문제\n",
    "\n",
    "## 문제 설명\n",
    "\n",
    "### 요구사항:\n",
    "1. 주어진 `Person` 클래스를 상속받아 `Employee` 클래스를 정의하라.\n",
    "2. `Employee` 클래스에 `employeeID` 속성을 추가하라.\n",
    "3. `Employee` 클래스에 `getID()` 메소드를 정의하여 `employeeID`를 반환하도록 하라.\n",
    "4. `Employee(\"동양\", 65, 2019)` 생성자로 `Employee` 객체를 생성하라.\n",
    "5. 생성된 `Employee` 객체의 이름, 나이, ID를 출력하라.\n",
    "\n",
    "### 주어진 Person 클래스:\n",
    "```python\n",
    "class Person:\n",
    "    def __init__(self, name, age):\n",
    "        self.name = name\n",
    "        self.age = age\n",
    "\n",
    "    def getName(self):\n",
    "        print(self.name)\n",
    "\n",
    "    def getAge(self):\n",
    "        print(self.age)\n",
    "```\n"
   ]
  },
  {
   "cell_type": "code",
   "execution_count": null,
   "id": "a99a922e",
   "metadata": {},
   "outputs": [],
   "source": [
    "# 주어진 Person 클래스\n",
    "class Person:\n",
    "    def __init__(self, name, age):\n",
    "        self.name = name\n",
    "        self.age = age\n",
    "\n",
    "    def getName(self):\n",
    "        print(self.name)\n",
    "\n",
    "    def getAge(self):\n",
    "        print(self.age)\n",
    "\n",
    "# Employee 클래스 구현 (Person 클래스를 상속받음)\n",
    "class Employee(Person):\n",
    "    def __init__(self, name, age, employeeID):\n",
    "        super().__init__(name, age)  # 부모 클래스의 생성자 호출\n",
    "        self.employeeID = employeeID  # employeeID 속성 추가\n",
    "    \n",
    "    def getID(self):\n",
    "        return self.employeeID  # employeeID를 반환하는 메소드\n"
   ]
  },
  {
   "cell_type": "code",
   "execution_count": null,
   "id": "076b6726",
   "metadata": {},
   "outputs": [],
   "source": [
    "# Employee 객체 생성 및 테스트\n",
    "\n",
    "# Employee(\"동양\", 65, 2019) 생성자로 Employee 객체를 생성\n",
    "employee = Employee(\"동양\", 65, 2019)\n",
    "\n",
    "# 생성된 Employee 객체의 이름, 나이, ID를 출력\n",
    "print(f\"이름: {employee.name}\")\n",
    "print(f\"나이: {employee.age}\")\n",
    "print(f\"ID: {employee.getID()}\")\n",
    "\n",
    "# 부모 클래스의 메소드도 사용 가능\n",
    "print(\"\\\\n부모 클래스 메소드 사용:\")\n",
    "employee.getName()\n",
    "employee.getAge()\n"
   ]
  }
 ],
 "metadata": {
  "language_info": {
   "name": "python"
  }
 },
 "nbformat": 4,
 "nbformat_minor": 5
}
