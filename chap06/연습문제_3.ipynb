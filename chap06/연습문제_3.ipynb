{
 "cells": [
  {
   "cell_type": "markdown",
   "id": "dd3f403f",
   "metadata": {},
   "source": [
    "## 연습문제 3: Moneybox 클래스\n",
    "\n",
    "이 파일은 Moneybox 클래스에 대한 연습문제를 다루는 노트입니다.\n",
    "\n",
    "날짜: 2025.9.24\n",
    "\n",
    "학번: 202110763\n",
    "\n",
    "이름: 신연준\n"
   ]
  },
  {
   "cell_type": "markdown",
   "id": "74f36962",
   "metadata": {},
   "source": [
    "# 6-3 연습문제\n",
    "\n",
    "## 문제 설명\n",
    "\n",
    "### Moneybox 클래스 작성\n",
    "Moneybox 클래스를 작성하라.\n",
    "\n",
    "#### 클래스 요구사항:\n",
    "1. 이 클래스는 저축한 총액을 저장하는 인스턴스 변수가 있다.\n",
    "2. `deposit(money)` 메서드는 인수로 주어진 금액만큼 저축하고 총액을 출력한다.\n",
    "3. `extract(money)` 메서드는 money를 인출하고 총액을 출력한다.\n",
    "4. `get_total()` 메서드는 총액을 알려준다.\n",
    "\n",
    "#### 사용 예시:\n",
    "`my_money = Moneybox()` 객체를 생성하고 1000원을 저축하고, 200원을 인출한 다음, 총액을 출력하라.\n"
   ]
  },
  {
   "cell_type": "markdown",
   "id": "e02e66f1",
   "metadata": {},
   "source": [
    "## 해결 방법\n",
    "\n",
    "### 단계별 접근\n",
    "1. Moneybox 클래스를 정의한다\n",
    "2. `__init__` 메서드에서 총액을 0으로 초기화한다\n",
    "3. `deposit(money)` 메서드를 구현한다\n",
    "4. `extract(money)` 메서드를 구현한다\n",
    "5. `get_total()` 메서드를 구현한다\n",
    "6. 객체를 생성하고 요구사항에 따라 테스트한다\n"
   ]
  },
  {
   "cell_type": "code",
   "execution_count": null,
   "id": "529c0062",
   "metadata": {},
   "outputs": [],
   "source": [
    "# Moneybox 클래스 구현\n",
    "class Moneybox:\n",
    "    def __init__(self):\n",
    "        # 저축한 총액을 저장하는 인스턴스 변수\n",
    "        self.total = 0\n",
    "    \n",
    "    def deposit(self, money):\n",
    "        # 인수로 주어진 금액만큼 저축하고 총액을 출력\n",
    "        self.total += money\n",
    "        print(f\"{money}원을 저축했습니다. 현재 총액: {self.total}원\")\n",
    "    \n",
    "    def extract(self, money):\n",
    "        # money를 인출하고 총액을 출력\n",
    "        if self.total >= money:\n",
    "            self.total -= money\n",
    "            print(f\"{money}원을 인출했습니다. 현재 총액: {self.total}원\")\n",
    "        else:\n",
    "            print(f\"잔액이 부족합니다. 현재 총액: {self.total}원\")\n",
    "    \n",
    "    def get_total(self):\n",
    "        # 총액을 반환\n",
    "        return self.total\n"
   ]
  },
  {
   "cell_type": "code",
   "execution_count": null,
   "id": "d21099f8",
   "metadata": {},
   "outputs": [],
   "source": [
    "# Moneybox 객체 생성 및 테스트\n",
    "my_money = Moneybox()\n",
    "\n",
    "# 1000원 저축\n",
    "my_money.deposit(1000)\n",
    "\n",
    "# 200원 인출\n",
    "my_money.extract(200)\n",
    "\n",
    "# 총액 출력\n",
    "print(f\"현재 총액: {my_money.get_total()}원\")\n"
   ]
  }
 ],
 "metadata": {
  "language_info": {
   "name": "python"
  }
 },
 "nbformat": 4,
 "nbformat_minor": 5
}
