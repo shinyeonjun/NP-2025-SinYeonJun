{
 "cells": [
  {
   "cell_type": "markdown",
   "id": "7c0a118f",
   "metadata": {},
   "source": [
    "## 연습문제 4: Password_manager 클래스\n",
    "\n",
    "이 파일은 Password_manager 클래스에 대한 연습문제를 다루는 노트입니다.\n",
    "\n",
    "날짜: 2025.9.24\n",
    "\n",
    "학번: 202110763\n",
    "\n",
    "이름: 신연준\n"
   ]
  },
  {
   "cell_type": "markdown",
   "id": "d5fa01b6",
   "metadata": {},
   "source": [
    "# 6-4 연습문제\n",
    "\n",
    "## 문제 설명\n",
    "\n",
    "### Password_manager 클래스 작성\n",
    "`Password_manager` 클래스를 작성하라. 이 클래스는 다음 요구사항을 만족해야 한다.\n",
    "\n",
    "#### 클래스 요구사항:\n",
    "1. **`old_passwords` 리스트 변수**: 사용자의 모든 과거 패스워드를 저장하는 리스트 변수를 갖는다. 리스트의 마지막 요소는 현재 패스워드이다.\n",
    "2. **`get_password()` 메소드**: 현재 패스워드를 알려준다.\n",
    "3. **`set_password(new_password)` 메소드**: 새로운 패스워드를 설정한다. 이 메소드는 `new_password`가 과거에 사용하지 않은 새로운 패스워드일 때만 유효하다.\n",
    "4. **`is_correct(input_string)` 메소드**: 문자열을 입력받아 현재 패스워드와 같은지 `True` 또는 `False`를 반환한다.\n",
    "\n",
    "#### 사용 예시:\n",
    "`Password_manager` 객체를 생성하고, 초기 패스워드를 설정한 후, 여러 번 패스워드를 변경하고, 올바른지 확인하는 과정을 테스트하라.\n"
   ]
  },
  {
   "cell_type": "markdown",
   "id": "1d94bce6",
   "metadata": {},
   "source": [
    "## 해결 방법\n",
    "\n",
    "### 단계별 접근\n",
    "1. `Password_manager` 클래스를 정의한다\n",
    "2. `__init__` 메소드에서 `old_passwords` 리스트를 초기화하고, 필요하다면 초기 패스워드를 설정한다\n",
    "3. `get_password()` 메소드를 구현한다\n",
    "4. `set_password(new_password)` 메소드를 구현한다. 이때, `new_password`가 `old_passwords`에 이미 존재하는지 확인하는 로직을 포함한다\n",
    "5. `is_correct(input_string)` 메소드를 구현한다\n",
    "6. 객체를 생성하고 요구사항에 따라 각 메소드를 테스트한다\n"
   ]
  },
  {
   "cell_type": "code",
   "execution_count": null,
   "id": "e6772ed7",
   "metadata": {},
   "outputs": [],
   "source": [
    "# Password_manager 클래스 구현\n",
    "class Password_manager:\n",
    "    def __init__(self, initial_password):\n",
    "        # 사용자의 모든 과거 패스워드를 저장하는 리스트 변수\n",
    "        # 리스트의 마지막 요소는 현재 패스워드이다\n",
    "        self.old_passwords = [initial_password]\n",
    "        print(f\"초기 패스워드가 설정되었습니다: {self.get_password()}\")\n",
    "    \n",
    "    def get_password(self):\n",
    "        # 현재 패스워드를 알려준다\n",
    "        return self.old_passwords[-1]\n",
    "    \n",
    "    def set_password(self, new_password):\n",
    "        # 새로운 패스워드를 설정한다\n",
    "        # 과거에 사용하지 않은 새로운 패스워드를 설정할 때만 유효하다\n",
    "        if new_password in self.old_passwords:\n",
    "            print(f\"'{new_password}'는 이미 사용했던 패스워드입니다. 다른 패스워드를 사용해주세요.\")\n",
    "            return False\n",
    "        else:\n",
    "            self.old_passwords.append(new_password)\n",
    "            print(f\"패스워드가 '{new_password}'로 성공적으로 변경되었습니다.\")\n",
    "            return True\n",
    "    \n",
    "    def is_correct(self, input_string):\n",
    "        # 문자열을 입력받아 현재 패스워드와 같은지 True 또는 False를 반환한다\n",
    "        return input_string == self.get_password()\n"
   ]
  },
  {
   "cell_type": "code",
   "execution_count": null,
   "id": "e9fd53bd",
   "metadata": {},
   "outputs": [],
   "source": [
    "# Password_manager 객체 생성 및 테스트\n",
    "\n",
    "# 1. Password_manager 객체 생성 및 초기 패스워드 설정\n",
    "my_password_manager = Password_manager(\"initial_pass123\")\n",
    "\n",
    "# 2. 현재 패스워드 확인\n",
    "print(f\"현재 패스워드: {my_password_manager.get_password()}\")\n",
    "\n",
    "# 3. 올바른 패스워드인지 확인\n",
    "print(f\"'initial_pass123'이 현재 패스워드와 일치하는가? {my_password_manager.is_correct('initial_pass123')}\")\n",
    "print(f\"'wrong_pass'가 현재 패스워드와 일치하는가? {my_password_manager.is_correct('wrong_pass')}\")\n",
    "\n",
    "# 4. 새로운 패스워드 설정 (유효한 경우)\n",
    "my_password_manager.set_password(\"new_pass456\")\n",
    "print(f\"현재 패스워드: {my_password_manager.get_password()}\")\n",
    "\n",
    "# 5. 새로운 패스워드 설정 (과거에 사용했던 경우)\n",
    "my_password_manager.set_password(\"initial_pass123\")\n",
    "print(f\"현재 패스워드: {my_password_manager.get_password()}\")  # 패스워드가 변경되지 않았음을 확인\n",
    "\n",
    "# 6. 또 다른 새로운 패스워드 설정\n",
    "my_password_manager.set_password(\"super_secure_pass789\")\n",
    "print(f\"현재 패스워드: {my_password_manager.get_password()}\")\n",
    "\n",
    "# 7. 최종 패스워드 확인\n",
    "print(f\"'super_secure_pass789'이 현재 패스워드와 일치하는가? {my_password_manager.is_correct('super_secure_pass789')}\")\n",
    "print(f\"'new_pass456'이 현재 패스워드와 일치하는가? {my_password_manager.is_correct('new_pass456')}\")\n"
   ]
  }
 ],
 "metadata": {
  "language_info": {
   "name": "python"
  }
 },
 "nbformat": 4,
 "nbformat_minor": 5
}
