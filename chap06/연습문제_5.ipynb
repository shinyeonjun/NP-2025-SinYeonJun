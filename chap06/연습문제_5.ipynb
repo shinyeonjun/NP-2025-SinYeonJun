{
 "cells": [
  {
   "cell_type": "markdown",
   "id": "472ab642",
   "metadata": {},
   "source": [
    "## 연습문제 5: Articles 클래스\n",
    "\n",
    "이 파일은 Articles 클래스에 대한 연습문제를 다루는 노트입니다.\n",
    "\n",
    "날짜: 2025.9.24\n",
    "\n",
    "학번: 202110763\n",
    "\n",
    "이름: 신연준\n"
   ]
  },
  {
   "cell_type": "markdown",
   "id": "cef9ec61",
   "metadata": {},
   "source": [
    "# 6-5 연습문제\n",
    "\n",
    "## 문제 설명\n",
    "\n",
    "### Articles 클래스 작성\n",
    "`Articles` 클래스를 작성하라.\n",
    "\n",
    "#### 클래스 요구사항:\n",
    "1. 제품의 이름(`name`), 재고 수량(`stock`), 단가(`price`)를 나타내는 인스턴스 변수를 갖는다.\n",
    "2. `offer_price()` 메소드는 구매 수량을 인수로 받아 총 가격을 반환한다.\n",
    "   - 구매 수량이 1~10개 이하이면 정상 가격을 반환한다.\n",
    "   - 구매 수량이 11~50개이면 5% 할인된 가격을 반환한다.\n",
    "   - 구매 수량이 51개 이상이면 10% 할인된 가격을 반환한다.\n",
    "3. `purchase()` 메소드는 구매 수량을 인수로 받아 재고 수량을 구매 수량만큼 감소시킨다.\n",
    "\n",
    "#### 사용 예시:\n",
    "단가 1000원인 \"mask\"를 10,000장으로 설정하여 `Articles` 객체를 생성하고, 40장을 구매했을 때의 가격을 계산하고 출력한 다음, 구매 후 재고 수량을 출력하라.\n"
   ]
  },
  {
   "cell_type": "code",
   "execution_count": null,
   "id": "678db47f",
   "metadata": {},
   "outputs": [],
   "source": [
    "# Articles 클래스 구현\n",
    "class Articles:\n",
    "    def __init__(self, name, stock, price):\n",
    "        # 제품의 이름, 재고 수량, 단가를 나타내는 인스턴스 변수\n",
    "        self.name = name\n",
    "        self.stock = stock\n",
    "        self.price = price\n",
    "    \n",
    "    def offer_price(self, quantity):\n",
    "        # 구매 수량을 인수로 받아 총 가격을 반환\n",
    "        total_price = self.price * quantity\n",
    "        \n",
    "        if 1 <= quantity <= 10:\n",
    "            # 1~10개: 정상 가격\n",
    "            return total_price\n",
    "        elif 11 <= quantity <= 50:\n",
    "            # 11~50개: 5% 할인\n",
    "            return total_price * 0.95\n",
    "        else:  # 51개 이상\n",
    "            # 51개 이상: 10% 할인\n",
    "            return total_price * 0.9\n",
    "    \n",
    "    def purchase(self, quantity):\n",
    "        # 구매 수량을 인수로 받아 재고 수량을 구매 수량만큼 감소\n",
    "        if self.stock >= quantity:\n",
    "            self.stock -= quantity\n",
    "            return True\n",
    "        else:\n",
    "            print(f\"재고가 부족합니다. 현재 재고: {self.stock}개\")\n",
    "            return False\n"
   ]
  },
  {
   "cell_type": "code",
   "execution_count": null,
   "id": "7382c4e5",
   "metadata": {},
   "outputs": [],
   "source": [
    "# Articles 객체 생성 및 테스트\n",
    "\n",
    "# 단가 1000원인 \"mask\"를 10,000장으로 설정하여 Articles 객체를 생성\n",
    "mask = Articles(\"mask\", 10000, 1000)\n",
    "\n",
    "# 40장을 구매했을 때의 가격을 계산하고 출력\n",
    "quantity = 40\n",
    "price = mask.offer_price(quantity)\n",
    "print(f\"{mask.name} {quantity}장 구매 가격: {price:,.0f}원 (5% 할인)\")\n",
    "\n",
    "# 구매 실행\n",
    "mask.purchase(quantity)\n",
    "\n",
    "# 구매 후 재고 수량을 출력\n",
    "print(f\"구매 후 {mask.name} 재고 수량: {mask.stock}장\")\n"
   ]
  }
 ],
 "metadata": {
  "language_info": {
   "name": "python"
  }
 },
 "nbformat": 4,
 "nbformat_minor": 5
}
