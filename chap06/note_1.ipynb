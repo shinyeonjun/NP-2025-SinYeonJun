{
 "cells": [
  {
   "cell_type": "markdown",
   "id": "5405d848",
   "metadata": {},
   "source": [
    "## 6장 노트정리\n",
    "\n",
    "이 파일은 6장 학습하면서 실행한 내용을 정리한 것이다.\n",
    "\n",
    "날짜: 2025.9.24\n",
    "\n",
    "학번: 202110763\n",
    "\n",
    "이름: 신연준\n"
   ]
  },
  {
   "cell_type": "markdown",
   "id": "4bd56e76",
   "metadata": {},
   "source": [
    "# 클래스 정의와 객체 생성\n",
    "\n",
    "## 클래스 정의 (Class Definition)\n",
    "\n",
    "클래스는 `class` 키워드를 사용하여 정의합니다.\n",
    "\n",
    "### 기본 문법\n",
    "```python\n",
    "class 클래스이름(부모클래스):\n",
    "    # 클래스 몸체 (변수와 메서드)\n",
    "```\n",
    "\n",
    "- `클래스이름`: 정의할 클래스의 이름\n",
    "- `부모클래스`: 상속받을 부모 클래스 (생략 가능)\n",
    "- `클래스 몸체`: 변수와 메서드로 구성\n"
   ]
  },
  {
   "cell_type": "markdown",
   "id": "cc9f481c",
   "metadata": {},
   "source": [
    "## 클래스 객체 (Class Object)\n",
    "\n",
    "### 객체란?\n",
    "- 클래스를 **인스턴스화(instantiation)**하여 생성된 것\n",
    "- 객체는 클래스의 변수와 메서드에 접근할 수 있음\n",
    "\n",
    "### 객체 생성 방법\n",
    "```python\n",
    "객체이름 = 클래스이름()  # 객체 생성\n",
    "```\n"
   ]
  },
  {
   "cell_type": "code",
   "execution_count": null,
   "id": "0e5d1fcd",
   "metadata": {},
   "outputs": [],
   "source": [
    "# 클래스 정의 예제\n",
    "class Test:  # 클래스 정의\n",
    "    name = \"홍길동\"  # 클래스 속성\n",
    "\n",
    "# 객체 생성\n",
    "t = Test()  # 객체 생성\n",
    "\n",
    "# 객체에서 클래스 속성 접근\n",
    "print(t.name)  # 객체에서 클래스 속성 접근\n"
   ]
  },
  {
   "cell_type": "markdown",
   "id": "9161e9c7",
   "metadata": {},
   "source": [
    "## 주요 개념 정리\n",
    "\n",
    "### 클래스 속성 (Class Attribute)\n",
    "- 클래스 내부에서 정의된 변수\n",
    "- 모든 객체가 공유하는 속성\n",
    "- `클래스이름.속성명` 또는 `객체.속성명`으로 접근 가능\n",
    "\n",
    "### 객체 생성 과정\n",
    "1. 클래스 정의: `class 클래스이름:`\n",
    "2. 객체 생성: `객체이름 = 클래스이름()`\n",
    "3. 속성 접근: `객체이름.속성명`\n",
    "\n",
    "### 인스턴스화 (Instantiation)\n",
    "- 클래스를 기반으로 실제 객체를 만드는 과정\n",
    "- `클래스이름()`을 호출하여 수행\n"
   ]
  },
  {
   "cell_type": "markdown",
   "id": "6770fbcc",
   "metadata": {},
   "source": [
    "# 클래스 예제 - Car 클래스\n",
    "\n",
    "## 클래스 정의 예제\n",
    "\n",
    "### Car 클래스의 구성 요소\n",
    "- **초기화 메서드 (`__init__`)**: 객체 생성 시 자동으로 실행되는 메서드\n",
    "- **인스턴스 변수**: `self.color`, `self.speed` 등 객체별로 다른 값을 가지는 변수\n",
    "- **메서드**: `speedUp()`, `speedDown()` 등 객체의 동작을 정의하는 함수\n"
   ]
  },
  {
   "cell_type": "code",
   "execution_count": null,
   "id": "ca112da2",
   "metadata": {},
   "outputs": [],
   "source": [
    "# Car 클래스 정의 예제\n",
    "class Car:\n",
    "    def __init__(self, color, speed):  # 초기화 메서드. self는 객체를 나타냄\n",
    "        self.color = color  # 인스턴스 변수 정의\n",
    "        self.speed = speed  # 인스턴스 변수 정의\n",
    "    \n",
    "    def speedUp(self, v):  # 메서드의 첫 번째 매개변수는 self\n",
    "        self.speed = self.speed + v\n",
    "        return self.speed\n",
    "    \n",
    "    def speedDown(self, v):\n",
    "        self.speed = self.speed - v  # 다른 메서드에서 정의된 변수 접근\n",
    "        return self.speed\n"
   ]
  },
  {
   "cell_type": "markdown",
   "id": "cd5c01e3",
   "metadata": {},
   "source": [
    "## 클래스 초기화 함수 (`__init__`)\n",
    "\n",
    "### `__init__` 메서드의 특징\n",
    "- 객체가 생성될 때 **자동으로 실행**되는 메서드\n",
    "- 인스턴스 변수(예: `self.var`)를 초기화하는 용도\n",
    "- 초기화가 필요하지 않으면 생략 가능\n",
    "- `self`는 첫 번째 매개변수이며 **클래스 객체 자체**를 나타냄\n",
    "- 인스턴스 변수는 클래스 내의 **모든 메서드에서 사용 가능**\n"
   ]
  },
  {
   "cell_type": "code",
   "execution_count": null,
   "id": "9e4d3244",
   "metadata": {},
   "outputs": [],
   "source": [
    "# Car 클래스 객체 사용 예제\n",
    "mycar = Car('Black', 60)  # Car 클래스 객체 생성\n",
    "print('색상: ', mycar.color, '속도: ', mycar.speed)  # 속성 접근\n",
    "\n",
    "mycar.color = \"Red\"  # 속성 변경도 가능\n",
    "print('색상: ', mycar.color)\n",
    "\n",
    "mycar.speedUp(10)  # speedUp() 메서드 호출\n",
    "print('속도: ', mycar.speed)\n",
    "\n",
    "mycar.speedDown(20)  # speedDown() 메서드 호출\n",
    "print('속도: ', mycar.speed)\n"
   ]
  },
  {
   "cell_type": "markdown",
   "id": "8c234839",
   "metadata": {},
   "source": [
    "# 클래스 속성: 클래스 변수와 인스턴스 변수\n",
    "\n",
    "## 클래스 변수 vs 인스턴스 변수\n",
    "\n",
    "### 클래스 변수\n",
    "- 클래스 내에서 정의된 변수\n",
    "- 모든 인스턴스가 공유하는 변수\n",
    "- `클래스이름.변수명`으로 접근\n",
    "\n",
    "### 인스턴스 변수\n",
    "- `self.변수명`으로 정의된 변수\n",
    "- 각 객체마다 다른 값을 가질 수 있음\n",
    "- 클래스 전체에서 유효\n",
    "\n",
    "### 중요한 특징\n",
    "- `self.`가 없는 변수는 메서드 내에서만 유효한 지역변수\n",
    "- 클래스 변수를 `self`와 함께 사용하면 인스턴스 변수처럼 동작\n",
    "- 인스턴스 변수(`obj.count`)는 변하지만 클래스 변수(`Calc.count`)는 변하지 않음\n"
   ]
  },
  {
   "cell_type": "code",
   "execution_count": null,
   "id": "59e74428",
   "metadata": {},
   "outputs": [],
   "source": [
    "# 클래스 변수와 인스턴스 변수 예제\n",
    "class Calc:\n",
    "    count = 0  # 클래스 변수. 클래스 내에서 유효\n",
    "    \n",
    "    def add(self, a=0, b=0):\n",
    "        self.a = a  # 인스턴스 변수\n",
    "        self.b = b  # 인스턴스 변수\n",
    "        self.count += 1  # 클래스 변수를 self와 함께 사용하면 인스턴스 변수처럼 사용\n",
    "        return self.a + self.b\n",
    "    \n",
    "    def minus(self, a, b):\n",
    "        if a == 0 or b == 0:\n",
    "            return a - b, self.count  # count 속성 출력\n",
    "        else:\n",
    "            return a - b\n",
    "\n",
    "# 객체 생성 및 사용\n",
    "obj = Calc()\n",
    "print(obj.minus(3, 0))  # count 속성 출력\n",
    "print(obj.minus(3, 1))\n",
    "print(obj.add(1, 2))  # count 속성 증가\n",
    "print(obj.count, Calc.count)  # 인스턴스 변수(obj.count)는 변하지만 클래스 변수(Calc.count)는 변하지 않음\n"
   ]
  },
  {
   "cell_type": "markdown",
   "id": "85d9de3e",
   "metadata": {},
   "source": [
    "# 클래스 상속 (Class Inheritance)\n",
    "\n",
    "## 상속의 개념\n",
    "- 기존에 만들어진 클래스로부터 속성과 메서드를 이어받고 자신이 필요한 기능을 추가하는 기법\n",
    "\n",
    "## 상속 용어\n",
    "- **상위 클래스** = 부모 클래스 또는 super class\n",
    "- **하위 클래스** = 자식 클래스 또는 sub class\n",
    "\n",
    "## 상속의 구현\n",
    "```python\n",
    "class subclass(superclass):\n",
    "```\n",
    "\n",
    "## 파이썬에서의 상속\n",
    "- 파이썬 프로그램의 모듈은 대부분 클래스로 구현되어 있음\n",
    "- 자신의 프로그램에서는 모듈에 포함된 부모 클래스를 상속받아 구현\n",
    "\n",
    "### 예시\n",
    "```python\n",
    "class Handler(serversocket.BaseRequestHandler):\n",
    "```\n",
    "- serversocket 모듈의 BaseRequestHandler 클래스를 상속받아 Handler 클래스 구현\n"
   ]
  },
  {
   "cell_type": "code",
   "execution_count": null,
   "id": "b9135f98",
   "metadata": {},
   "outputs": [],
   "source": [
    "# 클래스 상속 예제\n",
    "class People:\n",
    "    def __init__(self, age=0, name=None):\n",
    "        self._age = age\n",
    "        self._name = name\n",
    "    \n",
    "    def introMe(self):\n",
    "        print(\"Name:\", self._name, \"age:\", str(self._age))\n",
    "\n",
    "class Teacher(People):\n",
    "    def __init__(self, age=0, name=None, school=None):\n",
    "        super().__init__(age, name)  # 부모 클래스의 속성 할당. self 없음\n",
    "        self.school = school  # 자신의 인스턴스 변수 추가\n",
    "    \n",
    "    def showSchool(self):\n",
    "        print(\"My School is \", self.school)\n"
   ]
  },
  {
   "cell_type": "code",
   "execution_count": null,
   "id": "e98513ac",
   "metadata": {},
   "outputs": [],
   "source": [
    "# 상속 메서드 호출 예제\n",
    "p1 = People(29, \"Lee\")  # People 객체\n",
    "p1.introMe()  # People.introMe() 호출\n",
    "\n",
    "t1 = Teacher(48, \"Kim\", \"HighSchool\")  # Teacher 객체\n",
    "t1.introMe()  # People.introMe() 호출 (상속받은 메서드)\n",
    "t1.showSchool()  # Teacher.showSchool() 호출\n"
   ]
  },
  {
   "cell_type": "markdown",
   "id": "75504686",
   "metadata": {},
   "source": [
    "# 메소드 오버라이딩 (Method Overriding)\n",
    "\n",
    "## 메소드 오버라이딩의 개념\n",
    "- 자식 클래스에서 부모 클래스의 메소드를 수정해 다시 정의하는 것\n",
    "- Student 클래스에서 People 클래스의 introMe() 메소드를 재정의하여 사용\n",
    "\n",
    "## 오버라이딩의 특징\n",
    "- 부모 클래스의 메소드를 완전히 대체하거나 확장할 수 있음\n",
    "- `super().method()`를 사용하여 부모 클래스의 메소드를 호출할 수 있음\n"
   ]
  },
  {
   "cell_type": "code",
   "execution_count": null,
   "id": "b78895c9",
   "metadata": {},
   "outputs": [],
   "source": [
    "# 메소드 오버라이딩 예제\n",
    "class People:  # 부모 클래스\n",
    "    def __init__(self, age=0, name=None):\n",
    "        self._age = age\n",
    "        self._name = name\n",
    "    \n",
    "    def introMe(self):\n",
    "        print(\"Name:\", self._name, \"age:\", str(self._age))\n",
    "\n",
    "class Student(People):  # 자식 클래스\n",
    "    def __init__(self, age=0, name=None, grade=None):\n",
    "        super().__init__(age, name)\n",
    "        self._grade = grade  # 자식 클래스의 변수\n",
    "    \n",
    "    def introMe(self):  # 부모 클래스 메소드를 재정의(오버라이딩)\n",
    "        super().introMe()\n",
    "        print(\"Grade: \", self._grade)\n"
   ]
  },
  {
   "cell_type": "code",
   "execution_count": null,
   "id": "ffd2bd07",
   "metadata": {},
   "outputs": [],
   "source": [
    "# 오버라이딩 메소드 호출 예제\n",
    "p1 = People(29, \"Lee\")\n",
    "p1.introMe()  # People의 introMe() 호출\n",
    "\n",
    "s1 = Student(17, \"Park\", 2)\n",
    "s1.introMe()  # Student의 introMe() 호출 (오버라이딩된 메서드)\n"
   ]
  },
  {
   "cell_type": "markdown",
   "metadata": {},
   "source": [
    "# 다형성 (Polymorphism)\n",
    "\n",
    "## 다형성의 개념\n",
    "**전달된 인자에 따라 함수 또는 연산의 기능이 달라지는 기능**\n",
    "\n",
    "## 연산자 오버로딩 예제\n",
    "- `2 + 3 → 5` (숫자 덧셈)\n",
    "- `'2' + '3' → '23'` (문자열 연결)\n",
    "- `'Hello ' + 'World' → 'Hello World'` (문자열 연결)\n",
    "\n",
    "같은 `+` 연산자지만 피연산자의 타입에 따라 다른 동작을 수행합니다.\n",
    "\n",
    "## 메서드 다형성\n",
    "- 동일한 함수인데 인자에 따라 출력이 다름\n",
    "- 객체의 타입에 따라 다른 메서드가 호출됨\n"
   ]
  },
  {
   "cell_type": "code",
   "execution_count": null,
   "id": "9de90e02",
   "metadata": {},
   "outputs": [],
   "source": [
    "# 다형성 예제 - 한국인과 미국인 클래스\n",
    "class Korean(object):\n",
    "    def greeting(self):\n",
    "        print(\"안녕하세요\")\n",
    "\n",
    "class American(object):\n",
    "    def greeting(self):\n",
    "        print(\"Hello\")\n",
    "\n",
    "def sayhello(people):\n",
    "    people.greeting()  # 다형성 호출\n",
    "\n",
    "# 객체 생성\n",
    "Kim = Korean()    # Korean 클래스 객체\n",
    "John = American() # American 클래스 객체\n",
    "\n",
    "# 다형성 실행\n",
    "sayhello(Kim)   # 동일한 함수인데 인자에 따라 출력이 다름(안녕하세요)\n",
    "sayhello(John)  # John을 전달하면 Hello\n"
   ]
  },
  {
   "cell_type": "markdown",
   "id": "fc6affd1",
   "metadata": {},
   "source": [
    "## 다형성의 장점\n",
    "\n",
    "### 1. 코드 재사용성\n",
    "- 동일한 함수(`sayhello`)를 여러 타입의 객체에 사용 가능\n",
    "- 새로운 클래스가 추가되어도 기존 코드 수정 없이 사용 가능\n",
    "\n",
    "### 2. 유연성\n",
    "- 객체의 타입에 따라 자동으로 적절한 메서드가 호출됨\n",
    "- 런타임에 객체 타입을 결정하여 동작\n",
    "\n",
    "### 3. 확장성\n",
    "- 새로운 클래스를 추가할 때 기존 인터페이스(`greeting` 메서드)만 구현하면 됨\n",
    "- 기존 코드와의 호환성 유지\n"
   ]
  },
  {
   "cell_type": "code",
   "execution_count": null,
   "id": "eb4f8b0d",
   "metadata": {},
   "outputs": [],
   "source": [
    "# 다형성 확장 예제 - 새로운 클래스 추가\n",
    "class Japanese(object):\n",
    "    def greeting(self):\n",
    "        print(\"こんにちは\")  # 일본어 인사\n",
    "\n",
    "class French(object):\n",
    "    def greeting(self):\n",
    "        print(\"Bonjour\")  # 프랑스어 인사\n",
    "\n",
    "# 새로운 객체 생성\n",
    "Yuki = Japanese()\n",
    "Pierre = French()\n",
    "\n",
    "# 기존 함수에 새로운 객체들도 사용 가능 (다형성의 장점)\n",
    "sayhello(Kim)     # 안녕하세요\n",
    "sayhello(John)    # Hello  \n",
    "sayhello(Yuki)    # こんにちは\n",
    "sayhello(Pierre)  # Bonjour\n"
   ]
  }
 ],
 "metadata": {
  "language_info": {
   "name": "python"
  }
 },
 "nbformat": 4,
 "nbformat_minor": 5
}
