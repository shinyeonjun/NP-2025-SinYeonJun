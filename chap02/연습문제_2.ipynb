{
 "cells": [
  {
   "cell_type": "markdown",
   "id": "b3f56c71",
   "metadata": {},
   "source": [
    "## 2장 연습문제\n",
    "\n",
    "이 파일은 2장 학습하면서 연습문제를 푼 것입니다.\n",
    "\n",
    "날짜: 2025.9.10\n",
    "\n",
    "학번: 202110763\n",
    "\n",
    "이름: 신연준"
   ]
  },
  {
   "cell_type": "markdown",
   "id": "f6fda933",
   "metadata": {},
   "source": [
    "# 산술 및 관계 연산자 연습문제\n"
   ]
  },
  {
   "cell_type": "markdown",
   "id": "f30bf6f9",
   "metadata": {},
   "source": [
    "## 문제 1\n",
    "5와 3을 더한 값을 출력하는 프로그램을 작성하라.\n"
   ]
  },
  {
   "cell_type": "code",
   "execution_count": null,
   "id": "b992c0fa",
   "metadata": {},
   "outputs": [],
   "source": [
    "# 문제 1 해결\n",
    "print(5 + 3)\n"
   ]
  },
  {
   "cell_type": "markdown",
   "id": "14f4853a",
   "metadata": {},
   "source": [
    "## 문제 2\n",
    "7에서 3을 뺀 값을 출력하는 프로그램을 작성하라.\n"
   ]
  },
  {
   "cell_type": "code",
   "execution_count": null,
   "id": "d78481aa",
   "metadata": {},
   "outputs": [],
   "source": [
    "# 문제 2 해결\n",
    "print(7 - 3)\n"
   ]
  },
  {
   "cell_type": "markdown",
   "id": "9153a765",
   "metadata": {},
   "source": [
    "## 문제 3\n",
    "4를 2로 나눈 값을 출력하는 프로그램을 작성하라.\n"
   ]
  },
  {
   "cell_type": "code",
   "execution_count": null,
   "id": "57a119d4",
   "metadata": {},
   "outputs": [],
   "source": [
    "# 문제 3 해결\n",
    "print(4 / 2)\n"
   ]
  },
  {
   "cell_type": "markdown",
   "id": "3f406144",
   "metadata": {},
   "source": [
    "## 문제 4\n",
    "8을 3으로 나눈 몫과 나머지를 출력하는 프로그램을 작성하라.\n"
   ]
  },
  {
   "cell_type": "code",
   "execution_count": null,
   "id": "24261469",
   "metadata": {},
   "outputs": [],
   "source": [
    "# 문제 4 해결\n",
    "print(f\"몫: {8 // 3}, 나머지: {8 % 3}\")\n"
   ]
  },
  {
   "cell_type": "markdown",
   "id": "a474281b",
   "metadata": {},
   "source": [
    "## 문제 5\n",
    "2의 5제곱을 출력하는 프로그램을 작성하라.\n"
   ]
  },
  {
   "cell_type": "code",
   "execution_count": null,
   "id": "6496d420",
   "metadata": {},
   "outputs": [],
   "source": [
    "# 문제 5 해결\n",
    "print(2 ** 5)\n"
   ]
  },
  {
   "cell_type": "markdown",
   "id": "33d153c1",
   "metadata": {},
   "source": [
    "## 문제 6\n",
    "입력된 정수가 10보다 크고 20보다 작은지 검사하는 프로그램을 작성하라.\n"
   ]
  },
  {
   "cell_type": "code",
   "execution_count": null,
   "id": "3d7d9754",
   "metadata": {},
   "outputs": [],
   "source": [
    "# 문제 6 해결\n",
    "num = int(input(\"정수를 입력하세요: \"))\n",
    "is_between_10_and_20 = (num > 10) and (num < 20)\n",
    "print(f\"{num}은(는) 10보다 크고 20보다 작은가? {is_between_10_and_20}\")\n"
   ]
  },
  {
   "cell_type": "markdown",
   "id": "8b714c47",
   "metadata": {},
   "source": [
    "## 문제 7\n",
    "문자열 \"hello\"와 \"world\"를 이어 붙인 결과를 출력하는 프로그램을 작성하라.\n"
   ]
  },
  {
   "cell_type": "code",
   "execution_count": null,
   "id": "7b4b182f",
   "metadata": {},
   "outputs": [],
   "source": [
    "# 문제 7 해결\n",
    "print(\"hello\" + \"world\")\n"
   ]
  },
  {
   "cell_type": "markdown",
   "id": "02f2e981",
   "metadata": {},
   "source": [
    "## 문제 8\n",
    "7을 2로 나눈 결과가 3보다 작은지 검사하는 프로그램을 작성하라.\n"
   ]
  },
  {
   "cell_type": "code",
   "execution_count": null,
   "id": "f24a6d45",
   "metadata": {},
   "outputs": [],
   "source": [
    "# 문제 8 해결\n",
    "print((7 / 2) < 3)\n"
   ]
  },
  {
   "cell_type": "markdown",
   "id": "7efa1b18",
   "metadata": {},
   "source": [
    "## 문제 9\n",
    "변수 x의 값이 5와 같지 않은지 검사하는 프로그램을 작성하라.\n"
   ]
  },
  {
   "cell_type": "code",
   "execution_count": null,
   "id": "f71abfa1",
   "metadata": {},
   "outputs": [],
   "source": [
    "# 문제 9 해결\n",
    "x = 10  # 예시 값\n",
    "is_not_five = (x != 5)\n",
    "print(f\"변수 x의 값({x})이 5와 같지 않은가? {is_not_five}\")\n"
   ]
  },
  {
   "cell_type": "markdown",
   "id": "1b5c060e",
   "metadata": {},
   "source": [
    "## 문제 10\n",
    "변수 y의 값이 10에서 20 사이의 값인지 검사하는 프로그램을 작성하라.\n"
   ]
  },
  {
   "cell_type": "code",
   "execution_count": null,
   "id": "1d9919d4",
   "metadata": {},
   "outputs": [],
   "source": [
    "# 문제 10 해결\n",
    "y = 15  # 예시 값\n",
    "is_between_10_and_20_inclusive = (y >= 10) and (y <= 20)\n",
    "print(f\"변수 y의 값({y})이 10에서 20 사이의 값인가? {is_between_10_and_20_inclusive}\")\n"
   ]
  }
 ],
 "metadata": {
  "language_info": {
   "name": "python"
  }
 },
 "nbformat": 4,
 "nbformat_minor": 5
}
