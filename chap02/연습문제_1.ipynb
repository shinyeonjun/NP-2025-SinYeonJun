{
 "cells": [
  {
   "cell_type": "markdown",
   "id": "61382dac",
   "metadata": {},
   "source": [
    "## 2장 연습문제\n",
    "\n",
    "이 파일은 2장 학습하면서 연습문제를 푼 것입니다.\n",
    "\n",
    "날짜: 2025.9.10\n",
    "\n",
    "학번: 202110763\n",
    "\n",
    "이름: 신연준"
   ]
  },
  {
   "cell_type": "markdown",
   "id": "7bfdca83",
   "metadata": {},
   "source": [
    "## 문제 1\n",
    "키보드에서 임의의 두 실수를 입력 받아 곱한 후 그 결과를 출력하는 프로그램을 작성하고 실행하라\n"
   ]
  },
  {
   "cell_type": "code",
   "execution_count": null,
   "id": "6819238e",
   "metadata": {},
   "outputs": [],
   "source": [
    "# 문제 1 해결\n",
    "num1 = float(input('첫 번째 실수를 입력하세요: '))\n",
    "num2 = float(input('두 번째 실수를 입력하세요: '))\n",
    "result = num1 * num2\n",
    "print(f'{num1} × {num2} = {result}')\n"
   ]
  },
  {
   "cell_type": "markdown",
   "id": "eca4e6c2",
   "metadata": {},
   "source": [
    "## 문제 2\n",
    "1마일은 1.609km이다. 키보드에서 마일(정수)을 입력 받아 km로 변환해 출력하는 프로그램을 작성하고 실행하라\n"
   ]
  },
  {
   "cell_type": "code",
   "execution_count": null,
   "id": "97f77387",
   "metadata": {},
   "outputs": [],
   "source": [
    "# 문제 2 해결\n",
    "miles = int(input('마일을 입력하세요: '))\n",
    "km = miles * 1.609\n",
    "print(f'{miles}마일 = {km}km')\n"
   ]
  },
  {
   "cell_type": "markdown",
   "id": "1ae4a192",
   "metadata": {},
   "source": [
    "## 문제 3\n",
    "원의 반지름을 입력 받아 원의 둘레와 원의 면적을 출력하는 프로그램을 작성하라\n"
   ]
  },
  {
   "cell_type": "code",
   "execution_count": null,
   "id": "eaf389cf",
   "metadata": {},
   "outputs": [],
   "source": [
    "# 문제 3 해결\n",
    "import math\n",
    "\n",
    "radius = float(input('원의 반지름을 입력하세요: '))\n",
    "circumference = 2 * math.pi * radius  # 원의 둘레 = 2πr\n",
    "area = math.pi * radius * radius      # 원의 면적 = πr²\n",
    "\n",
    "print(f'반지름이 {radius}인 원의 둘레: {circumference:.2f}')\n",
    "print(f'반지름이 {radius}인 원의 면적: {area:.2f}')\n"
   ]
  }
 ],
 "metadata": {
  "language_info": {
   "name": "python"
  }
 },
 "nbformat": 4,
 "nbformat_minor": 5
}
