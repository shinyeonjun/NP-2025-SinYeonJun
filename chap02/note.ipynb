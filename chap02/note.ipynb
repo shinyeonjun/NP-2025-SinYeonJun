{
 "cells": [
  {
   "cell_type": "markdown",
   "id": "417c7b2d",
   "metadata": {},
   "source": [
    "## 2장 노트정리\n",
    "\n",
    "이 파일은 2장 학습하면서 실행한 내용을 정리한 것이다.\n",
    "\n",
    "날짜: 2025.9.9\n",
    "\n",
    "학번: 202110763\n",
    "\n",
    "이름: 신연준"
   ]
  },
  {
   "cell_type": "code",
   "execution_count": 7,
   "id": "7fc701dd",
   "metadata": {},
   "outputs": [
    {
     "name": "stdout",
     "output_type": "stream",
     "text": [
      "Hello, 여러분!!\n"
     ]
    }
   ],
   "source": [
    "print(\"Hello, 여러분!!\")"
   ]
  },
  {
   "cell_type": "code",
   "execution_count": 8,
   "id": "39ba8c61",
   "metadata": {},
   "outputs": [
    {
     "name": "stdout",
     "output_type": "stream",
     "text": [
      "x = 3\n"
     ]
    }
   ],
   "source": [
    "x = 3\n",
    "print(f\"x = {x}\")"
   ]
  },
  {
   "cell_type": "code",
   "execution_count": 9,
   "id": "d2384983",
   "metadata": {},
   "outputs": [
    {
     "data": {
      "text/plain": [
       "3"
      ]
     },
     "execution_count": 9,
     "metadata": {},
     "output_type": "execute_result"
    }
   ],
   "source": [
    "x = 3\n",
    "x"
   ]
  },
  {
   "cell_type": "markdown",
   "id": "9302518a",
   "metadata": {},
   "source": [
    "## 기본 입출력 함수\n",
    "\n",
    "### print() 함수\n",
    "숫자나 문자열 등의 데이터나 수식을 화면에 출력할 때 사용하는 함수입니다.\n"
   ]
  },
  {
   "cell_type": "code",
   "execution_count": 10,
   "id": "fd27dba7",
   "metadata": {},
   "outputs": [
    {
     "name": "stdout",
     "output_type": "stream",
     "text": [
      "30\n"
     ]
    }
   ],
   "source": [
    "# 1. 산술 연산 결과 출력\n",
    "print(10+20)  # () 속의 연산 결과 출력\n"
   ]
  },
  {
   "cell_type": "code",
   "execution_count": 11,
   "id": "5012b562",
   "metadata": {},
   "outputs": [
    {
     "name": "stdout",
     "output_type": "stream",
     "text": [
      "동양미래대학교\n"
     ]
    }
   ],
   "source": [
    "# 2. 문자열 출력\n",
    "print(\"동양미래대학교\")  # 문자열 출력\n"
   ]
  },
  {
   "cell_type": "code",
   "execution_count": 12,
   "id": "fa4ef4a8",
   "metadata": {},
   "outputs": [
    {
     "name": "stdout",
     "output_type": "stream",
     "text": [
      "abcabcabc\n"
     ]
    }
   ],
   "source": [
    "# 3. 문자열 반복 출력\n",
    "print(\"abc\" * 3)  # 문자열 3번 출력\n"
   ]
  },
  {
   "cell_type": "code",
   "execution_count": 13,
   "id": "9dc5a4d9",
   "metadata": {},
   "outputs": [],
   "source": [
    "# 4. 변수 할당\n",
    "x = 25\n",
    "y = 32\n",
    "z = x + y\n"
   ]
  },
  {
   "cell_type": "code",
   "execution_count": 14,
   "id": "676a0ff6",
   "metadata": {},
   "outputs": [
    {
     "name": "stdout",
     "output_type": "stream",
     "text": [
      "25 32\n"
     ]
    }
   ],
   "source": [
    "# 5. 여러 변수 값 출력\n",
    "print(x, y)  # 변수 x, y 값 출력\n"
   ]
  },
  {
   "cell_type": "code",
   "execution_count": 15,
   "id": "8e3e34b7",
   "metadata": {},
   "outputs": [
    {
     "name": "stdout",
     "output_type": "stream",
     "text": [
      "25 + 32 = 57\n"
     ]
    }
   ],
   "source": [
    "# 6. 문자열과 변수의 조합 출력\n",
    "print(x, '+', y, '=', z)  # 문자열과 변수의 조합 출력\n"
   ]
  },
  {
   "cell_type": "markdown",
   "id": "a6be2309",
   "metadata": {},
   "source": [
    "### print() 함수 - 서식 지정\n",
    "숫자나 문자열 등의 데이터를 서식을 지정하여 화면에 출력할 때 사용합니다.\n"
   ]
  },
  {
   "cell_type": "markdown",
   "id": "edd53b0f",
   "metadata": {},
   "source": [
    "#### 서식 지정자 종류\n",
    "\n",
    "| 서식 | 설명 | 사용 예 |\n",
    "|---|---|---|\n",
    "| `%d` | 10진수 정수로 출력 | `print(\"%d\" % 10)` |\n",
    "| `%f` | 실수로 출력 | `print(\"%f\" % 1.2)` |\n",
    "| `%s` | 문자열 출력 | `print(\"%s\" % \"cat\")` |\n",
    "| `%c` | 한 글자 출력 | `print(\"%c\" % \"p\")` |\n",
    "| `%x` | 16진수 정수로 출력 | `print(\"%x\" % 10)` |\n",
    "| `%o` | 8진수 정수로 출력 | `print(\"%o\" % 8)` |\n"
   ]
  },
  {
   "cell_type": "code",
   "execution_count": 16,
   "id": "bd2b48c3",
   "metadata": {},
   "outputs": [
    {
     "name": "stdout",
     "output_type": "stream",
     "text": [
      "n=10\n"
     ]
    }
   ],
   "source": [
    "# 서식 지정 예시 1: 10진수 정수 출력\n",
    "n = 10\n",
    "print(\"n=%d\" % n)  # 서식 지정\n"
   ]
  },
  {
   "cell_type": "code",
   "execution_count": 17,
   "id": "d4250288",
   "metadata": {},
   "outputs": [
    {
     "name": "stdout",
     "output_type": "stream",
     "text": [
      "m=5.2, n=10\n"
     ]
    }
   ],
   "source": [
    "# 서식 지정 예시 2: 실수와 정수 조합 출력\n",
    "m = 5.2\n",
    "print(\"m=%.1f, n=%d\" % (m, n))  # %.1f = 소숫점 1자리까지 표시\n"
   ]
  },
  {
   "cell_type": "code",
   "execution_count": 18,
   "id": "023a9acf",
   "metadata": {},
   "outputs": [
    {
     "name": "stdout",
     "output_type": "stream",
     "text": [
      "10\n",
      "1.200000\n",
      "cat\n",
      "p\n",
      "a\n",
      "10\n"
     ]
    }
   ],
   "source": [
    "# 서식 지정자 다양한 예시들\n",
    "print(\"%d\" % 10)        # 10진수 정수\n",
    "print(\"%f\" % 1.2)       # 실수\n",
    "print(\"%s\" % \"cat\")     # 문자열\n",
    "print(\"%c\" % \"p\")       # 한 글자\n",
    "print(\"%x\" % 10)        # 16진수\n",
    "print(\"%o\" % 8)         # 8진수\n"
   ]
  },
  {
   "cell_type": "markdown",
   "id": "c99dc0d9",
   "metadata": {},
   "source": [
    "### input() 함수\n",
    "키보드를 이용하여 숫자나 문자열 등의 데이터를 입력 받을 때 사용합니다.\n",
    "입력된 정보는 항상 **문자열**입니다.\n"
   ]
  },
  {
   "cell_type": "code",
   "execution_count": null,
   "id": "9ab838c5",
   "metadata": {},
   "outputs": [],
   "source": [
    "# 1. 입력 받기 (문자열로 저장됨)\n",
    "n = input('type a number : ')  # 사용자가 3을 입력한다고 가정\n",
    "print(n)  # 문자열로 입력된다\n",
    "print(type(n))  # 타입 확인\n"
   ]
  },
  {
   "cell_type": "code",
   "execution_count": null,
   "id": "5357367b",
   "metadata": {},
   "outputs": [],
   "source": [
    "# 2. 문자열을 정수로 변환\n",
    "print(int(n))  # 문자열을 정수로 변환\n",
    "print(type(int(n)))  # 타입 확인\n"
   ]
  },
  {
   "cell_type": "code",
   "execution_count": null,
   "id": "8b8ecb21",
   "metadata": {},
   "outputs": [],
   "source": [
    "# 3. 문자열을 실수형으로 변환\n",
    "print(float(n))  # 문자열을 실수형으로 변환\n",
    "print(type(float(n)))  # 타입 확인\n"
   ]
  },
  {
   "cell_type": "code",
   "execution_count": null,
   "id": "4fe26c4f",
   "metadata": {},
   "outputs": [],
   "source": [
    "# 4. 정수를 문자열로 변환\n",
    "n = str(3)  # 정수를 문자열로 변환\n",
    "print(n)\n",
    "print(type(n))  # 타입 확인\n"
   ]
  },
  {
   "cell_type": "markdown",
   "id": "6254ac9b",
   "metadata": {},
   "source": [
    "## 입출력 함수의 사용 예\n"
   ]
  },
  {
   "cell_type": "markdown",
   "id": "ea1ced77",
   "metadata": {},
   "source": [
    "### 문자열을 입력 받아 다른 문자열과 결합하여 출력\n"
   ]
  },
  {
   "cell_type": "code",
   "execution_count": null,
   "id": "b6b68cd0",
   "metadata": {},
   "outputs": [],
   "source": [
    "name = input('Name: ')  # 문자열 입력\n",
    "print(\"Hello,\" + name)\n"
   ]
  },
  {
   "cell_type": "markdown",
   "id": "b249429a",
   "metadata": {},
   "source": [
    "### 두 정수를 입력 받아 곱셈 결과 출력\n"
   ]
  },
  {
   "cell_type": "code",
   "execution_count": null,
   "id": "22b7b14e",
   "metadata": {},
   "outputs": [],
   "source": [
    "a = int(input('Number 1: '))  # 문자열을 입력한 후 정수로 변환\n",
    "b = int(input('Number 2: '))\n",
    "print(a * b)\n"
   ]
  },
  {
   "cell_type": "markdown",
   "id": "a6343319",
   "metadata": {},
   "source": [
    "### 섭씨온도(C)를 입력 받아 화씨온도(F)로 바꾸어 출력\n"
   ]
  },
  {
   "cell_type": "code",
   "execution_count": null,
   "id": "79e61251",
   "metadata": {},
   "outputs": [],
   "source": [
    "C = float(input(\"Type 섭씨온도 : \"))  # 입력 문자열을 실수로 변환\n",
    "F = C*9/5 + 32  # 온도 변환\n",
    "print(\"화씨온도는\", F)\n"
   ]
  }
 ],
 "metadata": {
  "kernelspec": {
   "display_name": "Python 3",
   "language": "python",
   "name": "python3"
  },
  "language_info": {
   "codemirror_mode": {
    "name": "ipython",
    "version": 3
   },
   "file_extension": ".py",
   "mimetype": "text/x-python",
   "name": "python",
   "nbconvert_exporter": "python",
   "pygments_lexer": "ipython3",
   "version": "3.12.4"
  }
 },
 "nbformat": 4,
 "nbformat_minor": 5
}
