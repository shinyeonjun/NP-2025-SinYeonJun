{
 "cells": [
  {
   "cell_type": "markdown",
   "id": "3121294b",
   "metadata": {},
   "source": [
    "## 2장 연습문제\n",
    "\n",
    "이 파일은 2장 학습하면서 연습문제를 푼 것입니다.\n",
    "\n",
    "날짜: 2025.9.10\n",
    "\n",
    "학번: 202110763\n",
    "\n",
    "이름: 신연준"
   ]
  },
  {
   "cell_type": "markdown",
   "id": "115eed27",
   "metadata": {},
   "source": [
    "# 멤버 연산자 연습문제\n"
   ]
  },
  {
   "cell_type": "markdown",
   "id": "cd094884",
   "metadata": {},
   "source": [
    "## 문제 1\n",
    "숫자 70이 리스트 [1, 2, 3, 4, 5]에 포함되어 있는지 검사하는 프로그램을 작성하라.\n"
   ]
  },
  {
   "cell_type": "code",
   "execution_count": null,
   "id": "7bbac901",
   "metadata": {},
   "outputs": [],
   "source": [
    "# 문제 1 해결\n",
    "my_list = [1, 2, 3, 4, 5]\n",
    "number_to_check = 70\n",
    "is_included = number_to_check in my_list\n",
    "print(f\"숫자 {number_to_check}은(는) 리스트에 포함되어 있는가? {is_included}\")\n"
   ]
  },
  {
   "cell_type": "markdown",
   "id": "870605ea",
   "metadata": {},
   "source": [
    "## 문제 2\n",
    "문자열 \"apple\"이 세트 {\"orange\", \"banana\", \"kiwi\"}에 포함되어 있는지 검사하는 프로그램을 작성하라.\n"
   ]
  },
  {
   "cell_type": "code",
   "execution_count": null,
   "id": "ae9e3130",
   "metadata": {},
   "outputs": [],
   "source": [
    "# 문제 2 해결\n",
    "my_set = {\"orange\", \"banana\", \"kiwi\"}\n",
    "string_to_check = \"apple\"\n",
    "is_included = string_to_check in my_set\n",
    "print(f\"문자열 '{string_to_check}'은(는) 세트에 포함되어 있는가? {is_included}\")\n"
   ]
  },
  {
   "cell_type": "markdown",
   "id": "413cb508",
   "metadata": {},
   "source": [
    "## 문제 3\n",
    "숫자 60이 딕셔너리 {\"a\": 1, \"b\": 2, \"c\": 3, \"d\": 4}의 값들 중 하나인지 검사하는 프로그램을 작성하라.\n"
   ]
  },
  {
   "cell_type": "code",
   "execution_count": null,
   "id": "c8743d33",
   "metadata": {},
   "outputs": [],
   "source": [
    "# 문제 3 해결\n",
    "my_dict = {\"a\": 1, \"b\": 2, \"c\": 3, \"d\": 4}\n",
    "number_to_check = 60\n",
    "is_included = number_to_check in my_dict.values()\n",
    "print(f\"숫자 {number_to_check}은(는) 딕셔너리의 값들 중 하나인가? {is_included}\")\n"
   ]
  },
  {
   "cell_type": "markdown",
   "id": "ba0d13ca",
   "metadata": {},
   "source": [
    "## 문제 4\n",
    "문자열 \"cat\"이 튜플 (\"dog\", \"cat\", \"bird\", \"hamster\")에 포함되어 있는지 검사하는 프로그램을 작성하라.\n"
   ]
  },
  {
   "cell_type": "code",
   "execution_count": null,
   "id": "1ca28028",
   "metadata": {},
   "outputs": [],
   "source": [
    "# 문제 4 해결\n",
    "my_tuple = (\"dog\", \"cat\", \"bird\", \"hamster\")\n",
    "string_to_check = \"cat\"\n",
    "is_included = string_to_check in my_tuple\n",
    "print(f\"문자열 '{string_to_check}'은(는) 튜플에 포함되어 있는가? {is_included}\")\n"
   ]
  },
  {
   "cell_type": "markdown",
   "id": "14ddf4d7",
   "metadata": {},
   "source": [
    "## 문제 5\n",
    "숫자 10이 세트 {2, 4, 6, 8, 10}에 포함되어 있는지 검사하는 프로그램을 작성하라.\n"
   ]
  },
  {
   "cell_type": "code",
   "execution_count": null,
   "id": "8e91dc26",
   "metadata": {},
   "outputs": [],
   "source": [
    "# 문제 5 해결\n",
    "my_set = {2, 4, 6, 8, 10}\n",
    "number_to_check = 10\n",
    "is_included = number_to_check in my_set\n",
    "print(f\"숫자 {number_to_check}은(는) 세트에 포함되어 있는가? {is_included}\")\n"
   ]
  }
 ],
 "metadata": {
  "language_info": {
   "name": "python"
  }
 },
 "nbformat": 4,
 "nbformat_minor": 5
}
