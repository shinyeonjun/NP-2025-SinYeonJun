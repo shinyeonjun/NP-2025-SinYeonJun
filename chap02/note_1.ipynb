{
 "cells": [
  {
   "cell_type": "markdown",
   "id": "417c7b2d",
   "metadata": {},
   "source": [
    "## 2장 노트정리\n",
    "\n",
    "이 파일은 2장 학습하면서 실행한 내용을 정리한 것이다.\n",
    "\n",
    "날짜: 2025.9.9\n",
    "\n",
    "학번: 202110763\n",
    "\n",
    "이름: 신연준"
   ]
  },
  {
   "cell_type": "code",
   "execution_count": 7,
   "id": "7fc701dd",
   "metadata": {},
   "outputs": [
    {
     "name": "stdout",
     "output_type": "stream",
     "text": [
      "Hello, 여러분!!\n"
     ]
    }
   ],
   "source": [
    "print(\"Hello, 여러분!!\")"
   ]
  },
  {
   "cell_type": "code",
   "execution_count": 8,
   "id": "39ba8c61",
   "metadata": {},
   "outputs": [
    {
     "name": "stdout",
     "output_type": "stream",
     "text": [
      "x = 3\n"
     ]
    }
   ],
   "source": [
    "x = 3\n",
    "print(f\"x = {x}\")"
   ]
  },
  {
   "cell_type": "code",
   "execution_count": 9,
   "id": "d2384983",
   "metadata": {},
   "outputs": [
    {
     "data": {
      "text/plain": [
       "3"
      ]
     },
     "execution_count": 9,
     "metadata": {},
     "output_type": "execute_result"
    }
   ],
   "source": [
    "x = 3\n",
    "x"
   ]
  },
  {
   "cell_type": "markdown",
   "id": "9302518a",
   "metadata": {},
   "source": [
    "## 기본 입출력 함수\n",
    "\n",
    "### print() 함수\n",
    "숫자나 문자열 등의 데이터나 수식을 화면에 출력할 때 사용하는 함수입니다.\n"
   ]
  },
  {
   "cell_type": "code",
   "execution_count": 10,
   "id": "fd27dba7",
   "metadata": {},
   "outputs": [
    {
     "name": "stdout",
     "output_type": "stream",
     "text": [
      "30\n"
     ]
    }
   ],
   "source": [
    "# 1. 산술 연산 결과 출력\n",
    "print(10+20)  # () 속의 연산 결과 출력\n"
   ]
  },
  {
   "cell_type": "code",
   "execution_count": 11,
   "id": "5012b562",
   "metadata": {},
   "outputs": [
    {
     "name": "stdout",
     "output_type": "stream",
     "text": [
      "동양미래대학교\n"
     ]
    }
   ],
   "source": [
    "# 2. 문자열 출력\n",
    "print(\"동양미래대학교\")  # 문자열 출력\n"
   ]
  },
  {
   "cell_type": "code",
   "execution_count": 12,
   "id": "fa4ef4a8",
   "metadata": {},
   "outputs": [
    {
     "name": "stdout",
     "output_type": "stream",
     "text": [
      "abcabcabc\n"
     ]
    }
   ],
   "source": [
    "# 3. 문자열 반복 출력\n",
    "print(\"abc\" * 3)  # 문자열 3번 출력\n"
   ]
  },
  {
   "cell_type": "code",
   "execution_count": 13,
   "id": "9dc5a4d9",
   "metadata": {},
   "outputs": [],
   "source": [
    "# 4. 변수 할당\n",
    "x = 25\n",
    "y = 32\n",
    "z = x + y\n"
   ]
  },
  {
   "cell_type": "code",
   "execution_count": 14,
   "id": "676a0ff6",
   "metadata": {},
   "outputs": [
    {
     "name": "stdout",
     "output_type": "stream",
     "text": [
      "25 32\n"
     ]
    }
   ],
   "source": [
    "# 5. 여러 변수 값 출력\n",
    "print(x, y)  # 변수 x, y 값 출력\n"
   ]
  },
  {
   "cell_type": "code",
   "execution_count": 15,
   "id": "8e3e34b7",
   "metadata": {},
   "outputs": [
    {
     "name": "stdout",
     "output_type": "stream",
     "text": [
      "25 + 32 = 57\n"
     ]
    }
   ],
   "source": [
    "# 6. 문자열과 변수의 조합 출력\n",
    "print(x, '+', y, '=', z)  # 문자열과 변수의 조합 출력\n"
   ]
  },
  {
   "cell_type": "markdown",
   "id": "a6be2309",
   "metadata": {},
   "source": [
    "### print() 함수 - 서식 지정\n",
    "숫자나 문자열 등의 데이터를 서식을 지정하여 화면에 출력할 때 사용합니다.\n"
   ]
  },
  {
   "cell_type": "markdown",
   "id": "edd53b0f",
   "metadata": {},
   "source": [
    "#### 서식 지정자 종류\n",
    "\n",
    "| 서식 | 설명 | 사용 예 |\n",
    "|---|---|---|\n",
    "| `%d` | 10진수 정수로 출력 | `print(\"%d\" % 10)` |\n",
    "| `%f` | 실수로 출력 | `print(\"%f\" % 1.2)` |\n",
    "| `%s` | 문자열 출력 | `print(\"%s\" % \"cat\")` |\n",
    "| `%c` | 한 글자 출력 | `print(\"%c\" % \"p\")` |\n",
    "| `%x` | 16진수 정수로 출력 | `print(\"%x\" % 10)` |\n",
    "| `%o` | 8진수 정수로 출력 | `print(\"%o\" % 8)` |\n"
   ]
  },
  {
   "cell_type": "code",
   "execution_count": 16,
   "id": "bd2b48c3",
   "metadata": {},
   "outputs": [
    {
     "name": "stdout",
     "output_type": "stream",
     "text": [
      "n=10\n"
     ]
    }
   ],
   "source": [
    "# 서식 지정 예시 1: 10진수 정수 출력\n",
    "n = 10\n",
    "print(\"n=%d\" % n)  # 서식 지정\n"
   ]
  },
  {
   "cell_type": "code",
   "execution_count": 17,
   "id": "d4250288",
   "metadata": {},
   "outputs": [
    {
     "name": "stdout",
     "output_type": "stream",
     "text": [
      "m=5.2, n=10\n"
     ]
    }
   ],
   "source": [
    "# 서식 지정 예시 2: 실수와 정수 조합 출력\n",
    "m = 5.2\n",
    "print(\"m=%.1f, n=%d\" % (m, n))  # %.1f = 소숫점 1자리까지 표시\n"
   ]
  },
  {
   "cell_type": "code",
   "execution_count": 18,
   "id": "023a9acf",
   "metadata": {},
   "outputs": [
    {
     "name": "stdout",
     "output_type": "stream",
     "text": [
      "10\n",
      "1.200000\n",
      "cat\n",
      "p\n",
      "a\n",
      "10\n"
     ]
    }
   ],
   "source": [
    "# 서식 지정자 다양한 예시들\n",
    "print(\"%d\" % 10)        # 10진수 정수\n",
    "print(\"%f\" % 1.2)       # 실수\n",
    "print(\"%s\" % \"cat\")     # 문자열\n",
    "print(\"%c\" % \"p\")       # 한 글자\n",
    "print(\"%x\" % 10)        # 16진수\n",
    "print(\"%o\" % 8)         # 8진수\n"
   ]
  },
  {
   "cell_type": "markdown",
   "id": "c99dc0d9",
   "metadata": {},
   "source": [
    "### input() 함수\n",
    "키보드를 이용하여 숫자나 문자열 등의 데이터를 입력 받을 때 사용합니다.\n",
    "입력된 정보는 항상 **문자열**입니다.\n"
   ]
  },
  {
   "cell_type": "code",
   "execution_count": null,
   "id": "9ab838c5",
   "metadata": {},
   "outputs": [],
   "source": [
    "# 1. 입력 받기 (문자열로 저장됨)\n",
    "n = input('type a number : ')  # 사용자가 3을 입력한다고 가정\n",
    "print(n)  # 문자열로 입력된다\n",
    "print(type(n))  # 타입 확인\n"
   ]
  },
  {
   "cell_type": "code",
   "execution_count": null,
   "id": "5357367b",
   "metadata": {},
   "outputs": [],
   "source": [
    "# 2. 문자열을 정수로 변환\n",
    "print(int(n))  # 문자열을 정수로 변환\n",
    "print(type(int(n)))  # 타입 확인\n"
   ]
  },
  {
   "cell_type": "code",
   "execution_count": null,
   "id": "8b8ecb21",
   "metadata": {},
   "outputs": [],
   "source": [
    "# 3. 문자열을 실수형으로 변환\n",
    "print(float(n))  # 문자열을 실수형으로 변환\n",
    "print(type(float(n)))  # 타입 확인\n"
   ]
  },
  {
   "cell_type": "code",
   "execution_count": null,
   "id": "4fe26c4f",
   "metadata": {},
   "outputs": [],
   "source": [
    "# 4. 정수를 문자열로 변환\n",
    "n = str(3)  # 정수를 문자열로 변환\n",
    "print(n)\n",
    "print(type(n))  # 타입 확인\n"
   ]
  },
  {
   "cell_type": "markdown",
   "id": "6254ac9b",
   "metadata": {},
   "source": [
    "## 입출력 함수의 사용 예\n"
   ]
  },
  {
   "cell_type": "markdown",
   "id": "ea1ced77",
   "metadata": {},
   "source": [
    "### 문자열을 입력 받아 다른 문자열과 결합하여 출력\n"
   ]
  },
  {
   "cell_type": "code",
   "execution_count": null,
   "id": "b6b68cd0",
   "metadata": {},
   "outputs": [],
   "source": [
    "name = input('Name: ')  # 문자열 입력\n",
    "print(\"Hello,\" + name)\n"
   ]
  },
  {
   "cell_type": "markdown",
   "id": "b249429a",
   "metadata": {},
   "source": [
    "### 두 정수를 입력 받아 곱셈 결과 출력\n"
   ]
  },
  {
   "cell_type": "code",
   "execution_count": null,
   "id": "22b7b14e",
   "metadata": {},
   "outputs": [],
   "source": [
    "a = int(input('Number 1: '))  # 문자열을 입력한 후 정수로 변환\n",
    "b = int(input('Number 2: '))\n",
    "print(a * b)\n"
   ]
  },
  {
   "cell_type": "markdown",
   "id": "a6343319",
   "metadata": {},
   "source": [
    "### 섭씨온도(C)를 입력 받아 화씨온도(F)로 바꾸어 출력\n"
   ]
  },
  {
   "cell_type": "code",
   "execution_count": null,
   "id": "79e61251",
   "metadata": {},
   "outputs": [],
   "source": [
    "C = float(input(\"Type 섭씨온도 : \"))  # 입력 문자열을 실수로 변환\n",
    "F = C*9/5 + 32  # 온도 변환\n",
    "print(\"화씨온도는\", F)\n"
   ]
  },
  {
   "cell_type": "markdown",
   "id": "810e7aa5",
   "metadata": {},
   "source": [
    "## 부울형(Boolean)\n",
    "\n",
    "### 정의\n",
    "- `참(True)` 또는 `거짓(False)` 중 하나의 값을 갖는 자료형입니다.\n",
    "- 주로 비교 결과를 저장할 때 사용됩니다.\n"
   ]
  },
  {
   "cell_type": "code",
   "execution_count": null,
   "id": "4906a026",
   "metadata": {},
   "outputs": [],
   "source": [
    "# 부울 리터럴 할당 및 타입 확인\n",
    "aVar = True\n",
    "bVar = False\n",
    "print(type(aVar))  # <class 'bool'>\n"
   ]
  },
  {
   "cell_type": "code",
   "execution_count": null,
   "id": "16f02b4b",
   "metadata": {},
   "outputs": [],
   "source": [
    "# 비교 연산 결과 저장 및 출력\n",
    "a = 1\n",
    "b = 2\n",
    "c = a > b  # a가 b보다 큰지 비교\n",
    "print(c)   # False\n",
    "\n",
    "d = a < b  # a가 b보다 작은지 비교\n",
    "print(d)   # True\n"
   ]
  },
  {
   "cell_type": "markdown",
   "id": "03f8e5ab",
   "metadata": {},
   "source": [
    "## 자료형과 크기\n",
    "\n",
    "### 정수(integer)형\n",
    "소수점 없는 숫자를 표현할 때 사용합니다.\n"
   ]
  },
  {
   "cell_type": "code",
   "execution_count": null,
   "id": "11c72155",
   "metadata": {},
   "outputs": [],
   "source": [
    "# 정수형 변수 할당 및 타입 확인\n",
    "intVar = 5\n",
    "print(type(intVar))  # <class 'int'>\n"
   ]
  },
  {
   "cell_type": "markdown",
   "id": "77cd7675",
   "metadata": {},
   "source": [
    "#### 여러 가지 정수 표현\n",
    "\n",
    "- **10진수**: `1, 23, 3493`\n",
    "- **2진수**: `0b010101, 0b110010` (접두사 `0b` 사용)\n",
    "- **8진수**: `0o1, 0o27, 0o6645` (접두사 `0o` 사용)\n",
    "- **16진수**: `0x1, 0x17, 0xDA5` (접두사 `0x` 사용)\n"
   ]
  },
  {
   "cell_type": "code",
   "execution_count": null,
   "id": "d23fba9f",
   "metadata": {},
   "outputs": [],
   "source": [
    "# 다양한 진법으로 정수 표현\n",
    "print(\"10진수:\", 1, 23, 3493)\n",
    "print(\"2진수:\", 0b010101, 0b110010)\n",
    "print(\"8진수:\", 0o1, 0o27, 0o6645)\n",
    "print(\"16진수:\", 0x1, 0x17, 0xDA5)\n"
   ]
  },
  {
   "cell_type": "markdown",
   "id": "6fc707a2",
   "metadata": {},
   "source": [
    "### 실수(float)형\n",
    "소수점이 있는 숫자를 표현할 때 사용합니다.\n"
   ]
  },
  {
   "cell_type": "code",
   "execution_count": null,
   "id": "e4da6a84",
   "metadata": {},
   "outputs": [],
   "source": [
    "# 실수형 변수 할당 및 타입 확인\n",
    "fVar = 1.0\n",
    "print(type(fVar))  # <class 'float'>\n"
   ]
  },
  {
   "cell_type": "code",
   "execution_count": null,
   "id": "bf8c318d",
   "metadata": {},
   "outputs": [],
   "source": [
    "# 여러 가지 실수 표현\n",
    "print(0., 0.0, .0, 1., 1.0, 1e0, 1.0, 1.0e2)\n"
   ]
  },
  {
   "cell_type": "markdown",
   "id": "eb18dcfd",
   "metadata": {},
   "source": [
    "### 숫자 표기 시 밑줄(`_`) 사용 (파이썬 3.6부터)\n",
    "숫자를 더 읽기 쉽게 만들기 위해 밑줄(`_`)을 구분자로 사용할 수 있습니다.\n"
   ]
  },
  {
   "cell_type": "code",
   "execution_count": null,
   "id": "d9461075",
   "metadata": {},
   "outputs": [],
   "source": [
    "# 밑줄을 사용한 숫자 표현\n",
    "print(100_000.000_0001, 0x_FF_FF, 0o7_777, 0b_1010_1010)\n",
    "print(0.00_10_27)\n"
   ]
  },
  {
   "cell_type": "markdown",
   "id": "d706191a",
   "metadata": {},
   "source": [
    "### 문자열(string)\n",
    "나열된 문자들로, `''` (작은따옴표) 또는 `\"\"` (큰따옴표)로 둘러쌉니다.\n"
   ]
  },
  {
   "cell_type": "code",
   "execution_count": null,
   "id": "cac74e6f",
   "metadata": {},
   "outputs": [],
   "source": [
    "# 문자열 변수 할당 및 타입 확인\n",
    "strVar = \"test\"\n",
    "print(type(strVar))  # <class 'str'>\n"
   ]
  },
  {
   "cell_type": "code",
   "execution_count": null,
   "id": "fc0fcf8e",
   "metadata": {},
   "outputs": [],
   "source": [
    "# 다양한 문자열 리터럴\n",
    "print('This is a literal string')\n",
    "print(\"This is another string\")\n",
    "print(\"I'm a Python fanatic\")  # 큰따옴표 안에 작은따옴표\n",
    "print('I\"m a Python fanatic')  # 작은따옴표 안에 큰따옴표\n"
   ]
  },
  {
   "cell_type": "code",
   "execution_count": null,
   "id": "88f6884d",
   "metadata": {},
   "outputs": [],
   "source": [
    "# 여러 줄 문자열\n",
    "print('A not very long string \\\\')\n",
    "print('that spans two lines')\n"
   ]
  },
  {
   "cell_type": "markdown",
   "id": "797ccee1",
   "metadata": {},
   "source": [
    "## 연산자의 종류\n"
   ]
  },
  {
   "cell_type": "markdown",
   "id": "756a569c",
   "metadata": {},
   "source": [
    "### 지정 연산자(assignment operator); 할당연산자\n",
    "- 변수의 값을 지정하기 위해 사용합니다. (`=`)\n"
   ]
  },
  {
   "cell_type": "code",
   "execution_count": null,
   "id": "3420b515",
   "metadata": {},
   "outputs": [],
   "source": [
    "# 지정 연산자 예시\n",
    "i = 3\n",
    "i = i + 2\n",
    "print(i)  # 결과: 5\n"
   ]
  },
  {
   "cell_type": "markdown",
   "id": "60031e9a",
   "metadata": {},
   "source": [
    "### 산술 연산자(arithmetic operator)\n",
    "- 사칙연산자: `+`, `-`, `*`, `/`\n",
    "- 정수나눗셈: `//`\n",
    "- 나머지 연산: `%`\n"
   ]
  },
  {
   "cell_type": "markdown",
   "id": "d640e372",
   "metadata": {},
   "source": [
    "#### 산술 연산자 종류\n",
    "\n",
    "| 연산자 | 설명 | 사용 예 |\n",
    "|---|---|---|\n",
    "| `x + y` | x와 y를 더함 | `c = a + b` |\n",
    "| `x - y` | x에서 y를 뺌 | `s = a - b` |\n",
    "| `x * y` | x와 y를 곱함 | `m = a * b` |\n",
    "| `x / y` | x를 y로 나눔 | `d = a / b` |\n",
    "| `x // y` | x를 y로 나눔(정수 나눗셈) | `d = a // b` |\n",
    "| `x % y` | x를 y로 나눈 나머지 | `r = a % b` |\n",
    "| `x ** y` | x의 y 제곱 | `r = 2 ** 5` |\n"
   ]
  },
  {
   "cell_type": "code",
   "execution_count": null,
   "id": "df0e8c80",
   "metadata": {},
   "outputs": [],
   "source": [
    "# 산술 연산자 예시\n",
    "a = 10\n",
    "b = 3\n",
    "c = a % b  # 10을 3으로 나눈 나머지: 1\n",
    "d = a // b # 10을 3으로 나눈 몫 (정수): 3\n",
    "e = a / b  # 10을 3으로 나눈 결과 (실수): 3.3333333333333335\n",
    "\n",
    "print(f\"a = {a}, b = {b}\")\n",
    "print(f\"a % b = {c}\")\n",
    "print(f\"a // b = {d}\")\n",
    "print(f\"a / b = {e}\")\n"
   ]
  },
  {
   "cell_type": "markdown",
   "id": "a02e56ba",
   "metadata": {},
   "source": [
    "### 관계 연산자(relation operator)\n",
    "\n",
    "- 비교연산자\n",
    "- 항의 대소관계 또는 동등관계 판정\n",
    "- 연산결과는 `True(참)` 또는 `False(거짓)`\n"
   ]
  },
  {
   "cell_type": "code",
   "execution_count": null,
   "id": "9e18aa66",
   "metadata": {},
   "outputs": [],
   "source": [
    "# 관계 연산자 예시\n",
    "score = 95\n",
    "print(score >= 90)  # ⇨ True\n",
    "print(score < 80)   # ⇨ False\n",
    "print(score == 90)  # ⇨ False\n",
    "print(score != 80)  # ⇨ True\n"
   ]
  },
  {
   "cell_type": "markdown",
   "id": "8a42de1f",
   "metadata": {},
   "source": [
    "#### 관계 연산자 종류\n",
    "\n",
    "| 연산자 | 설명 | 사용 예 |\n",
    "|---|---|---|\n",
    "| `x < y` | x가 y보다 작으면 True | `x=1; y=2; print(x<y)` |\n",
    "| `x <= y` | x가 y보다 작거나 같으면 True | `x=1; y=2; print(x<=y)` |\n",
    "| `x > y` | x가 y보다 크면 True | `x=1; y=2; print(x>y)` |\n",
    "| `x >= y` | x가 y보다 크거나 같으면 True | `x=1; y=2; print(x>=y)` |\n",
    "| `x == y` | x와 y가 같으면 True | `x=1; y=2; print(x==y)` |\n",
    "| `x != y` | x와 y가 다르면 True | `x=1; y=2; print(x!=y)` |\n"
   ]
  },
  {
   "cell_type": "code",
   "execution_count": null,
   "id": "19b56ca5",
   "metadata": {},
   "outputs": [],
   "source": [
    "# 관계 연산자 종류별 예시\n",
    "x = 1\n",
    "y = 2\n",
    "\n",
    "print(f\"x = {x}, y = {y}\")\n",
    "print(f\"x < y: {x < y}\")   # True\n",
    "print(f\"x <= y: {x <= y}\") # True\n",
    "print(f\"x > y: {x > y}\")   # False\n",
    "print(f\"x >= y: {x >= y}\") # False\n",
    "print(f\"x == y: {x == y}\") # False\n",
    "print(f\"x != y: {x != y}\") # True\n"
   ]
  },
  {
   "cell_type": "markdown",
   "id": "b3456a61",
   "metadata": {},
   "source": [
    "### 논리 연산자(logical operator)\n",
    "\n",
    "- 논리곱(and)\n",
    "- 논리합(or)\n",
    "- 논리부정(not)\n",
    "- 논리 연산의 대상은 True 또는 False. 결과도 True 또는 False\n"
   ]
  },
  {
   "cell_type": "code",
   "execution_count": null,
   "id": "17d4dbcd",
   "metadata": {},
   "outputs": [],
   "source": [
    "# 논리 연산자 예시\n",
    "exam = 85\n",
    "report = 85\n",
    "\n",
    "print(exam >= 80 and report >= 80)  # True (둘 다 80 이상)\n",
    "print(exam >= 90 or report >= 90)   # False (둘 다 90 미만)\n",
    "print(not(exam < 90))               # False (85 < 90은 True, not True는 False)\n"
   ]
  },
  {
   "cell_type": "markdown",
   "id": "d40e1a12",
   "metadata": {},
   "source": [
    "#### 논리 연산자 종류\n",
    "\n",
    "| 연산자 | 설명 | 사용 예 |\n",
    "|---|---|---|\n",
    "| `x and y` | x와 y가 모두 참일때만 연산결과가 참 | `a=5; print(a > 0 and a < 10)` |\n",
    "| `x or y` | x와 y 둘 중 하나라도 참이면 연산 결과가 참 | `a=5; print(a < -3 or a > 3)` |\n",
    "| `not x` | x의 부정. x가 참(거짓)이면 결과는 거짓(참) | `a=False; print(not a)` |\n"
   ]
  },
  {
   "cell_type": "code",
   "execution_count": null,
   "id": "7ba5dba3",
   "metadata": {},
   "outputs": [],
   "source": [
    "# 논리 연산자 종류별 예시\n",
    "a = 5\n",
    "\n",
    "print(f\"a = {a}\")\n",
    "print(f\"a > 0 and a < 10: {a > 0 and a < 10}\")  # True and True = True\n",
    "print(f\"a < -3 or a > 3: {a < -3 or a > 3}\")    # False or True = True\n",
    "print(f\"not False: {not False}\")                 # not False = True\n"
   ]
  },
  {
   "cell_type": "markdown",
   "id": "a48c8808",
   "metadata": {},
   "source": [
    "### 멤버 연산자(membership operator)\n",
    "\n",
    "- `in`, `not in`\n",
    "- 특정 문자열 또는 값이 문자열 또는 리스트(반복객체)에 속해 있는지 판별하는 연산자\n"
   ]
  },
  {
   "cell_type": "code",
   "execution_count": null,
   "id": "8e3d5557",
   "metadata": {},
   "outputs": [],
   "source": [
    "# 멤버 연산자 예시\n",
    "print('py' in 'python')      # True\n",
    "print('ty' not in 'python')  # True\n"
   ]
  },
  {
   "cell_type": "markdown",
   "id": "90646175",
   "metadata": {},
   "source": [
    "### 식별 연산자(identity operator)\n",
    "\n",
    "- `is` : 양쪽 변수의 주소가 같은지 판단. `id(a) == id(b)`와 동일\n",
    "- `is not` : 양쪽 변수의 주소가 다른지 판단. `id(a) != id(b)`와 동일\n"
   ]
  },
  {
   "cell_type": "code",
   "execution_count": null,
   "id": "d02686c9",
   "metadata": {},
   "outputs": [],
   "source": [
    "# 식별 연산자 예시 1: id 확인\n",
    "a = 2\n",
    "b = 2\n",
    "print(f\"id(a): {id(a)}\")\n",
    "print(f\"id(b): {id(b)}\")\n",
    "print(f\"id(a) == id(b): {id(a) == id(b)}\")\n"
   ]
  },
  {
   "cell_type": "code",
   "execution_count": null,
   "id": "7d5d9fa6",
   "metadata": {},
   "outputs": [],
   "source": [
    "# 식별 연산자 예시 2: is, is not 사용\n",
    "a = 2\n",
    "b = 2\n",
    "print(f\"a is b: {a is b}\")         # True\n",
    "print(f\"a is not b: {a is not b}\") # False\n",
    "\n",
    "# 다른 예시 (새로운 객체 생성)\n",
    "list1 = [1, 2]\n",
    "list2 = [1, 2]\n",
    "print(f\"\\nlist1 = {list1}, list2 = {list2}\")\n",
    "print(f\"list1 is list2: {list1 is list2}\")  # False, 리스트는 내용이 같아도 다른 객체\n"
   ]
  },
  {
   "cell_type": "markdown",
   "id": "3518b2f5",
   "metadata": {},
   "source": [
    "## 연산 오류\n",
    "\n",
    "### 타입 에러(type error)\n",
    "연산할 수 없는 자료형을 연산하면 타입 에러가 발생합니다.\n"
   ]
  },
  {
   "cell_type": "code",
   "execution_count": null,
   "id": "02a4bb34",
   "metadata": {},
   "outputs": [],
   "source": [
    "# 타입 에러 예시 (에러 발생)\n",
    "age = 23\n",
    "message = \"Happy \" + age + \"rd Birthday!\"\n",
    "print(message)\n"
   ]
  },
  {
   "cell_type": "markdown",
   "id": "71c3e011",
   "metadata": {},
   "source": [
    "#### 에러 내용\n",
    "- **에러 발생 위치**: 2번째 줄\n",
    "- **에러 내용**: `TypeError: Can't convert 'int' object to str implicitly`\n",
    "- **설명**: int 형을 암시적으로 문자열로 변환할 수 없음\n"
   ]
  },
  {
   "cell_type": "code",
   "execution_count": null,
   "id": "ac5455fb",
   "metadata": {},
   "outputs": [],
   "source": [
    "# 타입 에러 해결 방법 1: str() 함수 사용\n",
    "age = 23\n",
    "message = \"Happy \" + str(age) + \"rd Birthday!\"\n",
    "print(message)\n"
   ]
  },
  {
   "cell_type": "code",
   "execution_count": null,
   "id": "6e6fee9b",
   "metadata": {},
   "outputs": [],
   "source": [
    "# 타입 에러 해결 방법 2: f-string 사용\n",
    "age = 23\n",
    "message = f\"Happy {age}rd Birthday!\"\n",
    "print(message)\n"
   ]
  },
  {
   "cell_type": "markdown",
   "id": "4161de21",
   "metadata": {},
   "source": []
  }
 ],
 "metadata": {
  "kernelspec": {
   "display_name": "Python 3",
   "language": "python",
   "name": "python3"
  },
  "language_info": {
   "codemirror_mode": {
    "name": "ipython",
    "version": 3
   },
   "file_extension": ".py",
   "mimetype": "text/x-python",
   "name": "python",
   "nbconvert_exporter": "python",
   "pygments_lexer": "ipython3",
   "version": "3.12.4"
  }
 },
 "nbformat": 4,
 "nbformat_minor": 5
}
