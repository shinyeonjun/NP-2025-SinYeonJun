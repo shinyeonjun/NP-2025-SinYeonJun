{
 "cells": [
  {
   "cell_type": "markdown",
   "id": "b9733d48",
   "metadata": {},
   "source": [
    "## 2장 연습문제\n",
    "\n",
    "이 파일은 2장 학습하면서 연습문제를 푼 것입니다.\n",
    "\n",
    "날짜: 2025.9.10\n",
    "\n",
    "학번: 202110763\n",
    "\n",
    "이름: 신연준"
   ]
  },
  {
   "cell_type": "markdown",
   "id": "3fd26d32",
   "metadata": {},
   "source": [
    "# 논리 연산자 연습문제\n"
   ]
  },
  {
   "cell_type": "markdown",
   "id": "63d1f72c",
   "metadata": {},
   "source": [
    "## 문제 1\n",
    "5가 3보다 크고 7보다 작은지 검사하는 프로그램을 작성하라.\n"
   ]
  },
  {
   "cell_type": "code",
   "execution_count": null,
   "id": "dec5ece2",
   "metadata": {},
   "outputs": [],
   "source": [
    "# 문제 1 해결\n",
    "result = (5 > 3) and (5 < 7)\n",
    "print(f\"5는 3보다 크고 7보다 작은가? {result}\")\n"
   ]
  },
  {
   "cell_type": "markdown",
   "id": "cd4954b1",
   "metadata": {},
   "source": [
    "## 문제 2\n",
    "변수 x가 10 이상이고 20 이하인지 검사하는 프로그램을 작성하라.\n"
   ]
  },
  {
   "cell_type": "code",
   "execution_count": null,
   "id": "df2004ec",
   "metadata": {},
   "outputs": [],
   "source": [
    "# 문제 2 해결\n",
    "x = 15  # 예시 값\n",
    "result = (x >= 10) and (x <= 20)\n",
    "print(f\"변수 x({x})가 10 이상이고 20 이하인가? {result}\")\n"
   ]
  },
  {
   "cell_type": "markdown",
   "id": "15500093",
   "metadata": {},
   "source": [
    "## 문제 3\n",
    "변수 y가 5의 배수이거나 7의 배수인지 검사하는 프로그램을 작성하라.\n"
   ]
  },
  {
   "cell_type": "code",
   "execution_count": null,
   "id": "7fcf40b9",
   "metadata": {},
   "outputs": [],
   "source": [
    "# 문제 3 해결\n",
    "y = 10  # 예시 값 (5의 배수)\n",
    "result = (y % 5 == 0) or (y % 7 == 0)\n",
    "print(f\"변수 y({y})가 5의 배수이거나 7의 배수인가? {result}\")\n",
    "\n",
    "y = 14  # 예시 값 (7의 배수)\n",
    "result = (y % 5 == 0) or (y % 7 == 0)\n",
    "print(f\"변수 y({y})가 5의 배수이거나 7의 배수인가? {result}\")\n",
    "\n",
    "y = 35  # 예시 값 (5와 7의 배수)\n",
    "result = (y % 5 == 0) or (y % 7 == 0)\n",
    "print(f\"변수 y({y})가 5의 배수이거나 7의 배수인가? {result}\")\n",
    "\n",
    "y = 11  # 예시 값 (둘 다 아님)\n",
    "result = (y % 5 == 0) or (y % 7 == 0)\n",
    "print(f\"변수 y({y})가 5의 배수이거나 7의 배수인가? {result}\")\n"
   ]
  },
  {
   "cell_type": "markdown",
   "id": "ea9dc99e",
   "metadata": {},
   "source": [
    "## 문제 4\n",
    "변수 z가 양수이면서 짝수인지 검사하는 프로그램을 작성하라.\n"
   ]
  },
  {
   "cell_type": "code",
   "execution_count": null,
   "id": "03d52bf5",
   "metadata": {},
   "outputs": [],
   "source": [
    "# 문제 4 해결\n",
    "z = 4  # 예시 값 (양수, 짝수)\n",
    "result = (z > 0) and (z % 2 == 0)\n",
    "print(f\"변수 z({z})가 양수이면서 짝수인가? {result}\")\n",
    "\n",
    "z = -2  # 예시 값 (음수, 짝수)\n",
    "result = (z > 0) and (z % 2 == 0)\n",
    "print(f\"변수 z({z})가 양수이면서 짝수인가? {result}\")\n",
    "\n",
    "z = 3  # 예시 값 (양수, 홀수)\n",
    "result = (z > 0) and (z % 2 == 0)\n",
    "print(f\"변수 z({z})가 양수이면서 짝수인가? {result}\")\n"
   ]
  },
  {
   "cell_type": "markdown",
   "id": "68b658c4",
   "metadata": {},
   "source": [
    "## 문제 5\n",
    "변수 a가 문자열 \"hello\"나 문자열 \"world\" 중 하나인지 검사하는 프로그램을 작성하라.\n"
   ]
  },
  {
   "cell_type": "code",
   "execution_count": null,
   "id": "886011d8",
   "metadata": {},
   "outputs": [],
   "source": [
    "# 문제 5 해결\n",
    "a = \"hello\"  # 예시 값\n",
    "result = (a == \"hello\") or (a == \"world\")\n",
    "print(f\"변수 a('{a}')가 'hello'나 'world' 중 하나인가? {result}\")\n",
    "\n",
    "a = \"world\"  # 예시 값\n",
    "result = (a == \"hello\") or (a == \"world\")\n",
    "print(f\"변수 a('{a}')가 'hello'나 'world' 중 하나인가? {result}\")\n",
    "\n",
    "a = \"python\"  # 예시 값\n",
    "result = (a == \"hello\") or (a == \"world\")\n",
    "print(f\"변수 a('{a}')가 'hello'나 'world' 중 하나인가? {result}\")\n"
   ]
  }
 ],
 "metadata": {
  "language_info": {
   "name": "python"
  }
 },
 "nbformat": 4,
 "nbformat_minor": 5
}
