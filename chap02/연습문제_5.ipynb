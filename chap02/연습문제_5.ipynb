{
 "cells": [
  {
   "cell_type": "markdown",
   "id": "17336ebc",
   "metadata": {},
   "source": [
    "## 2장 연습문제\n",
    "\n",
    "이 파일은 2장 학습하면서 연습문제를 푼 것입니다.\n",
    "\n",
    "날짜: 2025.9.10\n",
    "\n",
    "학번: 202110763\n",
    "\n",
    "이름: 신연준"
   ]
  },
  {
   "cell_type": "markdown",
   "id": "9edc605d",
   "metadata": {},
   "source": [
    "# 연습문제 2\n"
   ]
  },
  {
   "cell_type": "markdown",
   "id": "c0372f99",
   "metadata": {},
   "source": [
    "## 문제 1\n",
    "초(seconds)를 입력받아 분(minutes)과 초(seconds)로 변환하여 표시하는 프로그램을 작성하라.\n",
    "예시: 200초를 입력하면 \"3분 20초\"로 표현\n"
   ]
  },
  {
   "cell_type": "code",
   "execution_count": null,
   "id": "d107c2bf",
   "metadata": {},
   "outputs": [],
   "source": [
    "# 문제 1 해결\n",
    "seconds = int(input(\"초를 입력하세요: \"))\n",
    "minutes = seconds // 60\n",
    "remaining_seconds = seconds % 60\n",
    "print(f\"{seconds}초는 {minutes}분 {remaining_seconds}초입니다.\")\n"
   ]
  },
  {
   "cell_type": "markdown",
   "id": "045a0662",
   "metadata": {},
   "source": [
    "## 문제 2\n",
    "분(minutes)을 입력받아 일(days), 시간(hours), 분(minutes)으로 변환하여 출력하는 프로그램을 작성하라.\n",
    "예시: 1550분을 입력하면 \"1일 1시간 50분\"으로 출력\n"
   ]
  },
  {
   "cell_type": "code",
   "execution_count": null,
   "id": "d98cf440",
   "metadata": {},
   "outputs": [],
   "source": [
    "# 문제 2 해결\n",
    "minutes = int(input(\"분을 입력하세요: \"))\n",
    "days = minutes // (24 * 60)  # 1일 = 1440분\n",
    "hours = (minutes % (24 * 60)) // 60\n",
    "remaining_minutes = minutes % 60\n",
    "print(f\"{minutes}분은 {days}일 {hours}시간 {remaining_minutes}분입니다.\")\n"
   ]
  },
  {
   "cell_type": "markdown",
   "id": "36470130",
   "metadata": {},
   "source": [
    "## 문제 3\n",
    "500만원을 연이율 5%의 복리(compound interest)로 저금했을 때, 5년 후의 원리금(principal and interest) 합계를 출력하는 프로그램을 작성하라.\n"
   ]
  },
  {
   "cell_type": "code",
   "execution_count": null,
   "id": "97edb0eb",
   "metadata": {},
   "outputs": [],
   "source": [
    "# 문제 3 해결\n",
    "principal = 5000000  # 500만원\n",
    "rate = 0.05  # 5%\n",
    "years = 5\n",
    "\n",
    "# 복리 공식: A = P(1 + r)^t\n",
    "amount = principal * (1 + rate) ** years\n",
    "print(f\"원금: {principal:,}원\")\n",
    "print(f\"연이율: {rate*100}%\")\n",
    "print(f\"기간: {years}년\")\n",
    "print(f\"5년 후 원리금 합계: {amount:,.0f}원\")\n"
   ]
  },
  {
   "cell_type": "markdown",
   "id": "02557bca",
   "metadata": {},
   "source": [
    "## 문제 4\n",
    "1부터 n까지의 합은 n(n+1)/2 공식으로 주어진다. 1부터 100까지의 합을 구하여 출력하는 프로그램을 작성하고 실행하라.\n"
   ]
  },
  {
   "cell_type": "code",
   "execution_count": null,
   "id": "dac88c4c",
   "metadata": {},
   "outputs": [],
   "source": [
    "# 문제 4 해결\n",
    "n = 100\n",
    "# 공식: n(n+1)/2\n",
    "sum_formula = n * (n + 1) // 2\n",
    "print(f\"1부터 {n}까지의 합: {sum_formula}\")\n",
    "\n",
    "# 검증: 반복문으로도 계산\n",
    "sum_loop = 0\n",
    "for i in range(1, n + 1):\n",
    "    sum_loop += i\n",
    "print(f\"반복문으로 계산한 결과: {sum_loop}\")\n",
    "print(f\"두 결과가 같은가? {sum_formula == sum_loop}\")\n"
   ]
  },
  {
   "cell_type": "markdown",
   "id": "db99322c",
   "metadata": {},
   "source": [
    "## 문제 5\n",
    "판매자가 딸기와 포도를 판매하고 있다. 포도 한 알의 무게는 75g이고, 딸기 한 알의 무게는 113.5g이다. 사용자로부터 포도 알의 개수와 딸기의 개수를 입력받아 총 무게를 계산하여 출력하는 프로그램을 작성하고 실행하라.\n"
   ]
  },
  {
   "cell_type": "code",
   "execution_count": null,
   "id": "4ea52bde",
   "metadata": {},
   "outputs": [],
   "source": [
    "# 문제 5 해결\n",
    "grape_weight = 75  # 포도 한 알 무게 (g)\n",
    "strawberry_weight = 113.5  # 딸기 한 알 무게 (g)\n",
    "\n",
    "grape_count = int(input(\"포도 알의 개수를 입력하세요: \"))\n",
    "strawberry_count = int(input(\"딸기의 개수를 입력하세요: \"))\n",
    "\n",
    "total_grape_weight = grape_count * grape_weight\n",
    "total_strawberry_weight = strawberry_count * strawberry_weight\n",
    "total_weight = total_grape_weight + total_strawberry_weight\n",
    "\n",
    "print(f\"포도 {grape_count}알의 무게: {total_grape_weight}g\")\n",
    "print(f\"딸기 {strawberry_count}개의 무게: {total_strawberry_weight}g\")\n",
    "print(f\"총 무게: {total_weight}g\")\n"
   ]
  }
 ],
 "metadata": {
  "language_info": {
   "name": "python"
  }
 },
 "nbformat": 4,
 "nbformat_minor": 5
}
