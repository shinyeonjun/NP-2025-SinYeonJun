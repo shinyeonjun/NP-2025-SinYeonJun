{
 "cells": [
  {
   "cell_type": "markdown",
   "id": "6b7ae825",
   "metadata": {},
   "source": [
    "### 08. 패키지\n",
    "\n",
    "#### 1. __init__.py의 역할\n",
    "- 파이썬 패키지로 인식\n",
    "    - __init__.py 파일은 해당 디렉토리를 Python 패키지로 인식하게 만듬\n",
    "    - Python 3.3 이상에서는 __init__.py가 없어도 패키지로 인식, but 명시적으로 포함하는 것이 권장  \n",
    "\n",
    "- 초기화 코드 실행:\n",
    "    - 패키지가 import될 때 실행할 초기화 코드를 포함O\n",
    "    - ex, 패키지 내에서 공통적으로 사용할 설정이나 변수 초기화를 수행O\n",
    "- __init__.py의 위치\n",
    "    - mypackage/\n",
    "    - │\n",
    "    - ├── __init__.py # 패키지 초기화 파일\n",
    "    - ├── module1.py\n",
    "    - └── module2.py"
   ]
  },
  {
   "cell_type": "markdown",
   "id": "8652d1e2",
   "metadata": {},
   "source": [
    "#### 2. 모듈vs패키지의 차이\n",
    "- 모듈(module) : python에서 하나의 .py 파일이 하나의 모듈\n",
    "    - 모듈은 함수, 클래스, 변수 등을 포함O, 코드 재사용을 위해 사용\n",
    "- 패키지(package) : python에서 디렉토리가 패키지\n",
    "    - 패키지는 여러 모듈을 포함할 수 있음\n",
    "    - 대규모 프로젝트에 필요\n",
    "    - 디렉토리에 __init__.py 가 필수적 (비어 있더라도 인식)\n",
    "\n",
    "|구분|모듈|패키지|\n",
    "|:---:|:---:|---|\n",
    "|구성 단위|하나의 .py 파일|디렉토리(여러 모듈 포함)|\n",
    "|초기화 파일|필요 없음|__init__.py 필요|\n",
    "|용도|코드 재사용|모듈을 그룹화하여 계층적 관리|\n",
    "|예시|math,os|mypackage(디렉토리)|"
   ]
  },
  {
   "cell_type": "markdown",
   "id": "3cfac0cc",
   "metadata": {},
   "source": [
    "### 3. 패키지(package)란\n",
    "- 패키지 : python에서 디렉토리가 패키지, 여러 모듈을 포함O, 디렉토리 내에 __init__.py 파일이 있어야 패키지로 인식됨\n",
    "\n",
    "- 특징\n",
    "    1. 디렉토리 단위로 구성\n",
    "    2. 모듈을 그룹화하여 계층 구조를 제공\n",
    "    3. 대규모 프로젝트에서 코드 구조를 체계적으로 관리하는데 유용\n",
    "\n",
    "- mypackage/\n",
    "    - ├── __init__.py # 패키지 초기화 파일\n",
    "    - ├── module1.py\n",
    "    - └── module2.py"
   ]
  },
  {
   "cell_type": "code",
   "execution_count": 4,
   "id": "cde6654c",
   "metadata": {},
   "outputs": [
    {
     "name": "stdout",
     "output_type": "stream",
     "text": [
      "4.0\n"
     ]
    },
    {
     "ename": "ImportError",
     "evalue": "cannot import name 'module1' from 'package' (c:\\Users\\gahoh\\Desktop\\network\\ch08\\package\\__init__.py)",
     "output_type": "error",
     "traceback": [
      "\u001b[31m---------------------------------------------------------------------------\u001b[39m",
      "\u001b[31mImportError\u001b[39m                               Traceback (most recent call last)",
      "\u001b[36mCell\u001b[39m\u001b[36m \u001b[39m\u001b[32mIn[4]\u001b[39m\u001b[32m, line 7\u001b[39m\n\u001b[32m      4\u001b[39m \u001b[38;5;28mprint\u001b[39m(math.sqrt(\u001b[32m16\u001b[39m))        \u001b[38;5;66;03m# 4.0\u001b[39;00m\n\u001b[32m      6\u001b[39m \u001b[38;5;66;03m# 패키지 사용\u001b[39;00m\n\u001b[32m----> \u001b[39m\u001b[32m7\u001b[39m \u001b[38;5;28;01mfrom\u001b[39;00m\u001b[38;5;250m \u001b[39m\u001b[34;01mpackage\u001b[39;00m\u001b[38;5;250m \u001b[39m\u001b[38;5;28;01mimport\u001b[39;00m module1\n\u001b[32m      8\u001b[39m module1.some_function()\n",
      "\u001b[31mImportError\u001b[39m: cannot import name 'module1' from 'package' (c:\\Users\\gahoh\\Desktop\\network\\ch08\\package\\__init__.py)"
     ]
    }
   ],
   "source": [
    "# 모듈과 패키지 사용법\n",
    "# math 모듈 사용\n",
    "import math\n",
    "print(math.sqrt(16))        # 4.0\n",
    "\n",
    "# 패키지 사용\n",
    "from package import module1\n",
    "module1.some_function()"
   ]
  }
 ],
 "metadata": {
  "kernelspec": {
   "display_name": "Python 3",
   "language": "python",
   "name": "python3"
  },
  "language_info": {
   "codemirror_mode": {
    "name": "ipython",
    "version": 3
   },
   "file_extension": ".py",
   "mimetype": "text/x-python",
   "name": "python",
   "nbconvert_exporter": "python",
   "pygments_lexer": "ipython3",
   "version": "3.13.7"
  }
 },
 "nbformat": 4,
 "nbformat_minor": 5
}
