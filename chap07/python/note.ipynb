{
 "cells": [
  {
   "cell_type": "markdown",
   "id": "98dc2190",
   "metadata": {},
   "source": [
    "### 07. 모듈\n",
    "\n",
    "#### 01. 모듈 설치와 불러오기\n",
    "- 모듈 : 함수, 변수, 클래스들을 모아놓은 파일 묶음(라이브러리)\n",
    "\n",
    "- 모듈의 종류\n",
    "1. 표준 모듈\n",
    "2. 서드 파티 모듈\n",
    "3. 사용자 정의 모듈\n",
    "\n",
    "- 서드 파티 모듈 설치\n",
    "c:~>pip install modulename [--upgrade]\n",
    "\n",
    "- 모듈 불러오기 : 프로그램 외부에 존재하는 모듈을 프로그램 내부로 불러와서 사용하기 위해 필요한 명령 *import*"
   ]
  },
  {
   "cell_type": "markdown",
   "id": "43d1afc2",
   "metadata": {},
   "source": [
    "1. import module_name\n",
    "- socket 모듈에 포함된 변수, 함수, 클래스를 사용O\n",
    "- dir(socket) : socket 모듈에 들어 있는 변수, 함수, 클래스를 보여줌\n",
    "- dir(socket.socket) : socket 모듈의 socket 클래스에 포함된 변수, 메소드를 보여줌"
   ]
  },
  {
   "cell_type": "code",
   "execution_count": null,
   "id": "958aa717",
   "metadata": {},
   "outputs": [],
   "source": [
    "import socket"
   ]
  },
  {
   "cell_type": "markdown",
   "id": "654d7dd4",
   "metadata": {},
   "source": [
    "2. from *module_name* import *class or methode*\n",
    "- import된 class 또는 methods 사용할 수 있다"
   ]
  },
  {
   "cell_type": "code",
   "execution_count": 2,
   "id": "ef86efb0",
   "metadata": {},
   "outputs": [
    {
     "data": {
      "text/plain": [
       "'DESKTOP-C6PMCB9'"
      ]
     },
     "execution_count": 2,
     "metadata": {},
     "output_type": "execute_result"
    }
   ],
   "source": [
    "from socket import gethostname\n",
    "gethostname() # ◀ class or methods 이름을 직접 호출"
   ]
  },
  {
   "cell_type": "markdown",
   "id": "463cdacc",
   "metadata": {},
   "source": [
    "3. from *module_name* import *\n",
    "- socket 모듈의 모든 속성을 사용할 수 O\n",
    "- 편리하지만, 메모리 多 차지 & 다른 함수 혼동 가능성O"
   ]
  },
  {
   "cell_type": "code",
   "execution_count": 3,
   "id": "5adaef87",
   "metadata": {},
   "outputs": [
    {
     "data": {
      "text/plain": [
       "'DESKTOP-C6PMCB9'"
      ]
     },
     "execution_count": 3,
     "metadata": {},
     "output_type": "execute_result"
    }
   ],
   "source": [
    "from socket import *\n",
    "gethostname() # ◀ 메소드를 직접 호출"
   ]
  },
  {
   "cell_type": "markdown",
   "id": "6941a00e",
   "metadata": {},
   "source": [
    "4. import *module_name* as *alias(단축이름)*\n",
    "- 모듈 이름이 긴 경우 단축이름으로 불러오기"
   ]
  },
  {
   "cell_type": "code",
   "execution_count": 4,
   "id": "2d51dd85",
   "metadata": {},
   "outputs": [
    {
     "data": {
      "text/plain": [
       "'DESKTOP-C6PMCB9'"
      ]
     },
     "execution_count": 4,
     "metadata": {},
     "output_type": "execute_result"
    }
   ],
   "source": [
    "import socket as so # ◀  모듈을 단축이름으로 불러오기\n",
    "so.gethostname()    # ◀  단축이름으로 속성 호출"
   ]
  },
  {
   "cell_type": "markdown",
   "id": "8a0886e3",
   "metadata": {},
   "source": [
    "+ 모듈 탐색 경로\n",
    "- 불러오는 모듈은 현재 디렉토리, sys.path(환경변수)에 저장된 디렉토리 순서로 찾음"
   ]
  },
  {
   "cell_type": "code",
   "execution_count": 5,
   "id": "5c95da39",
   "metadata": {},
   "outputs": [
    {
     "data": {
      "text/plain": [
       "['c:\\\\Users\\\\gahoh\\\\AppData\\\\Local\\\\Programs\\\\Python\\\\Python313\\\\python313.zip',\n",
       " 'c:\\\\Users\\\\gahoh\\\\AppData\\\\Local\\\\Programs\\\\Python\\\\Python313\\\\DLLs',\n",
       " 'c:\\\\Users\\\\gahoh\\\\AppData\\\\Local\\\\Programs\\\\Python\\\\Python313\\\\Lib',\n",
       " 'c:\\\\Users\\\\gahoh\\\\AppData\\\\Local\\\\Programs\\\\Python\\\\Python313',\n",
       " '',\n",
       " 'C:\\\\Users\\\\gahoh\\\\AppData\\\\Roaming\\\\Python\\\\Python313\\\\site-packages',\n",
       " 'C:\\\\Users\\\\gahoh\\\\AppData\\\\Roaming\\\\Python\\\\Python313\\\\site-packages\\\\win32',\n",
       " 'C:\\\\Users\\\\gahoh\\\\AppData\\\\Roaming\\\\Python\\\\Python313\\\\site-packages\\\\win32\\\\lib',\n",
       " 'C:\\\\Users\\\\gahoh\\\\AppData\\\\Roaming\\\\Python\\\\Python313\\\\site-packages\\\\Pythonwin',\n",
       " 'c:\\\\Users\\\\gahoh\\\\AppData\\\\Local\\\\Programs\\\\Python\\\\Python313\\\\Lib\\\\site-packages']"
      ]
     },
     "execution_count": 5,
     "metadata": {},
     "output_type": "execute_result"
    }
   ],
   "source": [
    "import os, sys\n",
    "os.getcwd()     # 현재 디렉토리 표시\n",
    "sys.path        # 환경변수에 지정된 디렉토리"
   ]
  },
  {
   "cell_type": "code",
   "execution_count": null,
   "id": "6f59b720",
   "metadata": {},
   "outputs": [],
   "source": [
    "# 사용자 정의 모듈(myModule.py) 사용하기\n",
    "import myModule             # 모듈을 불러온다. 파일이름에서 .py 제외\n",
    "hab = myModule.sum(10)      # 모듈의 sum 함수 실행\n",
    "pwr = myModule.power(2,3)   # 모듈의 power 함수 실행\n",
    "print(hab, pwr)"
   ]
  },
  {
   "cell_type": "markdown",
   "id": "ade73f2e",
   "metadata": {},
   "source": [
    "+ sys 모듈 : 파이썬 인터프리터에 관한 정보를 알 수 있음\n",
    "    - sys.version : 파이썬 버전 정보\n",
    "    - sys.prefix : 파이썬 설치 경로\n",
    "    - sys.path : 파이썬이 모듈을 찾는 경로\n",
    "    - sys.stdin.readline() : 표준 입력 장치, file 객체의 속성과 메소드 사용\n",
    "    - sys.stdout.write('Hello') : 표준 출력 장치. file 객체의 속성과 메소드 사용\n",
    "+ sys.argv 속성 : 명령 인수와 함께 프로그램을 실행 할 때 명령인수를 전달받음"
   ]
  },
  {
   "cell_type": "code",
   "execution_count": null,
   "id": "56a7699a",
   "metadata": {},
   "outputs": [
    {
     "name": "stdout",
     "output_type": "stream",
     "text": [
      "3.13.7 (tags/v3.13.7:bcee1c3, Aug 14 2025, 14:15:11) [MSC v.1944 64 bit (AMD64)]\n",
      "c:\\Users\\gahoh\\AppData\\Local\\Programs\\Python\\Python313\n",
      "['c:\\\\Users\\\\gahoh\\\\AppData\\\\Local\\\\Programs\\\\Python\\\\Python313\\\\python313.zip', 'c:\\\\Users\\\\gahoh\\\\AppData\\\\Local\\\\Programs\\\\Python\\\\Python313\\\\DLLs', 'c:\\\\Users\\\\gahoh\\\\AppData\\\\Local\\\\Programs\\\\Python\\\\Python313\\\\Lib', 'c:\\\\Users\\\\gahoh\\\\AppData\\\\Local\\\\Programs\\\\Python\\\\Python313', '', 'C:\\\\Users\\\\gahoh\\\\AppData\\\\Roaming\\\\Python\\\\Python313\\\\site-packages', 'C:\\\\Users\\\\gahoh\\\\AppData\\\\Roaming\\\\Python\\\\Python313\\\\site-packages\\\\win32', 'C:\\\\Users\\\\gahoh\\\\AppData\\\\Roaming\\\\Python\\\\Python313\\\\site-packages\\\\win32\\\\lib', 'C:\\\\Users\\\\gahoh\\\\AppData\\\\Roaming\\\\Python\\\\Python313\\\\site-packages\\\\Pythonwin', 'c:\\\\Users\\\\gahoh\\\\AppData\\\\Local\\\\Programs\\\\Python\\\\Python313\\\\Lib\\\\site-packages']\n"
     ]
    }
   ],
   "source": [
    "import sys\n",
    "print(sys.version) \n",
    "print(sys.prefix)\n",
    "print(sys.path)\n",
    "sys.stdin.readline()\n",
    "print(sys.stdout.write('Hello')) "
   ]
  },
  {
   "cell_type": "markdown",
   "id": "286429b5",
   "metadata": {},
   "source": [
    "+ random 모듈 : 난수를 만들 때 사용"
   ]
  },
  {
   "cell_type": "code",
   "execution_count": 1,
   "id": "91aa8871",
   "metadata": {},
   "outputs": [
    {
     "data": {
      "text/plain": [
       "'l'"
      ]
     },
     "execution_count": 1,
     "metadata": {},
     "output_type": "execute_result"
    }
   ],
   "source": [
    "import random\n",
    "random.randint(1,5)         # 1~5 사이의 임의 정수 생성\n",
    "\n",
    "random.random()             # 0~1 사이의 실수 생성\n",
    "\n",
    "random.randrange(1, 10, 1)  # (1~10 사이에서 step=1로 난수 발생)\n",
    "\n",
    "random.choice('hello')      # 'hello'에서 임의로 하나의 문자 반환"
   ]
  },
  {
   "cell_type": "markdown",
   "id": "a2cbeab9",
   "metadata": {},
   "source": [
    "+ math 모듈 : 수학적 계산을 위한 모듈"
   ]
  },
  {
   "cell_type": "code",
   "execution_count": 5,
   "id": "652f3dab",
   "metadata": {},
   "outputs": [
    {
     "name": "stdout",
     "output_type": "stream",
     "text": [
      "['__doc__', '__loader__', '__name__', '__package__', '__spec__', 'acos', 'acosh', 'asin', 'asinh', 'atan', 'atan2', 'atanh', 'cbrt', 'ceil', 'comb', 'copysign', 'cos', 'cosh', 'degrees', 'dist', 'e', 'erf', 'erfc', 'exp', 'exp2', 'expm1', 'fabs', 'factorial', 'floor', 'fma', 'fmod', 'frexp', 'fsum', 'gamma', 'gcd', 'hypot', 'inf', 'isclose', 'isfinite', 'isinf', 'isnan', 'isqrt', 'lcm', 'ldexp', 'lgamma', 'log', 'log10', 'log1p', 'log2', 'modf', 'nan', 'nextafter', 'perm', 'pi', 'pow', 'prod', 'radians', 'remainder', 'sin', 'sinh', 'sqrt', 'sumprod', 'tan', 'tanh', 'tau', 'trunc', 'ulp']\n",
      "3.141592653589793\n",
      "0.49999999999999994\n",
      "0.3010299956639812\n"
     ]
    }
   ],
   "source": [
    "import math\n",
    "print(dir(math))           # math 모듈의 함수와 상수\n",
    "\n",
    "print(math.pi)             # 원주율 상수값\n",
    "print(math.sin(math.pi/6)) # sin 함수\n",
    "print(math.log10(2))       # 로그 함수"
   ]
  },
  {
   "cell_type": "markdown",
   "id": "0ee363b8",
   "metadata": {},
   "source": [
    "+ time 모듈 : 시간을 문자열로 표시하는 모듈"
   ]
  },
  {
   "cell_type": "code",
   "execution_count": 6,
   "id": "72fa7758",
   "metadata": {},
   "outputs": [
    {
     "name": "stdout",
     "output_type": "stream",
     "text": [
      "1759196323.4527416\n",
      "Tue Sep 30 10:38:43 2025\n"
     ]
    }
   ],
   "source": [
    "import time\n",
    "print(time.time())     # 1970.1.1 0시부터 경과한 초\n",
    "print(time.asctime())  # 현재 날짜와 시간"
   ]
  },
  {
   "cell_type": "markdown",
   "id": "ea149fc2",
   "metadata": {},
   "source": [
    "+ calendar 모듈 : 달력을 출력하는 모듈"
   ]
  },
  {
   "cell_type": "code",
   "execution_count": 7,
   "id": "f55cda36",
   "metadata": {},
   "outputs": [
    {
     "name": "stdout",
     "output_type": "stream",
     "text": [
      "   September 2025\n",
      "Mo Tu We Th Fr Sa Su\n",
      " 1  2  3  4  5  6  7\n",
      " 8  9 10 11 12 13 14\n",
      "15 16 17 18 19 20 21\n",
      "22 23 24 25 26 27 28\n",
      "29 30\n",
      "\n"
     ]
    }
   ],
   "source": [
    "import calendar\n",
    "print(calendar.month(2025, 9))"
   ]
  },
  {
   "cell_type": "markdown",
   "id": "3f78bc92",
   "metadata": {},
   "source": [
    "+ enum 모듈 : 열거형 상수를 정의하기 위한 모듈"
   ]
  },
  {
   "cell_type": "code",
   "execution_count": 9,
   "id": "9e1021b7",
   "metadata": {},
   "outputs": [
    {
     "name": "stdout",
     "output_type": "stream",
     "text": [
      "RED 1\n",
      "Color.RED\n",
      "Color.GREEN\n",
      "Color.BLUE\n"
     ]
    }
   ],
   "source": [
    "from enum import Enum\n",
    "class Color(Enum):\n",
    "    RED = 1 # name = value\n",
    "    GREEN = 2\n",
    "    BLUE = 3\n",
    "\n",
    "# Color의 속성: Color.RED, Color.GREEN, Color.BLUE\n",
    "# 속성은 name(RED, GREEN, BLUE)과 value(1, 2, 3)를 가진다\n",
    "# 속성의 value를 변경할 수 없다\n",
    "\n",
    "print(Color.RED.name, Color.RED.value)\n",
    "\n",
    "# Color.RED = 5   # error 발생. 상수이므로 변경할 수 없음\n",
    "\n",
    "for x in Color: # Color의 모든 속성 출력\n",
    "    print(x)"
   ]
  }
 ],
 "metadata": {
  "kernelspec": {
   "display_name": "Python 3",
   "language": "python",
   "name": "python3"
  },
  "language_info": {
   "codemirror_mode": {
    "name": "ipython",
    "version": 3
   },
   "file_extension": ".py",
   "mimetype": "text/x-python",
   "name": "python",
   "nbconvert_exporter": "python",
   "pygments_lexer": "ipython3",
   "version": "3.13.7"
  }
 },
 "nbformat": 4,
 "nbformat_minor": 5
}
