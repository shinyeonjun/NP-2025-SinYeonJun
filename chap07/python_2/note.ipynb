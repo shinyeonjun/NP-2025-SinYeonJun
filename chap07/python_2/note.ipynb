{
 "cells": [
  {
   "cell_type": "markdown",
   "id": "2e11bcdd",
   "metadata": {},
   "source": [
    "### 09. 파이썬 가상환경\n",
    "\n",
    "#### 1. 파이썬 가상환경 (virtual environment)\n",
    "- 가상환경\n",
    "    - 프로젝트별로 독립된 파이썬 환경을 만드는 도구\n",
    "    - 각 프로젝트가 서로 다른 패키지 버전을 사용할 수 있게 함\n",
    "    - 시스템 파이썬 환경을 오염시키지 않음\n",
    "\n",
    "- 만드는 방법\n",
    "    1. venv (파이썬 3.3+ 내장 모듈)\n",
    "    2. conda (anaconda)\n",
    "    3. virtualenv (써드 파티 도구)"
   ]
  },
  {
   "cell_type": "markdown",
   "id": "ccb6649a",
   "metadata": {},
   "source": [
    "---\n",
    "### 1. venv (파이썬 3.3+ 내장 모듈) 방법\n",
    "- venv 가상환경 -> 간단히 사용하고 싶은 경우"
   ]
  },
  {
   "cell_type": "code",
   "execution_count": null,
   "id": "46c9890e",
   "metadata": {},
   "outputs": [],
   "source": [
    "# 가상환경 생성 (.venv 폴더 생성되고 그 아래 모든 정보가 저장됨)\n",
    "python -m venv .myvenv (python -m venv --help,--copies, --clear, --upgrade, --prompt)\n",
    "\n",
    "# Windows에서 활성화\n",
    ".\\.venv\\Scripts\\activate # ➔ (.venv) 프롬프트 생김\n",
    "\n",
    "# 활성화 시 오류가 발생하면 현재 실행 정책 확인\n",
    "Get-ExecutionPolicy\n",
    "\n",
    "# 현재 사용자에 대해서만 실행 정책 변경 (최초 1번)\n",
    "Set-ExecutionPolicy -ExecutionPolicy RemoteSigned -Scope CurrentUser\n",
    "\n",
    "# macOS/Linux에서 활성화\n",
    "# source myenv/bin/activate\n",
    "\n",
    "# 비활성화 (모든 OS 공통)\n",
    "deactivate"
   ]
  },
  {
   "cell_type": "markdown",
   "id": "66e5c608",
   "metadata": {},
   "source": [
    "---\n",
    "### 2. conda\n",
    "- Anaconda 설치 후 사용 가능 -> ai 등에는 필수적인 패키지 관리도구"
   ]
  },
  {
   "cell_type": "code",
   "execution_count": null,
   "id": "7b03967f",
   "metadata": {},
   "outputs": [],
   "source": [
    "# 가상환경 생성\n",
    "conda create -n myenv python=3.9\n",
    "\n",
    "# 활성화\n",
    "conda activate myenv\n",
    "\n",
    "# 비활성화\n",
    "conda deactivate\n",
    "\n",
    "# 환경 목록 보기\n",
    "conda env list\n",
    "\n",
    "# 환경 삭제\n",
    "conda env remove -n myenv"
   ]
  },
  {
   "cell_type": "markdown",
   "id": "8dd4c01d",
   "metadata": {},
   "source": [
    "---\n",
    "3. virtualenv (써드 파티 도구)"
   ]
  },
  {
   "cell_type": "code",
   "execution_count": null,
   "id": "b3d2a2ce",
   "metadata": {},
   "outputs": [],
   "source": [
    "# 설치\n",
    "pip install virtualenv\n",
    "\n",
    "# 가상환경 생성\n",
    "virtualenv myenv\n",
    "\n",
    "# 특정 파이썬 버전으로 생성\n",
    "virtualenv -p python3.9 myenv           # 특정 파이썬 버전으로 생성\n",
    "virtualenv --python=python3.8 myenv     # 긴 옵션 형태\n",
    "virtualenv -p /usr/bin/python3 myenv    # 절대 경로로 지정"
   ]
  },
  {
   "cell_type": "markdown",
   "id": "bb5e3784",
   "metadata": {},
   "source": [
    "---\n",
    "### 4. 가상 환경 및 모듈 자동 설치\n",
    "- 파이썬 가상환경\n",
    "    - 모듈, 모듈의 버전 등을 보존하여 버전 변경으로 인한 소스코드의 오류를 방지\n",
    "    - 가상환경을 만들고 설치한 이후에 해당 모듈은 해당 가상환경에 저장됨\n",
    "    - 설치된 모듈의 목록은 pip freeze > requirements.txt 로 저장\n",
    "    - 다른 가상환경에서 해당 목록을 자동 설치할 때에는 pip install -r requirements.txt 로 설치"
   ]
  },
  {
   "cell_type": "code",
   "execution_count": null,
   "id": "775d21c8",
   "metadata": {},
   "outputs": [],
   "source": [
    "# 1. 현재 설치된 패키지들을 requirements.txt로 저장\n",
    "pip freeze > requirements.txt\n",
    "\n",
    "# 2. requirements.txt에서 패키지들을 설치 (올바른 명령어)\n",
    "pip install -r requirements.txt"
   ]
  }
 ],
 "metadata": {
  "language_info": {
   "name": "python"
  }
 },
 "nbformat": 4,
 "nbformat_minor": 5
}
