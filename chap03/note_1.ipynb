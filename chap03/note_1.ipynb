{
 "cells": [
  {
   "cell_type": "markdown",
   "id": "9ad33aaa",
   "metadata": {},
   "source": [
    "## 3장 노트정리\n",
    "\n",
    "이 파일은 3장 학습하면서 실행한 내용을 정리한 것이다.\n",
    "\n",
    "날짜: 2025.9.17\n",
    "\n",
    "학번: 202110763\n",
    "\n",
    "이름: 신연준\n"
   ]
  },
  {
   "cell_type": "markdown",
   "id": "49dd4dd4",
   "metadata": {},
   "source": [
    "# if 문\n",
    "\n",
    "조건을 만족할 때 정해진 문장 블록을 실행\n",
    "\n",
    "## if 문의 기본 구조\n",
    "\n",
    "```\n",
    "if Condition(조건):\n",
    "    Block(블록)\n",
    "```\n",
    "\n",
    "- Condition(조건)이 참이면 다음의 Block(블록) 부분을 실행함\n",
    "- 조건이 참(True)이면 블록을 실행하고 아니면 블록을 건너뛴다\n"
   ]
  },
  {
   "cell_type": "code",
   "execution_count": null,
   "id": "cbc0d292",
   "metadata": {},
   "outputs": [],
   "source": [
    "score = int(input(\"정수 입력:\"))\n",
    "if score >= 90: #if문 끝에 을 붙인다\n",
    "    print(\"성적 : A\") #들여쓰기\n",
    "    print(\"장학금 수여\")\n"
   ]
  },
  {
   "cell_type": "code",
   "execution_count": null,
   "id": "9dd0187f",
   "metadata": {},
   "outputs": [],
   "source": [
    "age_0 = 22\n",
    "age_1 = 18\n",
    "age = int(input('your age? '))\n",
    "if age < age_0 and age > age_1: #복합 조건문\n",
    "    print(\"당신의 나이는 18~22세 사이입니다\")\n"
   ]
  },
  {
   "cell_type": "markdown",
   "id": "13738482",
   "metadata": {},
   "source": [
    "\n"
   ]
  },
  {
   "cell_type": "markdown",
   "id": "c4fa0e5e",
   "metadata": {},
   "source": [
    "# if-else 문\n",
    "\n",
    "## if-else 문의 기본 구조\n",
    "\n",
    "```\n",
    "if Condition(조건) :\n",
    "    Block1(블록1)\n",
    "else:\n",
    "    Block2(블록2)\n",
    "```\n",
    "\n",
    "- 조건이 참(True)이면 Block1을 실행하고 else: 는 무시\n",
    "- 참(True)이 아니면 else: 다음 Block2를 실행\n"
   ]
  },
  {
   "cell_type": "code",
   "execution_count": null,
   "id": "806da9de",
   "metadata": {},
   "outputs": [],
   "source": [
    "if score >= 90 :\n",
    "    print(\"pass\")\n",
    "else: #else도 끝에 :을 붙인다\n",
    "    print(\"fail\") #들여쓰기\n"
   ]
  },
  {
   "cell_type": "markdown",
   "id": "437eb18b",
   "metadata": {},
   "source": [
    "한 줄로 표현하기\n"
   ]
  },
  {
   "cell_type": "code",
   "execution_count": null,
   "id": "baa84eab",
   "metadata": {},
   "outputs": [],
   "source": [
    "res = 'pass' if score >= 90 else 'fail'\n",
    "print(res)\n"
   ]
  },
  {
   "cell_type": "markdown",
   "id": "52f7ea9b",
   "metadata": {},
   "source": [
    "# 조건문 예제\n",
    "\n",
    "## 평년과 윤년 구분하는 프로그램\n",
    "\n",
    "### 윤년 조건\n",
    "- 년도가 4로 나뉘어지고 100으로 나뉘어지지 않거나\n",
    "- 400으로 나뉘어지면 윤년이다\n"
   ]
  },
  {
   "cell_type": "code",
   "execution_count": null,
   "id": "8f5c2ec2",
   "metadata": {},
   "outputs": [],
   "source": [
    "year = int(input(\"Type a year :\"))\n",
    "if (year%4 == 0 and year%100 != 0) or (year%400) == 0:\n",
    "    print(year, \"is a leap year\")\n",
    "else:\n",
    "    print(year, \"is not a leap year\")\n"
   ]
  },
  {
   "cell_type": "markdown",
   "id": "887c1e35",
   "metadata": {},
   "source": [
    "# 중첩 if 문 - if 문 속에 또 다른 if 문\n",
    "\n",
    "수의 판별: 양수, 음수, 0\n"
   ]
  },
  {
   "cell_type": "code",
   "execution_count": null,
   "id": "32a790ac",
   "metadata": {},
   "outputs": [],
   "source": [
    "n = int(input(\"type int number: \"))\n",
    "if n > 0:\n",
    "    print(\"positive\")\n",
    "else:\n",
    "    if n < 0:\n",
    "        print(\"negative\")\n",
    "    else:\n",
    "        print(\"0\")\n"
   ]
  },
  {
   "cell_type": "code",
   "execution_count": null,
   "id": "7157af13",
   "metadata": {},
   "outputs": [],
   "source": [
    "n = int(input(\"type int number: \"))\n",
    "if n >= 0:\n",
    "    if n == 0:\n",
    "        print(\"0\")\n",
    "    else:\n",
    "        print(\"positive\")\n",
    "else:\n",
    "    print(\"negative\")\n"
   ]
  },
  {
   "cell_type": "markdown",
   "id": "7a84748b",
   "metadata": {},
   "source": [
    "# if-elif-else 문\n",
    "\n",
    "- if 조건1이 참이면 블록1, if 조건1이 거짓이고 elif 조건2이 참이면 블록2, 조건이 모두 거짓이면 블록3이 실행된다\n",
    "\n",
    "## if-elif-else 문의 기본 구조\n",
    "\n",
    "```\n",
    "if Condition1(조건1):\n",
    "    Block1(블록1)\n",
    "elif Condition2(조건2):\n",
    "    Block2(블록2)\n",
    "else:\n",
    "    Block3(블록3)\n",
    "```\n"
   ]
  },
  {
   "cell_type": "code",
   "execution_count": null,
   "id": "fff63b06",
   "metadata": {},
   "outputs": [],
   "source": [
    "n = int(input(\"type int number: \"))\n",
    "if n > 0:\n",
    "    print(\"positive\")\n",
    "elif n < 0:\n",
    "    print(\"negative\")\n",
    "else:\n",
    "    print(\"0\")\n"
   ]
  },
  {
   "cell_type": "markdown",
   "id": "97ae283d",
   "metadata": {},
   "source": [
    "# 다중 elif 문\n",
    "\n",
    "- 여러 개의 elif를 사용한 문장\n",
    "- if 또는 elif 조건 중 하나만 충족되면 나머지는 무시\n"
   ]
  },
  {
   "cell_type": "code",
   "execution_count": null,
   "id": "da3ed254",
   "metadata": {},
   "outputs": [],
   "source": [
    "age = 12\n",
    "if age < 4:\n",
    "    price = 0\n",
    "elif age < 18:\n",
    "    price = 5\n",
    "elif age < 65:\n",
    "    price = 10\n",
    "else:\n",
    "    price = 5\n",
    "print(\"Your admission cost is $\" + str(price) + \".\")\n"
   ]
  },
  {
   "cell_type": "markdown",
   "id": "33843216",
   "metadata": {},
   "source": [
    "입장료 계산 프로그램\n",
    "- 4세 미만: 무료\n",
    "- 4 =< 나이 <18: 5불\n",
    "- 65 > 나이: 10불\n",
    "- 나머지: 5불\n"
   ]
  },
  {
   "cell_type": "markdown",
   "id": "d3a999bb",
   "metadata": {},
   "source": [
    "# while 문\n",
    "\n",
    "조건이 충족되면 동일한 일을 반복 수행\n",
    "\n",
    "## while 문의 기본 구조\n",
    "\n",
    "```\n",
    "[초기화]\n",
    "while [조건] :\n",
    "    [블록]\n",
    "[다음문장]\n",
    "```\n",
    "\n",
    "- 조건이 만족되면 블록을 실행하고 다시 조건을 조사\n",
    "- 조건이 만족되지 않으면 다음 문장 실행\n"
   ]
  },
  {
   "cell_type": "markdown",
   "id": "b476fc28",
   "metadata": {},
   "source": [
    "## while 문 순서도\n",
    "\n",
    "```\n",
    "블록1\n",
    "   ↓\n",
    "조건 ←─── Y\n",
    "   ↓\n",
    "   N\n",
    "   ↓\n",
    "다음문장\n",
    "```\n"
   ]
  },
  {
   "cell_type": "code",
   "execution_count": null,
   "id": "726df2d0",
   "metadata": {},
   "outputs": [],
   "source": [
    "i = 1 #초기화\n",
    "sum = 0\n",
    "while i <= 100: #조건 판단. 끝에 :를 붙인다\n",
    "    sum = sum + i #블록\n",
    "    i = i + 1 #조건 변경\n",
    "\n",
    "print(\"sum=\", sum) #블록이 끝나면 다시 들여쓰기를 원래 위치로\n"
   ]
  },
  {
   "cell_type": "markdown",
   "id": "918ea86e",
   "metadata": {},
   "source": [
    "1~100까지의 합을 구하는 프로그램\n"
   ]
  },
  {
   "cell_type": "markdown",
   "id": "842b04d3",
   "metadata": {},
   "source": [
    "# 10진수를 입력 받아 2진수로 변환하여 출력하는 프로그램\n"
   ]
  },
  {
   "cell_type": "code",
   "execution_count": null,
   "id": "08e57030",
   "metadata": {},
   "outputs": [],
   "source": [
    "n = int(input('Number: '))\n",
    "result = \"\"\n",
    "#변환 결과 저장\n",
    "\n",
    "#10진수를 2로 나누어 몫이 0이 될 때까지 반복해서 나머지를 구한다\n",
    "while n != 0:\n",
    "    m = n % 2 #나머지\n",
    "    result = str(m) + result #숫자를 문자열로 변환\n",
    "    n = n // 2 #몫\n",
    "\n",
    "print(\"2진수 =\", result)\n"
   ]
  },
  {
   "cell_type": "markdown",
   "id": "8a49397e",
   "metadata": {},
   "source": [
    "# for 문\n",
    "\n",
    "## for 문의 기본 구조\n",
    "\n",
    "```\n",
    "for [변수] in [반복객체(리스트, 튜플, 문자열 등)]:\n",
    "    [블록]\n",
    "```\n",
    "\n",
    "- [반복객체]의 각 요소의 값을 하나씩 [변수]에 저장하고 블록을 실행\n",
    "- [반복객체]에 더 이상의 요소가 없을 때까지 반복\n"
   ]
  },
  {
   "cell_type": "code",
   "execution_count": null,
   "id": "e563cc61",
   "metadata": {},
   "outputs": [],
   "source": [
    "for i in [1, 2, 3]: #끝에 :를 붙인다\n",
    "    print(\"숫자\", i)\n"
   ]
  },
  {
   "cell_type": "markdown",
   "id": "dc97cabc",
   "metadata": {},
   "source": [
    "튜플, 문자열과 같은 반복 객체를 사용할 수도 있다.\n"
   ]
  },
  {
   "cell_type": "code",
   "execution_count": null,
   "id": "91d5fe27",
   "metadata": {},
   "outputs": [],
   "source": [
    "for i in (1, 2, 3):\n",
    "    print(\"숫자\", i)\n",
    "\n",
    "for i in 'hello':\n",
    "    print(i)\n"
   ]
  },
  {
   "cell_type": "markdown",
   "id": "569db8ad",
   "metadata": {},
   "source": [
    "# for-range 문\n",
    "\n",
    "## for-range 문의 기본 구조\n",
    "\n",
    "```\n",
    "for [변수] in range(start, stop, step):\n",
    "    [블록]\n",
    "```\n",
    "\n",
    "- range()는 반복 객체를 생성하는 함수\n",
    "- range(start, stop, step)의 형태\n",
    "- 예: list(range(1,5,1)) → [1,2,3,4]\n",
    "- 변수는 start부터 시작하여 step씩 증가하여 stop에 도달하면 종료 (stop은 포함하지 않음)\n",
    "- step이 1이면 생략 가능\n"
   ]
  },
  {
   "cell_type": "code",
   "execution_count": null,
   "id": "b77cbf34",
   "metadata": {},
   "outputs": [],
   "source": [
    "for i in range(1, 4, 1): #1부터 시작하여 1씩 증가하여 4가 되면 종료\n",
    "    print(\"Number\", i)\n"
   ]
  }
 ],
 "metadata": {
  "language_info": {
   "name": "python"
  }
 },
 "nbformat": 4,
 "nbformat_minor": 5
}
