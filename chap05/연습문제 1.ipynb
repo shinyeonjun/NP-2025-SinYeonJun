{
 "cells": [
  {
   "cell_type": "markdown",
   "id": "f3125aa9",
   "metadata": {},
   "source": [
    "1. 두 개의 매개변수 n, m을 전달받아 m x n개의 * 상자를 출력하는 프로그램을 함수로 작성\n",
    "예: 2, 4 → ****   \n",
    "&emsp;&emsp;&emsp;&emsp;&emsp;&emsp;****"
   ]
  },
  {
   "cell_type": "code",
   "execution_count": 1,
   "id": "87525d72",
   "metadata": {},
   "outputs": [
    {
     "name": "stdout",
     "output_type": "stream",
     "text": [
      "****\n",
      "****\n"
     ]
    }
   ],
   "source": [
    "def bix(n, m):\n",
    "    for i in range(n):\n",
    "        for j in range(m):\n",
    "            print('*', end='')\n",
    "        print()\n",
    "\n",
    "n, m = map(int, input().split())\n",
    "bix(n, m)"
   ]
  },
  {
   "cell_type": "markdown",
   "id": "b6fe59e9",
   "metadata": {},
   "source": [
    "2. 하나의 숫자를 전달받아 숫자의 자리 합을 구하는 함수를 작성\n",
    "예: 123 → 1+2+3 = 6"
   ]
  },
  {
   "cell_type": "code",
   "execution_count": 2,
   "id": "426087f4",
   "metadata": {},
   "outputs": [
    {
     "name": "stdout",
     "output_type": "stream",
     "text": [
      "6\n"
     ]
    }
   ],
   "source": [
    "def sum_all(n):\n",
    "    sum = 0\n",
    "    while n > 0:\n",
    "        sum += n % 10\n",
    "        n = n // 10\n",
    "    return sum\n",
    "\n",
    "n = int(input())\n",
    "print(sum_all(n))"
   ]
  },
  {
   "cell_type": "markdown",
   "id": "317175d1",
   "metadata": {},
   "source": [
    "3. 두 개의 문자열이 서로 다른 처음 위치를 반환하는 함수를 작성. 두 개의 문자열이 같으면 -1을\n",
    "반환"
   ]
  },
  {
   "cell_type": "code",
   "execution_count": 4,
   "id": "3dc586b2",
   "metadata": {},
   "outputs": [
    {
     "name": "stdout",
     "output_type": "stream",
     "text": [
      "2\n"
     ]
    }
   ],
   "source": [
    "def find_diff(str1, str2):\n",
    "    for i in range(len(str1)):\n",
    "        if str1[i] != str2[i]:\n",
    "            return i\n",
    "    return -1\n",
    "\n",
    "str1 = input()\n",
    "str2 = input()\n",
    "print(find_diff(str1, str2))\n"
   ]
  },
  {
   "cell_type": "markdown",
   "id": "7ebd3506",
   "metadata": {},
   "source": [
    "4. 숫자를 전달받아 그 수의 약수를 리스트로 반환하는 함수를 작성"
   ]
  },
  {
   "cell_type": "code",
   "execution_count": 5,
   "id": "27954c87",
   "metadata": {},
   "outputs": [
    {
     "name": "stdout",
     "output_type": "stream",
     "text": [
      "[1, 5, 25]\n"
     ]
    }
   ],
   "source": [
    "def find_divisors(n):\n",
    "    divisors = []\n",
    "    for i in range(1, n+1):\n",
    "        if n % i == 0:\n",
    "            divisors.append(i)\n",
    "    return divisors\n",
    "\n",
    "n = int(input())\n",
    "print(find_divisors(n))"
   ]
  },
  {
   "cell_type": "markdown",
   "id": "f7d56084",
   "metadata": {},
   "source": [
    "5. 문자열과 하나의 문자를 전달받아 문자열에서 문자의 위치를 모두 찾아 리스트로 반환하는 함수\n",
    "를 작성"
   ]
  },
  {
   "cell_type": "code",
   "execution_count": 6,
   "id": "d00641bd",
   "metadata": {},
   "outputs": [
    {
     "name": "stdout",
     "output_type": "stream",
     "text": [
      "[2, 4]\n"
     ]
    }
   ],
   "source": [
    "def find_positions(str, char):\n",
    "    positions = []\n",
    "    for i in range(len(str)):\n",
    "        if str[i] == char:\n",
    "            positions.append(i)\n",
    "    return positions\n",
    "\n",
    "str = input()\n",
    "char = input()\n",
    "print(find_positions(str, char))\n"
   ]
  },
  {
   "cell_type": "markdown",
   "id": "8f35dafb",
   "metadata": {},
   "source": [
    "6. 재귀 함수를 이용하여 1부터 100까지의 합을 계산하는 프로그램"
   ]
  },
  {
   "cell_type": "code",
   "execution_count": null,
   "id": "d9f884cb",
   "metadata": {},
   "outputs": [
    {
     "name": "stdout",
     "output_type": "stream",
     "text": [
      "5050\n"
     ]
    }
   ],
   "source": [
    "def sum_recursive(n):\n",
    "    if n == 1:\n",
    "        return 1\n",
    "    else:\n",
    "        return n + sum_recursive(n-1)\n",
    "\n",
    "n = 100\n",
    "print(sum_recursive(n))\n",
    "\n"
   ]
  }
 ],
 "metadata": {
  "kernelspec": {
   "display_name": "Python 3",
   "language": "python",
   "name": "python3"
  },
  "language_info": {
   "codemirror_mode": {
    "name": "ipython",
    "version": 3
   },
   "file_extension": ".py",
   "mimetype": "text/x-python",
   "name": "python",
   "nbconvert_exporter": "python",
   "pygments_lexer": "ipython3",
   "version": "3.13.7"
  }
 },
 "nbformat": 4,
 "nbformat_minor": 5
}
