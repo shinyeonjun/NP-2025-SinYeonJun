{
 "cells": [
  {
   "cell_type": "markdown",
   "id": "2b38ebc6",
   "metadata": {},
   "source": [
    "### (1). 파이썬의 함수\n",
    "#### 1. 함수 : 이름을 붙여 반복적으로 사용할 수 있는 프로그램 부분\n",
    "\n",
    "1. 함수를 사용하는 이유\n",
    "- 프로그램 안에서 중복된 코드 제거\n",
    "- 복잡한 프로그래밍 작업을 더 간단한 작업들로 분해\n",
    "- 다른 프로그램에서도 재사용 가능\n",
    "- 가독성(프로그램의 이해) 증대, 유지보수 용이\n",
    "\n",
    "2. 파이썬의 함수 = 일급 함수\n",
    "- 변수에 할당 : a = func\n",
    "- 다른 함수의 인자로 전달 가능 : func(func)\n",
    "- return문으로 반환 가능\n",
    "\n",
    "3. 함수의 종류\n",
    "1. 내장 함수\n",
    "2. 사용자 정의 함수\n",
    "\n",
    "4. 사용자 정의 함수의 작성\n",
    "```\n",
    "def 함수이름(매개변수): ▶ 함수의 이름과 매개변수 정의 \n",
    "문장1\n",
    "문장2\n",
    "return 값\n",
    "```\n",
    "▶ 함수 종료시 반환 값. 들여쓰기가 끝나는 부분까지 함수"
   ]
  },
  {
   "cell_type": "code",
   "execution_count": null,
   "id": "934ebad0",
   "metadata": {},
   "outputs": [
    {
     "name": "stdout",
     "output_type": "stream",
     "text": [
      "Hello,  John\n",
      "Wecome to Python\n",
      "한변의 길이가 5인 정사각형의 넓이는 25\n",
      "한변의 길이가 7인 정사각형의 넓이는 49\n"
     ]
    }
   ],
   "source": [
    "# 함수의 정의와 호출 예\n",
    "def welcome(name) :         # 함수의 정의\n",
    "    print(\"Hello, \", name)  # return 문이 없어도 됨. None 반환\n",
    "welcome('John')             # 함수의 호출. 'John'이 매개변수로 전달됨\n",
    "\n",
    "# 반환 값이 없는 함수\n",
    "def prtStr(str) :           # str을 매개변수라 함\n",
    "    print(\"%s\" %str)\n",
    "    return                  # 반환 값이 없이 함수가 종료\n",
    "str = \"Wecome to Python\"\n",
    "prtStr(str)                 # 매개변수를 전달하여 함수 호출\n",
    "\n",
    "# 값을 반환하는 함수\n",
    "def squareArea(s) :\n",
    "    area = s * s\n",
    "    return area              # area 값이 반환되고 종료\n",
    "a = squareArea(5)            # 5를 인자(argument)라 함. 반환 값이 a에 저장\n",
    "b = squareArea(7)\n",
    "print(\"한변의 길이가 %d인 정사각형의 넓이는 %d\" %(5, a))\n",
    "print(\"한변의 길이가 %d인 정사각형의 넓이는 %d\" %(7, b))\n",
    "\n",
    "# 1~n까지의 합을 계산하는 함수\n",
    "def sum(n):                 # 매개변수 n을 전달받는다\n",
    "   hab = 0\n",
    "   for i in range(1, n+1):  # 1~n까지 반복\n",
    "   hab = hab + i            # 합에 새로운 수를 더한다\n",
    "   return hab               # 반환값 = hab\n",
    "a = sum(50)                 # 함수를 호출하여(인자=50) 1부터 50까지의 합을 계산\n",
    "b = sum(1000)               # 함수를 호출하여(인자=50) 1부터 1000까지의 합\n",
    "print(a)\n",
    "print(b)"
   ]
  },
  {
   "cell_type": "code",
   "execution_count": 3,
   "id": "34a5b8ce",
   "metadata": {},
   "outputs": [
    {
     "name": "stdout",
     "output_type": "stream",
     "text": [
      "원의 면적은 78.5 cm²\n",
      "원의 둘레는 31.400000000000002 cm\n"
     ]
    }
   ],
   "source": [
    "# 반지름을 전달하면 원의 면적을 반환하는 cir_area(r) 함수와 \n",
    "# 원의 둘레를 반환하는 cir_cirm(r) 함수를 작성하라. \n",
    "# 이들 함수를 이용하여 반지름이 3.5cm인 원의 면적과 둘레를 소수점 아래 첫 자리까지 구하라.\n",
    "def cir_area(r):\n",
    "    return 3.14 * r * r\n",
    "\n",
    "def cir_cirm(r):\n",
    "    return 2 * 3.14 * r\n",
    "\n",
    "r = int(input(\"반지름을 입력하세요: \"))\n",
    "print(\"원의 면적은\", cir_area(r), \"cm²\")\n",
    "print(\"원의 둘레는\", cir_cirm(r), \"cm\")"
   ]
  },
  {
   "cell_type": "markdown",
   "id": "4da184bf",
   "metadata": {},
   "source": [
    "---\n",
    "### 2. 함수와 변수\n",
    "#### 지역 변수(local variable)와 전역 변수(global variable)\n",
    "- 지역 변수: 함수 내에서만 값이 유효\n",
    "- 전역 변수: 프로그램 전체에서 값이 유효\n"
   ]
  },
  {
   "cell_type": "code",
   "execution_count": 4,
   "id": "34a7bb1f",
   "metadata": {},
   "outputs": [
    {
     "name": "stdout",
     "output_type": "stream",
     "text": [
      "func1()의 v = 10\n",
      "func2()의 v = 20\n"
     ]
    }
   ],
   "source": [
    "# 함수 선언부\n",
    "def func1() :\n",
    "    v = 10      # 함수 func1()안의 지역 변수. func1 내에서만 유효\n",
    "    print(\"func1()의 v = %d\" % v)\n",
    "def func2() :\n",
    "    v = 20      # 함수 func2()안의 지역 변수. func2 내에서만 유효\n",
    "    print(\"func2()의 v = %d\" % v)\n",
    "    \n",
    "# 메인 코드 부분\n",
    "func1()\n",
    "func2()"
   ]
  },
  {
   "cell_type": "code",
   "execution_count": 5,
   "id": "13943c3d",
   "metadata": {},
   "outputs": [
    {
     "name": "stdout",
     "output_type": "stream",
     "text": [
      "func1()의 v = 10\n",
      "func2()의 v = 20\n"
     ]
    }
   ],
   "source": [
    "#  전역 변수의 유효 범위\n",
    "# 함수 선언부\n",
    "def func1() :\n",
    "    v = 10                        # 함수 func1()안의 지역 변수. 지역 변수가 우선 사용\n",
    "    print(\"func1()의 v = %d\" % v)\n",
    "def func2() :\n",
    "    print(\"func2()의 v = %d\" % v) # 함수 func2()안의 전역 변수\n",
    "\n",
    "# 전역변수\n",
    "v = 20                           # 전역 변수이므로 프로그램 내에서 유효\n",
    "\n",
    "# 메인 코드 부분\n",
    "func1() #지역 변수 값인 10을 출력. 지역 변수가 없을 때 전역 변수 사용\n",
    "func2() #전역 변수 값인 20을 출력"
   ]
  },
  {
   "cell_type": "code",
   "execution_count": 6,
   "id": "5fb56beb",
   "metadata": {},
   "outputs": [
    {
     "name": "stdout",
     "output_type": "stream",
     "text": [
      "func1()의 v = 10\n",
      "func2()의 변경된 전역 v = 30\n",
      "30\n"
     ]
    }
   ],
   "source": [
    "# 전역 변수의 선언\n",
    "# 함수 선언부\n",
    "def func1() :\n",
    "    v = 10 #함수 func1()안의 지역 변수\n",
    "    print(\"func1()의 v = %d\" % v)\n",
    "def func2() :\n",
    "    global v #v를 전역 변수로 선언\n",
    "    v = 30\n",
    "    print(\"func2()의 변경된 전역 v = %d\" % v)\n",
    "\n",
    "v = 20 #함수 밖에서 정의 되었으므로 전역 변수\n",
    "\n",
    "# 메인 코드 부분\n",
    "func1() #10을 출력\n",
    "func2() #30을 출력\n",
    "print(v) #30을 출력. 전역변수 v가 변경됨"
   ]
  },
  {
   "cell_type": "code",
   "execution_count": 7,
   "id": "9326bcf6",
   "metadata": {},
   "outputs": [
    {
     "name": "stdout",
     "output_type": "stream",
     "text": [
      "default\n",
      "Hi! Hi! Hi! Hi! Hi! \n",
      "Hi!  Abe, Nothing new?\n",
      "Hi!  Bob, Good morning!\n"
     ]
    }
   ],
   "source": [
    "# 함수 매개변수의 전달\n",
    "# 매개변수의 기본값 지정(기본 매개변수)\n",
    "def prtMesg(message, count = 1):        # count의 기본값이 1로 지정\n",
    "    print (message * count)\n",
    "prtMesg('default')                      # message='default'. count는 기본값 사용\n",
    "prtMesg('Hi! ', 5)                      # message와 count 인자 전달\n",
    "\n",
    "def greet(name, msg = \"Nothing new?\"):\n",
    "    print(\"Hi! \", name + ', ' + msg)\n",
    "greet(\"Abe\")                            # name 만 전달\n",
    "greet(\"Bob\", \"Good morning!\")           # name과 msg 전달\n",
    "\n",
    "# 일반(위치) 매개변수의 값을 전달하지 않으면 오류\n",
    "# prtMesg(count=3)\n",
    "# Traceback (most recent call last):\n",
    "#  File \"<pyshell#4>\", line 1, in <module>\n",
    "#  prtMesg(count=3)\n",
    "# TypeError: prtMesg() missing 1 required positional argument: 'm\n"
   ]
  },
  {
   "cell_type": "code",
   "execution_count": 10,
   "id": "8b2fc9c1",
   "metadata": {},
   "outputs": [
    {
     "name": "stdout",
     "output_type": "stream",
     "text": [
      "6\n",
      "15\n",
      "Kennedy : 35-th president\n",
      "Obama : 44-th president\n",
      "Trump : 45-th president\n"
     ]
    }
   ],
   "source": [
    "# 가변 매개변수-매개변수의 개수가 가변일 때\n",
    "## 매개변수가 *arg로 표시되면 튜플로 처리\n",
    "def total(*numbers):\n",
    "   sum = 0\n",
    "   for n in numbers:        # 전달 받은 매개변수를 튜플로 처리\n",
    "    sum += n\n",
    "   return sum\n",
    "print (total(1,2,3))        # 3개의 인자\n",
    "print (total(1,2,3,4,5))    # 5개의 인자\n",
    "\n",
    "## 매개변수가 **keywords로 표시되면 딕셔너리로 처리\n",
    "def dicPresident(**keywords):\n",
    "   for i in keywords.keys():  # 딕셔너리 key를 하나씩 처리\n",
    "      print(\"%s : %d-th president\" %(i, keywords[i]))\n",
    "dicPresident(Kennedy=35, Obama=44, Trump=45) # (key=value)로 전달"
   ]
  },
  {
   "cell_type": "code",
   "execution_count": 11,
   "id": "79f090ea",
   "metadata": {},
   "outputs": [
    {
     "name": "stdout",
     "output_type": "stream",
     "text": [
      "a= 4 b= 5 c= 3\n",
      "12\n",
      "a= 5 b= 2 c= 7\n",
      "14\n"
     ]
    }
   ],
   "source": [
    "# 키워드를 이용한 매개변수 전달\n",
    "## 매개변수의 위치가 아니라 키워드를 이용하여 매개변수 전달\n",
    "def func(a, b=2, c=3): #a: 위치 매개변수, b, c: 키워드 매개변수\n",
    "    print('a=', a, 'b=', b, 'c=', c)\n",
    "    return a + b + c\n",
    "print(func(4, 5)) #인자 위치에 의해 a=4, b=5로 전달\n",
    "print(func(5, c=7)) #키워드 c를 이용한 전달. a=5, c=7, b는 기본값"
   ]
  },
  {
   "cell_type": "markdown",
   "id": "bf207f44",
   "metadata": {},
   "source": [
    "---\n",
    "### 3. 람다(lambda) 함수 : 이름이 없는 한 줄짜리 함수\n",
    "- lambda parameters: expr ◀ lambda 함수의 정의\n",
    "- parameters는 매개변수, expr는 결과가 return되는 수식\n",
    "- lambda x, y: x + y  ◀ 매개변수 x, y를 전달받아 x + y를 리턴\n",
    "- 두 개 이상의 값을 리턴하려면 튜플, 리스트 사용\n",
    "- lambda x, y: (x + y, x * y) (x+y, x*y) 튜플을 반환\n",
    "- 람다 함수의 호출\n",
    "> (lambda x, y: x + y)(1, 2)\n"
   ]
  },
  {
   "cell_type": "code",
   "execution_count": 12,
   "id": "6f806aa1",
   "metadata": {},
   "outputs": [
    {
     "name": "stdout",
     "output_type": "stream",
     "text": [
      "정수의 합 :  30\n",
      "정수의 합 :  40\n"
     ]
    }
   ],
   "source": [
    "sum = lambda x, y: x+y # lambda는 함수다!\n",
    "print( \"정수의 합 : \", sum( 10, 20 )) # 10+20을 반환\n",
    "print( \"정수의 합 : \", sum( 20, 20 )) # 20+20을 반환"
   ]
  },
  {
   "cell_type": "markdown",
   "id": "529881e5",
   "metadata": {},
   "source": [
    "---\n",
    "### 4. 재귀 함수(recursion function)\n",
    "- 함수 내에서 자기 자신을 호출하는 함수\n",
    "- 같은 동작을 반복할 때 재귀 함수 사용\n",
    "- 함수가 종료되는 조건을 반드시 포함해야 한다"
   ]
  },
  {
   "cell_type": "code",
   "execution_count": 13,
   "id": "1d02c876",
   "metadata": {},
   "outputs": [
    {
     "name": "stdout",
     "output_type": "stream",
     "text": [
      "120\n"
     ]
    }
   ],
   "source": [
    "# factorial(n!)을 구하는 재귀 함수\n",
    "def fact(n):\n",
    "    if n==1:                # 재귀 함수 종료 조건. n=0이면 종료\n",
    "        return 1\n",
    "    else:\n",
    "        return n*fact(n-1)  # n! = n x (n-1)!\n",
    "print(fact(5))"
   ]
  },
  {
   "cell_type": "markdown",
   "id": "7f4fb0ae",
   "metadata": {},
   "source": [
    "---\n",
    "### 5. 내장 함수 \n",
    "1. eval(expr,[globals[,locals]])   \n",
    "• 문자열로 표시된 expr의 계산 결과를 반환. 계산할 수 없으면 오류  \n",
    "\n",
    "2. int <-> bin, oct, hex  \n",
    "• int(str, base=10)  \n",
    "• 문자열 str을 10진수로 변환  \n",
    "\n",
    "3. filter  \n",
    "• filter(func,seq)  \n",
    "• seq의 각 요소에 대해 func를 호출하여 결과 True인 요소만 모아서 iterable로 반환  \n",
    "\n",
    "4. map  \n",
    "• map(func, seq, ...)  \n",
    "• seq의 각 요소에 대해 func를 호출하여 실행하고 결과를 iterable로 반환  \n",
    "\n",
    "5. ord (반대: chr)  \n",
    "• ord(ch) – ordinal 의 약자 (순서가 있는 정수값)  \n",
    "• Ch에 대한 ASCII 코드 반환 (유니코드 문자 )  \n",
    "• ord('A') → 65  \n",
    "• hex(ord(“한”)) → 0xd55c  \n",
    "\n",
    "6. repr  \n",
    "• repr(obj) (유니코드 문자도 가능)  \n",
    "• obj를 문자열로 변환  \n",
    "• repr(b'0011') → \"b'0011’”  \n",
    "\n",
    "7. round  \n",
    "• round(x, n=0)  \n",
    "• 실수 x를 소수점 아래 n자리로 반올림하여 반환  \n",
    "\n",
    "8. zip  \n",
    "• zip(seq, *seqs)    \n",
    "• seq 요소와 *seqs 요소의 튜플 쌍으로 만들어 리스트 iterable 반환  \n"
   ]
  },
  {
   "cell_type": "code",
   "execution_count": 7,
   "id": "4f38f04c",
   "metadata": {},
   "outputs": [
    {
     "name": "stdout",
     "output_type": "stream",
     "text": [
      "7\n",
      "123\n",
      "10\n",
      "['this', 'test']\n",
      "<map object at 0x000002897A3E7A60>\n",
      "12.3\n",
      "12.35\n",
      "Peter Parker is actually Spiderman\n",
      "Clark Kent is actually Superman\n",
      "Wade Wilson is actually Deadpool\n",
      "Bruce Wayne is actually Batman\n"
     ]
    },
    {
     "data": {
      "text/plain": [
       "[('Peter Parker', 'Spiderman'),\n",
       " ('Clark Kent', 'Superman'),\n",
       " ('Wade Wilson', 'Deadpool'),\n",
       " ('Bruce Wayne', 'Batman')]"
      ]
     },
     "execution_count": 7,
     "metadata": {},
     "output_type": "execute_result"
    }
   ],
   "source": [
    "# eval 실습\n",
    "print(eval('1+2*3'))\n",
    "\n",
    "# int <-> bin, oct, hex 실습\n",
    "print(int('123'))\n",
    "print(int('1010', 2)) #'1010'을 2진수로 이해\n",
    "\n",
    "# filter 실습\n",
    "#  리스트 요소 중에서 길이가 2보다 큰 요소만 모음\n",
    "print(list(filter(lambda x: len(x)>2, ['this', 'is', 'a', 'test'])))\n",
    "\n",
    "# map 실습\n",
    "def Squares(n):\n",
    "    return n**2\n",
    "numbers = [1,3,5,9]\n",
    "#Squares 함수에 numbers 요소를 하나씩 대입\n",
    "print(map(Squares, numbers))\n",
    "\n",
    "# round 실습\n",
    "print(round(12.345, 1))\n",
    "print(round(12.345, 2))\n",
    "\n",
    "# zip 실습\n",
    "names = ['Peter Parker', 'Clark Kent', 'Wade Wilson', 'Bruce Wayne']\n",
    "heroes = ['Spiderman', 'Superman', 'Deadpool', 'Batman']\n",
    "for name, hero in zip(names, heroes):\n",
    "    print(f'{name} is actually {hero}')\n",
    "list(zip(names,heroes))"
   ]
  },
  {
   "cell_type": "markdown",
   "id": "331395fb",
   "metadata": {},
   "source": [
    "---\n",
    "### (2) 타입이 있는 함수와 변수 정의\n",
    "#### 1. 변수의 타입, 함수의 반환 타입"
   ]
  },
  {
   "cell_type": "code",
   "execution_count": 8,
   "id": "fc267c64",
   "metadata": {},
   "outputs": [],
   "source": [
    "# 동적 변수 타입, 함수의 반환 타입이 기본\n",
    "# 예) 기본적으로 타입을 명시하지 않아도 알아서 타입을 추론\n",
    "def add(a, b):\n",
    "    return a + b\n",
    "def greet(name):\n",
    "    return f\"Hello, {name}!\"\n",
    "def get_list():\n",
    "    return [1, 2, 3]"
   ]
  },
  {
   "cell_type": "code",
   "execution_count": 9,
   "id": "20eefaa5",
   "metadata": {},
   "outputs": [],
   "source": [
    "# 명시적 변수 타입, 함수의 반환 타입이 기본\n",
    "# 예) 정확한 계산이 필요할 경우에 타입힌트(hint)를 통해서 가독성과 유지보수성 향상\n",
    "def add(a: int, b: int) -> int:\n",
    "    return a + b\n",
    "def greet(name: str) -> str:\n",
    "    return f\"Hello, {name}!\"\n",
    "def get_list() -> list:\n",
    "    return [1, 2, 3]"
   ]
  },
  {
   "cell_type": "markdown",
   "id": "6198aa95",
   "metadata": {},
   "source": [
    "### 2. 명시적 타입 습관\n",
    "#### 1. 타입힌트\n",
    "• Python 3.5버전 (2015년 9월 이후 지원하기 시작함)  \n",
    "• 그 이전 버전의 코드에는 타입을 지정할 수 없음  \n",
    "\n",
    "#### 2. 타입힌트의 장점\n",
    "• 코드의 가독성 향상: 함수의 입력값과 반환값 타입을 명확히 하여 코드 이해가 쉬워집니다.\n",
    "• 버그 예방: 타입 불일치로 인한 오류를 사전에 발견할 수 있습니다.  \n",
    "• 도구 지원: 타입 검사 도구(mypy 등)를 활용해 정적 분석이 가능해집니다.  \n",
    "• 대규모 프로젝트에서 유지보수성 강화: 여러 개발자가 협업할 때 타입 정보를 통해 의도를 명확히 전달할 수 있습니다"
   ]
  }
 ],
 "metadata": {
  "kernelspec": {
   "display_name": "Python 3",
   "language": "python",
   "name": "python3"
  },
  "language_info": {
   "codemirror_mode": {
    "name": "ipython",
    "version": 3
   },
   "file_extension": ".py",
   "mimetype": "text/x-python",
   "name": "python",
   "nbconvert_exporter": "python",
   "pygments_lexer": "ipython3",
   "version": "3.13.7"
  }
 },
 "nbformat": 4,
 "nbformat_minor": 5
}
